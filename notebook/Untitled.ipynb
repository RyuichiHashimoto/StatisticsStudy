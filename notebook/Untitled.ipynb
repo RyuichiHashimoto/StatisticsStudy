{
 "cells": [
  {
   "cell_type": "code",
   "execution_count": 3,
   "id": "d73924b8-3388-4a40-a28c-20080cb52e68",
   "metadata": {},
   "outputs": [],
   "source": [
    "a = [[0.877,0.123],[0.293,0.707]]"
   ]
  },
  {
   "cell_type": "code",
   "execution_count": 5,
   "id": "ceef1a4d-6d9d-4ab9-a559-53e3e0fd73a4",
   "metadata": {},
   "outputs": [],
   "source": [
    "odd_1 =a[0][0]/a[0][1]\n",
    "odd_2 =a[1][0]/a[1][1]"
   ]
  },
  {
   "cell_type": "code",
   "execution_count": 7,
   "id": "b0125f46-4d6d-4d02-935d-b3907fa6a983",
   "metadata": {},
   "outputs": [
    {
     "data": {
      "text/plain": [
       "17.204667166125585"
      ]
     },
     "execution_count": 7,
     "metadata": {},
     "output_type": "execute_result"
    }
   ],
   "source": [
    "odd_1/odd_2"
   ]
  },
  {
   "cell_type": "code",
   "execution_count": null,
   "id": "03027a98-5392-4ecf-8575-3931e4dfb3c5",
   "metadata": {},
   "outputs": [],
   "source": [
    "\n"
   ]
  }
 ],
 "metadata": {
  "kernelspec": {
   "display_name": "Python 3 (ipykernel)",
   "language": "python",
   "name": "python3"
  },
  "language_info": {
   "codemirror_mode": {
    "name": "ipython",
    "version": 3
   },
   "file_extension": ".py",
   "mimetype": "text/x-python",
   "name": "python",
   "nbconvert_exporter": "python",
   "pygments_lexer": "ipython3",
   "version": "3.7.12"
  }
 },
 "nbformat": 4,
 "nbformat_minor": 5
}
