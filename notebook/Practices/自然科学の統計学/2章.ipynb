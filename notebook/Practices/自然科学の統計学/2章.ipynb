{
 "cells": [
  {
   "cell_type": "code",
   "execution_count": 29,
   "id": "352ed0c1",
   "metadata": {},
   "outputs": [],
   "source": [
    "import numpy as np\n",
    "import matplotlib.pyplot as plt"
   ]
  },
  {
   "cell_type": "markdown",
   "id": "0cce7a3b",
   "metadata": {},
   "source": [
    "## 2.6節"
   ]
  },
  {
   "cell_type": "code",
   "execution_count": 7,
   "id": "76ab802f",
   "metadata": {},
   "outputs": [],
   "source": [
    "x = np.array([2.62, 2.75, 2.85, 2.92, 2.92, 3.05, 3.14, 3.15, 3.23, 3.26, 3.36, 3.44, 3.66, 3.74, 4.04])\n",
    "y = np.array([209, 237, 273, 316, 283, 317, 321, 356, 404, 368, 405, 429, 413, 440, 439])"
   ]
  },
  {
   "cell_type": "code",
   "execution_count": 22,
   "id": "d6204fb9",
   "metadata": {},
   "outputs": [],
   "source": [
    "def div(x, y):\n",
    "    return (x-np.mean(x))@(y-np.mean(y))"
   ]
  },
  {
   "cell_type": "code",
   "execution_count": 27,
   "id": "ae660866",
   "metadata": {},
   "outputs": [],
   "source": [
    "Sxx = div(x, x)\n",
    "Sxy = div(x, y)"
   ]
  },
  {
   "cell_type": "code",
   "execution_count": 26,
   "id": "10db13fd",
   "metadata": {},
   "outputs": [
    {
     "name": "stdout",
     "output_type": "stream",
     "text": [
      "2.1421733333333335 377.3966666666667\n"
     ]
    }
   ],
   "source": [
    "print(Sxx,Sxy)"
   ]
  },
  {
   "cell_type": "code",
   "execution_count": 52,
   "id": "455bada6",
   "metadata": {},
   "outputs": [],
   "source": [
    "def spec(X):\n",
    "    x = np.array([2.62, 2.75, 2.85, 2.92, 2.92, 3.05, 3.14, 3.15, 3.23, 3.26, 3.36, 3.44, 3.66, 3.74, 4.04])\n",
    "    y = np.array([209, 237, 273, 316, 283, 317, 321, 356, 404, 368, 405, 429, 413, 440, 439])\n",
    "    \n",
    "    Sxx = div(x, x)\n",
    "    Sxy = div(x, y)\n",
    "    \n",
    "    return np.mean(y) + (Sxy/Sxx)*(X - np.mean(x))    \n"
   ]
  },
  {
   "cell_type": "code",
   "execution_count": 53,
   "id": "d4cea1d2",
   "metadata": {},
   "outputs": [
    {
     "data": {
      "text/plain": [
       "(180.0, 470.0)"
      ]
     },
     "execution_count": 53,
     "metadata": {},
     "output_type": "execute_result"
    },
    {
     "data": {
      "image/png": "[encoded data removed]",
      "text/plain": [
       "<Figure size 432x288 with 1 Axes>"
      ]
     },
     "metadata": {
      "needs_background": "light"
     },
     "output_type": "display_data"
    }
   ],
   "source": [
    "plt.scatter(x,y)\n",
    "plt.xlim([2.2,4.5])\n",
    "plt.ylim([180, 470])\n"
   ]
  },
  {
   "cell_type": "code",
   "execution_count": 58,
   "id": "deee0e98",
   "metadata": {},
   "outputs": [
    {
     "data": {
      "text/plain": [
       "(180.0, 500.0)"
      ]
     },
     "execution_count": 58,
     "metadata": {},
     "output_type": "execute_result"
    },
    {
     "data": {
      "image/png": "[encoded data removed]",
      "text/plain": [
       "<Figure size 432x288 with 1 Axes>"
      ]
     },
     "metadata": {
      "needs_background": "light"
     },
     "output_type": "display_data"
    }
   ],
   "source": [
    "X = np.arange(2.5, 4.5, 0.1)\n",
    "Y = np.vectorize(spec)(X)\n",
    "plt.scatter(x,y)\n",
    "plt.scatter(X,Y)\n",
    "plt.xlim([2.2,4.5])\n",
    "plt.ylim([180, 500])\n"
   ]
  },
  {
   "cell_type": "code",
   "execution_count": 55,
   "id": "908105aa",
   "metadata": {},
   "outputs": [
    {
     "data": {
      "text/plain": [
       "array([ -217.95243771,   -41.77777397,   134.39688976,   310.5715535 ,\n",
       "         486.74621724,   662.92088097,   839.09554471,  1015.27020845,\n",
       "        1191.44487219,  1367.61953592,  1543.79419966,  1719.9688634 ,\n",
       "        1896.14352713,  2072.31819087,  2248.49285461,  2424.66751835,\n",
       "        2600.84218208,  2777.01684582,  2953.19150956,  3129.36617329,\n",
       "        3305.54083703,  3481.71550077,  3657.89016451,  3834.06482824,\n",
       "        4010.23949198,  4186.41415572,  4362.58881945,  4538.76348319,\n",
       "        4714.93814693,  4891.11281067,  5067.2874744 ,  5243.46213814,\n",
       "        5419.63680188,  5595.81146561,  5771.98612935,  5948.16079309,\n",
       "        6124.33545683,  6300.51012056,  6476.6847843 ,  6652.85944804,\n",
       "        6829.03411177,  7005.20877551,  7181.38343925,  7357.55810299,\n",
       "        7533.73276672,  7709.90743046,  7886.0820942 ,  8062.25675793,\n",
       "        8238.43142167,  8414.60608541,  8590.78074915,  8766.95541288,\n",
       "        8943.13007662,  9119.30474036,  9295.47940409,  9471.65406783,\n",
       "        9647.82873157,  9824.00339531, 10000.17805904, 10176.35272278,\n",
       "       10352.52738652, 10528.70205025, 10704.87671399, 10881.05137773,\n",
       "       11057.22604147, 11233.4007052 , 11409.57536894, 11585.75003268,\n",
       "       11761.92469641, 11938.09936015, 12114.27402389, 12290.44868763,\n",
       "       12466.62335136, 12642.7980151 , 12818.97267884, 12995.14734257,\n",
       "       13171.32200631, 13347.49667005, 13523.67133379, 13699.84599752,\n",
       "       13876.02066126, 14052.195325  , 14228.36998873, 14404.54465247,\n",
       "       14580.71931621, 14756.89397995, 14933.06864368, 15109.24330742,\n",
       "       15285.41797116, 15461.59263489, 15637.76729863, 15813.94196237,\n",
       "       15990.11662611, 16166.29128984, 16342.46595358, 16518.64061732,\n",
       "       16694.81528105, 16870.98994479, 17047.16460853, 17223.33927227])"
      ]
     },
     "execution_count": 55,
     "metadata": {},
     "output_type": "execute_result"
    }
   ],
   "source": [
    "\n"
   ]
  },
  {
   "cell_type": "code",
   "execution_count": null,
   "id": "c5524167",
   "metadata": {},
   "outputs": [],
   "source": []
  }
 ],
 "metadata": {
  "kernelspec": {
   "display_name": "Python 3 (ipykernel)",
   "language": "python",
   "name": "python3"
  },
  "language_info": {
   "codemirror_mode": {
    "name": "ipython",
    "version": 3
   },
   "file_extension": ".py",
   "mimetype": "text/x-python",
   "name": "python",
   "nbconvert_exporter": "python",
   "pygments_lexer": "ipython3",
   "version": "3.7.12"
  }
 },
 "nbformat": 4,
 "nbformat_minor": 5
}
