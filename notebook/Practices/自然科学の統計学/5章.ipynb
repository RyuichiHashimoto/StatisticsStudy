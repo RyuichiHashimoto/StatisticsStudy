{
 "cells": [
  {
   "cell_type": "markdown",
   "id": "399c86a5",
   "metadata": {},
   "source": [
    "## 例 5.1"
   ]
  },
  {
   "cell_type": "code",
   "execution_count": 3,
   "id": "4aa4a2d8",
   "metadata": {},
   "outputs": [],
   "source": [
    "import numpy as np\n",
    "from scipy import stats"
   ]
  },
  {
   "cell_type": "code",
   "execution_count": 5,
   "id": "f43ac7fe",
   "metadata": {},
   "outputs": [],
   "source": [
    "x = np.arange(0,10,1)\n",
    "y = np.array([10,9,7,7,9,6,10,17, 14, 11])"
   ]
  },
  {
   "cell_type": "code",
   "execution_count": 11,
   "id": "73040b37",
   "metadata": {},
   "outputs": [],
   "source": [
    "p_h0 = np.ones(10)/10\n",
    "n = y.sum()\n",
    "expect_freq = p_h0*n"
   ]
  },
  {
   "cell_type": "code",
   "execution_count": 15,
   "id": "cf9b73a1",
   "metadata": {},
   "outputs": [
    {
     "data": {
      "text/plain": [
       "10.2"
      ]
     },
     "execution_count": 15,
     "metadata": {},
     "output_type": "execute_result"
    }
   ],
   "source": [
    "a = (y - expect_freq)/np.sqrt(expect_freq)\n",
    "a.T@a"
   ]
  },
  {
   "cell_type": "markdown",
   "id": "d7df7e08",
   "metadata": {},
   "source": [
    "## 5.2"
   ]
  },
  {
   "cell_type": "code",
   "execution_count": 21,
   "id": "30a30527",
   "metadata": {},
   "outputs": [
    {
     "data": {
      "text/plain": [
       "9.64962263804476"
      ]
     },
     "execution_count": 21,
     "metadata": {},
     "output_type": "execute_result"
    }
   ],
   "source": [
    "(y*np.log(y/expect_freq)).sum()*2"
   ]
  },
  {
   "cell_type": "markdown",
   "id": "edbec05d",
   "metadata": {},
   "source": [
    "### 5.5"
   ]
  },
  {
   "cell_type": "code",
   "execution_count": 25,
   "id": "67e7b524",
   "metadata": {},
   "outputs": [
    {
     "ename": "NameError",
     "evalue": "name 'numpy' is not defined",
     "output_type": "error",
     "traceback": [
      "\u001b[0;31m---------------------------------------------------------------------------\u001b[0m",
      "\u001b[0;31mNameError\u001b[0m                                 Traceback (most recent call last)",
      "\u001b[0;32m/tmp/ipykernel_210/2606164506.py\u001b[0m in \u001b[0;36m<module>\u001b[0;34m\u001b[0m\n\u001b[1;32m      1\u001b[0m \u001b[0;32mimport\u001b[0m \u001b[0mnumpy\u001b[0m  \u001b[0;32mas\u001b[0m \u001b[0mnp\u001b[0m\u001b[0;34m\u001b[0m\u001b[0;34m\u001b[0m\u001b[0m\n\u001b[0;32m----> 2\u001b[0;31m \u001b[0mnumpy\u001b[0m\u001b[0;34m.\u001b[0m\u001b[0mlinalg\u001b[0m\u001b[0;34m.\u001b[0m\u001b[0mdet\u001b[0m\u001b[0;34m(\u001b[0m\u001b[0;34m)\u001b[0m\u001b[0;34m\u001b[0m\u001b[0;34m\u001b[0m\u001b[0m\n\u001b[0m",
      "\u001b[0;31mNameError\u001b[0m: name 'numpy' is not defined"
     ]
    }
   ],
   "source": [
    "import numpy  as np"
   ]
  },
  {
   "cell_type": "code",
   "execution_count": 42,
   "id": "82c0287c",
   "metadata": {},
   "outputs": [
    {
     "data": {
      "text/plain": [
       "array([[1625,    5],\n",
       "       [1022,   11]])"
      ]
     },
     "execution_count": 42,
     "metadata": {},
     "output_type": "execute_result"
    }
   ],
   "source": [
    "d = np.array([[1625, 5], [1022,11]])\n",
    "d"
   ]
  },
  {
   "cell_type": "code",
   "execution_count": 41,
   "id": "524a11db",
   "metadata": {},
   "outputs": [
    {
     "data": {
      "text/plain": [
       "6.084865105188662"
      ]
     },
     "execution_count": 41,
     "metadata": {},
     "output_type": "execute_result"
    }
   ],
   "source": [
    "s = np.linalg.det(d)\n",
    "d.sum()*s*s/(d.sum(axis=0).prod()*d.sum(axis=1).prod())"
   ]
  },
  {
   "cell_type": "code",
   "execution_count": null,
   "id": "06382f5b",
   "metadata": {},
   "outputs": [],
   "source": [
    "\n"
   ]
  }
 ],
 "metadata": {
  "kernelspec": {
   "display_name": "Python 3 (ipykernel)",
   "language": "python",
   "name": "python3"
  },
  "language_info": {
   "codemirror_mode": {
    "name": "ipython",
    "version": 3
   },
   "file_extension": ".py",
   "mimetype": "text/x-python",
   "name": "python",
   "nbconvert_exporter": "python",
   "pygments_lexer": "ipython3",
   "version": "3.7.12"
  }
 },
 "nbformat": 4,
 "nbformat_minor": 5
}
