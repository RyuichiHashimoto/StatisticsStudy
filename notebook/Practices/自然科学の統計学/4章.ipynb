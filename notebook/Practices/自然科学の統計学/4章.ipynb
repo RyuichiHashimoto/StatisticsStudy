{
 "cells": [
  {
   "cell_type": "markdown",
   "id": "ec70bc16-0b42-4c58-993a-bd8f0f259217",
   "metadata": {},
   "source": [
    "## 4.1"
   ]
  },
  {
   "cell_type": "code",
   "execution_count": 6,
   "id": "e5ddcc54-c480-41db-b3eb-adc7337b1e63",
   "metadata": {},
   "outputs": [],
   "source": [
    "import numpy as np\n",
    "import pandas as pd"
   ]
  },
  {
   "cell_type": "code",
   "execution_count": 4,
   "id": "8f6b64c0-75fc-4b9a-ae6d-21fe92b9f7e9",
   "metadata": {},
   "outputs": [],
   "source": [
    "desiberu = [1.078, 1.234, 1.402, 1.577, 1.772, 1.972, 2.169, 2.375, 2.579, 2.793, 3.011]\n",
    "doutaisu = [3.03, 3.09, 3.15, 3.20, 3.25, 3.30, 3.34, 3.37, 3.41, 3.45, 3.48]\n",
    "soutaidosu = [0.00, 0.00, 0.11, 0.28, 0.48, 0.71, 0.83, 0.91, 0.95, 0.98, 1.00]"
   ]
  },
  {
   "cell_type": "code",
   "execution_count": 5,
   "id": "d52287c0-5b1b-4131-8eab-db9b2cd72e66",
   "metadata": {},
   "outputs": [],
   "source": [
    "data = np.array([[a,b,c] for a,b,c in zip(desiberu, doutaisu, soutaidosu)])"
   ]
  },
  {
   "cell_type": "code",
   "execution_count": 11,
   "id": "0393c9c7-dd68-4566-840d-b69d6872609d",
   "metadata": {},
   "outputs": [
    {
     "data": {
      "text/html": [
       "<div>\n",
       "<style scoped>\n",
       "    .dataframe tbody tr th:only-of-type {\n",
       "        vertical-align: middle;\n",
       "    }\n",
       "\n",
       "    .dataframe tbody tr th {\n",
       "        vertical-align: top;\n",
       "    }\n",
       "\n",
       "    .dataframe thead th {\n",
       "        text-align: right;\n",
       "    }\n",
       "</style>\n",
       "<table border=\"1\" class=\"dataframe\">\n",
       "  <thead>\n",
       "    <tr style=\"text-align: right;\">\n",
       "      <th></th>\n",
       "      <th>strength</th>\n",
       "      <th>doutaisu</th>\n",
       "      <th>soutaidosu</th>\n",
       "    </tr>\n",
       "  </thead>\n",
       "  <tbody>\n",
       "    <tr>\n",
       "      <th>0</th>\n",
       "      <td>1.078</td>\n",
       "      <td>3.03</td>\n",
       "      <td>0.00</td>\n",
       "    </tr>\n",
       "    <tr>\n",
       "      <th>1</th>\n",
       "      <td>1.234</td>\n",
       "      <td>3.09</td>\n",
       "      <td>0.00</td>\n",
       "    </tr>\n",
       "    <tr>\n",
       "      <th>2</th>\n",
       "      <td>1.402</td>\n",
       "      <td>3.15</td>\n",
       "      <td>0.11</td>\n",
       "    </tr>\n",
       "    <tr>\n",
       "      <th>3</th>\n",
       "      <td>1.577</td>\n",
       "      <td>3.20</td>\n",
       "      <td>0.28</td>\n",
       "    </tr>\n",
       "    <tr>\n",
       "      <th>4</th>\n",
       "      <td>1.772</td>\n",
       "      <td>3.25</td>\n",
       "      <td>0.48</td>\n",
       "    </tr>\n",
       "  </tbody>\n",
       "</table>\n",
       "</div>"
      ],
      "text/plain": [
       "   strength  doutaisu  soutaidosu\n",
       "0     1.078      3.03        0.00\n",
       "1     1.234      3.09        0.00\n",
       "2     1.402      3.15        0.11\n",
       "3     1.577      3.20        0.28\n",
       "4     1.772      3.25        0.48"
      ]
     },
     "execution_count": 11,
     "metadata": {},
     "output_type": "execute_result"
    }
   ],
   "source": [
    "df = pd.DataFrame(data = data, columns = [\"strength\", \"doutaisu\", \"soutaidosu\"])\n",
    "df.head()"
   ]
  },
  {
   "cell_type": "code",
   "execution_count": 9,
   "id": "ca621e00-f01b-4a4b-8dd1-c22fba25977f",
   "metadata": {},
   "outputs": [],
   "source": [
    "import matplotlib.pyplot as plt"
   ]
  },
  {
   "cell_type": "code",
   "execution_count": 15,
   "id": "8b14ecfe-54d5-482b-8f29-715a6cd1fd89",
   "metadata": {},
   "outputs": [
    {
     "data": {
      "text/plain": [
       "[<matplotlib.lines.Line2D at 0x7facef128450>]"
      ]
     },
     "execution_count": 15,
     "metadata": {},
     "output_type": "execute_result"
    },
    {
     "data": {
      "image/png": "[encoded data removed]",
      "text/plain": [
       "<Figure size 432x288 with 1 Axes>"
      ]
     },
     "metadata": {
      "needs_background": "light"
     },
     "output_type": "display_data"
    }
   ],
   "source": [
    "plt.plot(np.log(df['doutaisu']), df['soutaidosu'])"
   ]
  },
  {
   "cell_type": "markdown",
   "id": "917f2849-2f44-4884-ae8c-ff4baa468517",
   "metadata": {},
   "source": [
    "## 4.2"
   ]
  },
  {
   "cell_type": "code",
   "execution_count": 4,
   "id": "eab62a58-5231-4057-90d8-bffc12894984",
   "metadata": {},
   "outputs": [],
   "source": [
    "X = np.array([1,2,3,4,5,6,7,8,9,10,11,12,13])\n",
    "Y = np.array([58, 21, 10, 5, 3, 1,0,0,1,0,0,1,0])"
   ]
  },
  {
   "cell_type": "markdown",
   "id": "90719195-986c-496a-b468-8d6d05a17cf4",
   "metadata": {},
   "source": [
    "### 4.2 (i)"
   ]
  },
  {
   "cell_type": "code",
   "execution_count": 41,
   "id": "bbec5d6d-46ec-46c1-90f3-c511c8cb7241",
   "metadata": {},
   "outputs": [],
   "source": [
    "T = X.T@Y\n",
    "p = Y.sum()/T"
   ]
  },
  {
   "cell_type": "code",
   "execution_count": 54,
   "id": "6a3965e3",
   "metadata": {},
   "outputs": [],
   "source": [
    "p =0.521"
   ]
  },
  {
   "cell_type": "markdown",
   "id": "d983877b",
   "metadata": {},
   "source": [
    "### 4.2 (ii)"
   ]
  },
  {
   "cell_type": "code",
   "execution_count": 55,
   "id": "68793b96",
   "metadata": {},
   "outputs": [],
   "source": [
    "import numpy as np\n",
    "from scipy import stats"
   ]
  },
  {
   "cell_type": "code",
   "execution_count": 56,
   "id": "5d3ba442",
   "metadata": {},
   "outputs": [],
   "source": [
    "p0 = 0.5\n",
    "info = p0\n",
    "z = 10*(p - p0)/(p0*np.sqrt(1-p0))"
   ]
  },
  {
   "cell_type": "code",
   "execution_count": 57,
   "id": "24b17703",
   "metadata": {},
   "outputs": [
    {
     "data": {
      "text/plain": [
       "0.5939696961967004"
      ]
     },
     "execution_count": 57,
     "metadata": {},
     "output_type": "execute_result"
    }
   ],
   "source": [
    "z"
   ]
  },
  {
   "cell_type": "code",
   "execution_count": 67,
   "id": "6cfcae4a",
   "metadata": {},
   "outputs": [
    {
     "data": {
      "text/plain": [
       "1.6448536269514722"
      ]
     },
     "execution_count": 67,
     "metadata": {},
     "output_type": "execute_result"
    }
   ],
   "source": [
    "stats.norm.ppf(0.95,0,1)"
   ]
  },
  {
   "cell_type": "code",
   "execution_count": null,
   "id": "36b520b7",
   "metadata": {},
   "outputs": [],
   "source": []
  }
 ],
 "metadata": {
  "kernelspec": {
   "display_name": "Python 3 (ipykernel)",
   "language": "python",
   "name": "python3"
  },
  "language_info": {
   "codemirror_mode": {
    "name": "ipython",
    "version": 3
   },
   "file_extension": ".py",
   "mimetype": "text/x-python",
   "name": "python",
   "nbconvert_exporter": "python",
   "pygments_lexer": "ipython3",
   "version": "3.7.12"
  }
 },
 "nbformat": 4,
 "nbformat_minor": 5
}
