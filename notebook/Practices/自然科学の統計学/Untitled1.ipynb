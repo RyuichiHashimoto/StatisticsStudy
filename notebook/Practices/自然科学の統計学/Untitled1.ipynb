{
 "cells": [
  {
   "cell_type": "code",
   "execution_count": 6,
   "id": "8709f4a4",
   "metadata": {},
   "outputs": [],
   "source": [
    "max_d = 10000\n",
    "max_d_2 = max_d*max_d\n",
    "se = set()\n",
    "def rev_gcd(a,b):\n",
    "    se.add((a,b))\n",
    "    if a*a + b*b>max_d_2:\n",
    "        return \n",
    "    \n",
    "    k=0\n",
    "    while True:\n",
    "        k+=1\n",
    "        n_a=b\n",
    "        n_b=a+b*k\n",
    "        if n_a*n_a +n_b*n_b <=max_d_2:\n",
    "            rev_gcd(n_a,n_b)\n",
    "        else:\n",
    "            break\n",
    "\n",
    "def solution(dimensions, your_position, trainer_position, distance):\n",
    "    rev_gcd(1,1)\n",
    "    return 7"
   ]
  },
  {
   "cell_type": "code",
   "execution_count": 7,
   "id": "6803da5f-98ec-4f77-afa7-640c21a0cbb2",
   "metadata": {},
   "outputs": [
    {
     "name": "stdout",
     "output_type": "stream",
     "text": [
      "7\n"
     ]
    }
   ],
   "source": [
    "print(solution([3, 2], [1, 1], [2, 1], 4))"
   ]
  },
  {
   "cell_type": "code",
   "execution_count": 8,
   "id": "d927845a-3dd9-41b0-bc64-7a5f8b9ffeda",
   "metadata": {},
   "outputs": [
    {
     "data": {
      "text/plain": [
       "23873248"
      ]
     },
     "execution_count": 8,
     "metadata": {},
     "output_type": "execute_result"
    }
   ],
   "source": [
    "len(se)"
   ]
  },
  {
   "cell_type": "code",
   "execution_count": 18,
   "id": "79398298-65d0-4b9b-8e5b-c6271126773c",
   "metadata": {},
   "outputs": [
    {
     "name": "stdout",
     "output_type": "stream",
     "text": [
      "3334\n",
      "25641655\n"
     ]
    }
   ],
   "source": [
    "from math import sqrt\n",
    "from numpy import zeros\n",
    "\n",
    "\n",
    "def computeDist(p1, p2):\n",
    "    return sqrt((p1[0] - p2[0])**2 + (p1[1] - p2[1])**2)\n",
    "\n",
    "\n",
    "def computeGCD(x, y):\n",
    "    if y == 0:\n",
    "        return abs(x)\n",
    "    else:\n",
    "        return computeGCD(y, x % y)\n",
    "    \n",
    "\n",
    "def get_entity_position_from_room_number(entity, room_number, dimensions):\n",
    "    r_x, r_y = room_number\n",
    "    e_x, e_y = entity\n",
    "    dim_x, dim_y = dimensions\n",
    "\n",
    "    res_x = dim_x*r_x + e_x if r_x % 2 == 0 else dim_x*r_x + (dim_x - e_x)\n",
    "    res_y = dim_y*r_y + e_y if r_y % 2 == 0 else dim_y*r_y + (dim_y - e_y)\n",
    "\n",
    "    return (res_x, res_y)\n",
    "\n",
    "\n",
    "def solution(dimensions, your_position, trainer_position, distance):\n",
    "\n",
    "    dim_x, dim_y = dimensions\n",
    "    m_x, m_y = your_position\n",
    "\n",
    "    num_rooms_above_x_axis = (distance + m_y)//dim_y + 1\n",
    "    num_rooms_below_x_axis = (distance - m_y)//dim_y + 1\n",
    "    num_rooms_left_of_y_axis = (distance - m_x)//dim_x + 1\n",
    "    num_rooms_right_of_y_axis = (distance + m_x)//dim_x + 1\n",
    "\n",
    "    w = (num_rooms_right_of_y_axis + num_rooms_left_of_y_axis)*dim_x + 1\n",
    "    h = (num_rooms_above_x_axis + num_rooms_below_x_axis)*dim_y + 1\n",
    "\n",
    "    x_offset = num_rooms_left_of_y_axis*dim_x\n",
    "    y_offset = num_rooms_below_x_axis*dim_y\n",
    "\n",
    "    matrix = zeros(shape=(w, h))\n",
    "    \n",
    "    for i in range(-1*num_rooms_left_of_y_axis, num_rooms_right_of_y_axis):\n",
    "        for j in range(-1*num_rooms_below_x_axis, num_rooms_above_x_axis):\n",
    "            tv_x, tv_y = get_entity_position_from_room_number(\n",
    "                trainer_position, [i, j], dimensions)\n",
    "\n",
    "            mv_x, mv_y = get_entity_position_from_room_number(\n",
    "                your_position, [i, j], dimensions)\n",
    "\n",
    "            matrix[tv_x+x_offset][tv_y+y_offset] = 1\n",
    "            matrix[mv_x+x_offset][mv_y+y_offset] = 2\n",
    "\n",
    "    hits = 0\n",
    "    shots_taken = set()\n",
    "    print(num_rooms_left_of_y_axis)\n",
    "    for i in range(-1*num_rooms_left_of_y_axis, num_rooms_right_of_y_axis):\n",
    "        for j in range(-1*num_rooms_below_x_axis, num_rooms_above_x_axis):\n",
    "            t_x, t_y = get_entity_position_from_room_number(\n",
    "                trainer_position, [i, j], dimensions)\n",
    "            if distance < computeDist([t_x, t_y], your_position):\n",
    "                continue\n",
    "            delta_y = t_y - m_y\n",
    "            delta_x = t_x - m_x\n",
    "            d = computeGCD(delta_y, delta_x)\n",
    "            delta_y = int(delta_y/d)\n",
    "            delta_x = int(delta_x/d)\n",
    "            if (delta_y, delta_x) in shots_taken:\n",
    "                continue\n",
    "            shots_taken.add((delta_y, delta_x))\n",
    "            ray_x, ray_y = m_x + x_offset, m_y + y_offset\n",
    "            while True:\n",
    "                ray_x += delta_x\n",
    "                ray_y += delta_y\n",
    "                entity = matrix[ray_x][ray_y]\n",
    "                if entity == 1:\n",
    "                    hits += 1\n",
    "                    break\n",
    "                elif entity == 2:\n",
    "                    break\n",
    "    return hits\n",
    "\n",
    "\n",
    "if __name__ == \"__main__\":\n",
    "    # print(solution([3, 2], [1, 1], [2, 1], 4))\n",
    "    print(solution([3, 3], [1, 2], [2, 1], 10000))"
   ]
  },
  {
   "cell_type": "code",
   "execution_count": null,
   "id": "1f5a1100-68d2-4f10-b9d5-1d355cd718e2",
   "metadata": {},
   "outputs": [],
   "source": []
  }
 ],
 "metadata": {
  "kernelspec": {
   "display_name": "Python 3 (ipykernel)",
   "language": "python",
   "name": "python3"
  },
  "language_info": {
   "codemirror_mode": {
    "name": "ipython",
    "version": 3
   },
   "file_extension": ".py",
   "mimetype": "text/x-python",
   "name": "python",
   "nbconvert_exporter": "python",
   "pygments_lexer": "ipython3",
   "version": "3.7.12"
  }
 },
 "nbformat": 4,
 "nbformat_minor": 5
}
