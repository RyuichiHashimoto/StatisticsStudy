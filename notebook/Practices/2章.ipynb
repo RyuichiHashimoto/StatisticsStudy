{
 "cells": [
  {
   "cell_type": "code",
   "execution_count": 7,
   "id": "7816dcdc-52e1-49b2-9498-c3eca2bef4ec",
   "metadata": {},
   "outputs": [],
   "source": [
    "import numpy as np"
   ]
  },
  {
   "cell_type": "code",
   "execution_count": 8,
   "id": "aa91819b",
   "metadata": {},
   "outputs": [],
   "source": [
    "H_P = np.array([0.307, 0.156, 0.129, 0.130, 0.080, 0.030, 0.171])\n",
    "A_P = np.array([0.008, 0.048, 0.040, 0.052, 0.100, 0.151, 0.014])"
   ]
  },
  {
   "cell_type": "code",
   "execution_count": 4,
   "id": "c7e29140",
   "metadata": {},
   "outputs": [],
   "source": [
    "P_A = sum([a * b for a,b in zip(H_P, A_P)])"
   ]
  },
  {
   "cell_type": "code",
   "execution_count": 6,
   "id": "aa41cf3c",
   "metadata": {},
   "outputs": [
    {
     "data": {
      "text/plain": [
       "0.2035446341198217"
      ]
     },
     "execution_count": 6,
     "metadata": {},
     "output_type": "execute_result"
    }
   ],
   "source": [
    "(H_P[1]*A_P[1])/P_A"
   ]
  },
  {
   "cell_type": "markdown",
   "id": "9fd95822-d537-457a-9b93-940cdf71a753",
   "metadata": {},
   "source": [
    "## 2.1"
   ]
  },
  {
   "cell_type": "code",
   "execution_count": 2,
   "id": "756575e0-04d7-4316-8171-376b80b2dca4",
   "metadata": {},
   "outputs": [
    {
     "name": "stdout",
     "output_type": "stream",
     "text": [
      "P(A and B ): 0.29999999999999993\n",
      "P(A | B ): 0.5999999999999999\n"
     ]
    }
   ],
   "source": [
    "A = 0.5\n",
    "B = 0.7\n",
    "A_or_B =0.9\n",
    "A_and_B = A + B - A_or_B\n",
    "B_perA = A_and_B/A\n",
    "print(\"P(A and B ):\", A_and_B)\n",
    "print(\"P(A | B ):\", B_perA)"
   ]
  },
  {
   "cell_type": "markdown",
   "id": "dcf307e0-5317-4534-8666-c8f05a7f43a2",
   "metadata": {},
   "source": [
    "## 2.2"
   ]
  },
  {
   "cell_type": "code",
   "execution_count": 10,
   "id": "ba2573e4-2753-48d2-bf86-7b082466e0bc",
   "metadata": {},
   "outputs": [
    {
     "name": "stdout",
     "output_type": "stream",
     "text": [
      "(1) 0.2174622159399804\n",
      "(2)\n"
     ]
    }
   ],
   "source": [
    "print(\"(1)\",0.008/(H_P@A_P.T))\n",
    "print(\"(2)\",)"
   ]
  },
  {
   "cell_type": "code",
   "execution_count": null,
   "id": "c33365ce-e218-40d1-bafc-6ea8701a7c8d",
   "metadata": {},
   "outputs": [],
   "source": []
  }
 ],
 "metadata": {
  "kernelspec": {
   "display_name": "Python 3 (ipykernel)",
   "language": "python",
   "name": "python3"
  },
  "language_info": {
   "codemirror_mode": {
    "name": "ipython",
    "version": 3
   },
   "file_extension": ".py",
   "mimetype": "text/x-python",
   "name": "python",
   "nbconvert_exporter": "python",
   "pygments_lexer": "ipython3",
   "version": "3.7.12"
  }
 },
 "nbformat": 4,
 "nbformat_minor": 5
}
