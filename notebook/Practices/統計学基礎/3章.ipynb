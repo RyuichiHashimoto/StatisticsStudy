{
 "cells": [
  {
   "cell_type": "code",
   "execution_count": 16,
   "id": "13fe9478",
   "metadata": {},
   "outputs": [],
   "source": [
    "from scipy import stats\n",
    "import numpy as np"
   ]
  },
  {
   "cell_type": "markdown",
   "id": "8766a010",
   "metadata": {},
   "source": [
    "## 3.1"
   ]
  },
  {
   "cell_type": "code",
   "execution_count": 1,
   "id": "432dfe75",
   "metadata": {},
   "outputs": [],
   "source": [
    "n_a = 32\n",
    "av_a = 62.2\n",
    "std_a = 11.0\n",
    "\n",
    "n_b = 35\n",
    "av_b = 71.4\n",
    "std_b = 10.8"
   ]
  },
  {
   "cell_type": "markdown",
   "id": "d97e7c1f",
   "metadata": {},
   "source": [
    "### (1a) "
   ]
  },
  {
   "cell_type": "code",
   "execution_count": 17,
   "id": "8c941abc",
   "metadata": {},
   "outputs": [
    {
     "name": "stdout",
     "output_type": "stream",
     "text": [
      "58.388764483038386 66.01123551696162\n"
     ]
    }
   ],
   "source": [
    "l_al = stats.norm.ppf(0.025)\n",
    "r_al = stats.norm.ppf(0.975)\n",
    "l = l_al*11/np.sqrt(n_a) + av_a\n",
    "r = r_al*11/np.sqrt(n_a) + av_a\n",
    "print(l, r)"
   ]
  },
  {
   "cell_type": "markdown",
   "id": "744d7b80",
   "metadata": {},
   "source": [
    "### (1b) "
   ]
  },
  {
   "cell_type": "code",
   "execution_count": 18,
   "id": "f6fb7814",
   "metadata": {},
   "outputs": [
    {
     "name": "stdout",
     "output_type": "stream",
     "text": [
      "67.82202069459885 74.97797930540116\n"
     ]
    }
   ],
   "source": [
    "l_al = stats.norm.ppf(0.025)\n",
    "r_al = stats.norm.ppf(0.975)\n",
    "l = l_al*10.8/np.sqrt(n_b) + av_b\n",
    "r = r_al*10.8/np.sqrt(n_b) + av_b\n",
    "print(l, r)"
   ]
  },
  {
   "cell_type": "markdown",
   "id": "6685e5d8",
   "metadata": {},
   "source": [
    "### (2a)"
   ]
  },
  {
   "cell_type": "code",
   "execution_count": 19,
   "id": "99a9e98a",
   "metadata": {},
   "outputs": [
    {
     "name": "stdout",
     "output_type": "stream",
     "text": [
      "58.23407708226288 66.16592291773713\n"
     ]
    }
   ],
   "source": [
    "l_al = stats.t.ppf(0.025, n_a-1)\n",
    "r_al = stats.t.ppf(0.975, n_a-1)\n",
    "l = l_al*11/np.sqrt(n_a) + av_a\n",
    "r = r_al*11/np.sqrt(n_a) + av_a\n",
    "print(l, r)"
   ]
  },
  {
   "cell_type": "markdown",
   "id": "2258b68f",
   "metadata": {},
   "source": [
    "## (2b)"
   ]
  },
  {
   "cell_type": "code",
   "execution_count": 20,
   "id": "0c79d29d",
   "metadata": {},
   "outputs": [
    {
     "name": "stdout",
     "output_type": "stream",
     "text": [
      "67.69007019761116 75.10992980238885\n"
     ]
    }
   ],
   "source": [
    "l_al = stats.t.ppf(0.025, n_b-1)\n",
    "r_al = stats.t.ppf(0.975, n_b-1)\n",
    "l = l_al*10.8/np.sqrt(n_b) + av_b\n",
    "r = r_al*10.8/np.sqrt(n_b) + av_b\n",
    "print(l, r)"
   ]
  },
  {
   "cell_type": "markdown",
   "id": "11b6d42c",
   "metadata": {},
   "source": [
    "## 3.2"
   ]
  },
  {
   "cell_type": "code",
   "execution_count": 21,
   "id": "285bc733",
   "metadata": {},
   "outputs": [],
   "source": [
    "n = 2500\n",
    "av_x = 32.8\n",
    "sig = 29.5"
   ]
  },
  {
   "cell_type": "code",
   "execution_count": 24,
   "id": "1427285e",
   "metadata": {},
   "outputs": [
    {
     "name": "stdout",
     "output_type": "stream",
     "text": [
      "31.643060902325196 33.9569390976748\n"
     ]
    }
   ],
   "source": [
    "l_al = stats.t.ppf(0.025, n-1)\n",
    "r_al = stats.t.ppf(0.975, n-1)\n",
    "l = l_al*sig/np.sqrt(n) + av_x\n",
    "r = r_al*sig/np.sqrt(n) + av_x\n",
    "print(l, r)"
   ]
  },
  {
   "cell_type": "code",
   "execution_count": 26,
   "id": "f252028b",
   "metadata": {},
   "outputs": [],
   "source": [
    "n = 25\n",
    "av_x = 32.8\n",
    "sig = 29.5"
   ]
  },
  {
   "cell_type": "code",
   "execution_count": 28,
   "id": "b66bbc67",
   "metadata": {},
   "outputs": [
    {
     "name": "stdout",
     "output_type": "stream",
     "text": [
      "20.622998486394675 44.977001513605316\n"
     ]
    }
   ],
   "source": [
    "l_al = stats.t.ppf(0.025, n-1)\n",
    "r_al = stats.t.ppf(0.975, n-1)\n",
    "l = l_al*sig/np.sqrt(n) + av_x\n",
    "r = r_al*sig/np.sqrt(n) + av_x\n",
    "print(l, r)"
   ]
  },
  {
   "cell_type": "markdown",
   "id": "56a432f0",
   "metadata": {},
   "source": [
    "## 3.3 "
   ]
  },
  {
   "cell_type": "code",
   "execution_count": 32,
   "id": "536d597a",
   "metadata": {},
   "outputs": [],
   "source": [
    "N = 100_000\n",
    "n = 2500\n",
    "x = 1500\n",
    "p_h = x/n"
   ]
  },
  {
   "cell_type": "markdown",
   "id": "4c516312-bc1c-436c-a904-b41924e3e631",
   "metadata": {},
   "source": [
    "## 章末問題"
   ]
  },
  {
   "cell_type": "markdown",
   "id": "390cc542-6dd1-4fee-bbfa-aa6fde4c1bed",
   "metadata": {},
   "source": [
    "### 3.1"
   ]
  },
  {
   "cell_type": "code",
   "execution_count": 8,
   "id": "fa9b448b-d3c2-467c-b074-88ace776599b",
   "metadata": {},
   "outputs": [],
   "source": [
    "import numpy as np\n",
    "from scipy import stats"
   ]
  },
  {
   "cell_type": "code",
   "execution_count": 3,
   "id": "2855a4a2-ab59-45cb-a8f6-e4a861a39b41",
   "metadata": {},
   "outputs": [],
   "source": [
    "a = np.array([0.813, 0.820, 0.771, 0.908, 0.944, 0.771, 0.763, 0.996, 0.886])\n",
    "b = np.array([1.045, 1.100, 1.013, 1.009, 1.204, 0.996, 1.352, 1.173, 0.934])"
   ]
  },
  {
   "cell_type": "code",
   "execution_count": 5,
   "id": "63e9b6d1-5d07-4711-8be8-30615e43305f",
   "metadata": {},
   "outputs": [],
   "source": [
    "def div(_a, _b):\n",
    "    return (_a - np.mean(_a))@(_b - np.mean(_b))"
   ]
  },
  {
   "cell_type": "code",
   "execution_count": 13,
   "id": "38833a7a-7cf2-4aff-b322-1ef5427faa44",
   "metadata": {},
   "outputs": [],
   "source": [
    "F_val = div(a,a)/div(b,b)"
   ]
  },
  {
   "cell_type": "code",
   "execution_count": 46,
   "id": "b645abe8-3864-4f21-a66c-9667715cc046",
   "metadata": {},
   "outputs": [
    {
     "data": {
      "text/plain": [
       "0.4188072930764036"
      ]
     },
     "execution_count": 46,
     "metadata": {},
     "output_type": "execute_result"
    }
   ],
   "source": [
    "F_val"
   ]
  },
  {
   "cell_type": "code",
   "execution_count": 45,
   "id": "b8babebd-624b-4010-a071-3060373a6576",
   "metadata": {},
   "outputs": [
    {
     "name": "stdout",
     "output_type": "stream",
     "text": [
      "0.2255676466069824\n",
      "4.433259889182375\n"
     ]
    }
   ],
   "source": [
    "print(stats.f.ppf(0.025,len(a)-1,len(b)-1))\n",
    "print(stats.f.ppf(0.975,len(a)-1,len(b)-1))"
   ]
  },
  {
   "cell_type": "code",
   "execution_count": 48,
   "id": "1ef0748c-0a4b-4422-a94f-841969eba870",
   "metadata": {},
   "outputs": [],
   "source": [
    "mix_sig2 = (div(a,a)+div(b,b))/(2*len(a)-2)"
   ]
  },
  {
   "cell_type": "code",
   "execution_count": 53,
   "id": "385b92eb-8497-4401-91ae-96f5fb4de927",
   "metadata": {},
   "outputs": [],
   "source": [
    "t_val = (np.mean(a) - np.mean(b))/np.sqrt(mix_sig2*2/(len(a)))"
   ]
  },
  {
   "cell_type": "code",
   "execution_count": 54,
   "id": "e0ac3024-af30-4df4-bc1f-d5031fe85347",
   "metadata": {},
   "outputs": [
    {
     "data": {
      "text/plain": [
       "-4.618273306048572"
      ]
     },
     "execution_count": 54,
     "metadata": {},
     "output_type": "execute_result"
    }
   ],
   "source": [
    "t_val"
   ]
  },
  {
   "cell_type": "code",
   "execution_count": 57,
   "id": "0169a383-6421-41bc-b8a5-9991c93aa143",
   "metadata": {},
   "outputs": [
    {
     "name": "stdout",
     "output_type": "stream",
     "text": [
      "-2.1199052992210112\n",
      "2.1199052992210112\n"
     ]
    }
   ],
   "source": [
    "print(stats.t.ppf(0.025, 2*(len(a)-1)))\n",
    "print(stats.t.ppf(0.975, 2*(len(b)-1)))"
   ]
  },
  {
   "cell_type": "code",
   "execution_count": 59,
   "id": "db5aea04-b0df-4a2a-8757-85d3a8d47ec9",
   "metadata": {},
   "outputs": [],
   "source": [
    "ro = np.sqrt(mix_sig2*2/(len(a)))"
   ]
  },
  {
   "cell_type": "code",
   "execution_count": 61,
   "id": "8a4557ef-231f-44fe-8449-fb1ebaf677dd",
   "metadata": {},
   "outputs": [
    {
     "name": "stdout",
     "output_type": "stream",
     "text": [
      "-0.3491934407784828 -0.12947322588818377\n"
     ]
    }
   ],
   "source": [
    "l = -1*np.abs(np.mean(a) - np.mean(b)) + stats.t.ppf(0.025, 2*(len(a)-1))*ro\n",
    "r = -1*np.abs(np.mean(a) - np.mean(b)) + stats.t.ppf(0.975, 2*(len(a)-1))*ro\n",
    "print(l,r) "
   ]
  },
  {
   "cell_type": "markdown",
   "id": "e52713cc-87ac-4328-98a6-e6c841cf8d3f",
   "metadata": {},
   "source": [
    "## 3.2"
   ]
  },
  {
   "cell_type": "code",
   "execution_count": 63,
   "id": "6e155ada-b883-458e-adb8-be47f81ed25a",
   "metadata": {},
   "outputs": [],
   "source": [
    "import pandas as pd"
   ]
  },
  {
   "cell_type": "code",
   "execution_count": 65,
   "id": "cb583640-da8d-4762-8203-dd0cfc0eb101",
   "metadata": {},
   "outputs": [],
   "source": [
    "df = pd.DataFrame({\"A1\":[70,73,75,72], \"A2\":[74,74,77, 75], \"A3\": [78, 75, 79, 80], \"A4\":[76, 78, 75, 75]})"
   ]
  },
  {
   "cell_type": "code",
   "execution_count": 73,
   "id": "de21056f-e9a4-43c2-9644-46cb89ca301b",
   "metadata": {},
   "outputs": [],
   "source": [
    "myu_all = df.mean().mean()\n",
    "myu_lists = df.mean().values"
   ]
  },
  {
   "cell_type": "code",
   "execution_count": 78,
   "id": "acdca637-2b19-4221-8a36-a327bfe78e90",
   "metadata": {},
   "outputs": [
    {
     "data": {
      "text/plain": [
       "F_onewayResult(statistic=6.435897435897436, pvalue=0.00761530831377942)"
      ]
     },
     "execution_count": 78,
     "metadata": {},
     "output_type": "execute_result"
    }
   ],
   "source": [
    "stats.f_oneway(df['A1'], df['A2'], df['A3'], df['A4'])"
   ]
  },
  {
   "cell_type": "code",
   "execution_count": 105,
   "id": "7823a8cd-bf0b-45d6-af4e-4f2175e4c6e1",
   "metadata": {},
   "outputs": [],
   "source": [
    "tmp_list = df.sum()\n",
    "SA = ((myu_lists - myu_all)@(myu_lists - myu_all))*4\n",
    "SE = (df*df).sum().sum() - (tmp_list@tmp_list.T)/4"
   ]
  },
  {
   "cell_type": "code",
   "execution_count": 109,
   "id": "1fc897ce-1615-4e66-8d01-0f3437662613",
   "metadata": {},
   "outputs": [],
   "source": [
    "F_val = (SA/(4-1))/(SE/(16-4))"
   ]
  },
  {
   "cell_type": "code",
   "execution_count": 121,
   "id": "c1044db4-3a83-4246-9afb-90720efdec00",
   "metadata": {},
   "outputs": [],
   "source": [
    "def sig_range(data ,upper = 0.975, lower = 0.025):\n",
    "    a = np.mean(data)\n",
    "    sig = div(data, data)/(len(data)-1)\n",
    "    l_prob = stats.t.ppf(lower, len(data)-1)\n",
    "    r_prob = stats.t.ppf(upper, len(data)-1)\n",
    "    return a + l_prob * np.sqrt(sig/(len(data)-1)), a + r_prob * np.sqrt(sig/(len(data)-1))"
   ]
  },
  {
   "cell_type": "code",
   "execution_count": 123,
   "id": "0b65f1b5-049e-45b1-aebd-7f6aaa62a33d",
   "metadata": {},
   "outputs": [
    {
     "name": "stdout",
     "output_type": "stream",
     "text": [
      "(68.67517555496222, 76.32482444503778)\n",
      "(72.40154347274932, 77.59845652725068)\n",
      "(74.0307920912739, 81.9692079087261)\n",
      "(73.40154347274932, 78.59845652725068)\n"
     ]
    }
   ],
   "source": [
    "for key in df.keys():\n",
    "    print(sig_range(df[key]))"
   ]
  },
  {
   "cell_type": "markdown",
   "id": "06aafedf-4982-4b1e-8230-fcad873c283e",
   "metadata": {},
   "source": [
    "## 3.6"
   ]
  },
  {
   "cell_type": "code",
   "execution_count": 125,
   "id": "7168edbd-9b65-4e2a-9dbb-c684cfc1a409",
   "metadata": {},
   "outputs": [],
   "source": [
    "import statsmodels"
   ]
  },
  {
   "cell_type": "code",
   "execution_count": 126,
   "id": "f7c012e1-d9af-43b6-87d7-b9bab91804a4",
   "metadata": {},
   "outputs": [],
   "source": [
    "A_labels = [\"A1\", \"A2\", \"A3\"]\n",
    "B_labels = [f\"B{i}\" for i in range(1,5)]"
   ]
  },
  {
   "cell_type": "code",
   "execution_count": 128,
   "id": "e4f05585-f9e1-4112-890f-8524ebc29039",
   "metadata": {},
   "outputs": [],
   "source": []
  },
  {
   "cell_type": "code",
   "execution_count": 131,
   "id": "e8ef6aa1-d879-43bc-9dc7-492185d79887",
   "metadata": {},
   "outputs": [],
   "source": [
    "counter = 0;\n",
    "data = []\n",
    "for a in A_labels:\n",
    "    for b in B_labels:\n",
    "        data.append([a,b,ds[counter]])\n",
    "        counter +=1 \n",
    "        data.append([a,b,ds[counter]])\n",
    "        counter +=1 \n"
   ]
  },
  {
   "cell_type": "code",
   "execution_count": 134,
   "id": "6d68dcdc-9e21-4ae4-8342-130102e33bc1",
   "metadata": {},
   "outputs": [],
   "source": [
    "df = pd.DataFrame(data, columns= [\"LabelA\",\"LabelB\", \"val\"])"
   ]
  },
  {
   "cell_type": "code",
   "execution_count": 139,
   "id": "e2aee3f6-e43c-47de-8271-e151b2f45989",
   "metadata": {},
   "outputs": [
    {
     "data": {
      "image/png": "[encoded data removed]",
      "text/plain": [
       "<Figure size 432x288 with 1 Axes>"
      ]
     },
     "metadata": {
      "needs_background": "light"
     },
     "output_type": "display_data"
    },
    {
     "data": {
      "image/png": "[encoded data removed]",
      "text/plain": [
       "<Figure size 432x288 with 1 Axes>"
      ]
     },
     "metadata": {
      "needs_background": "light"
     },
     "output_type": "display_data"
    }
   ],
   "source": [
    "from statsmodels.graphics.factorplots import interaction_plot\n",
    "interaction_plot(df[\"LabelB\"], df[\"LabelA\"], df[\"val\"]);\n",
    "interaction_plot(df[\"LabelA\"], df[\"LabelB\"], df[\"val\"]);"
   ]
  },
  {
   "cell_type": "code",
   "execution_count": null,
   "id": "feff0456-2350-4c56-9a96-3bad77618019",
   "metadata": {},
   "outputs": [],
   "source": []
  },
  {
   "cell_type": "code",
   "execution_count": null,
   "id": "a87e28bf-48a4-452d-91dc-99e898c2872b",
   "metadata": {},
   "outputs": [],
   "source": []
  }
 ],
 "metadata": {
  "kernelspec": {
   "display_name": "Python 3 (ipykernel)",
   "language": "python",
   "name": "python3"
  },
  "language_info": {
   "codemirror_mode": {
    "name": "ipython",
    "version": 3
   },
   "file_extension": ".py",
   "mimetype": "text/x-python",
   "name": "python",
   "nbconvert_exporter": "python",
   "pygments_lexer": "ipython3",
   "version": "3.7.12"
  }
 },
 "nbformat": 4,
 "nbformat_minor": 5
}
