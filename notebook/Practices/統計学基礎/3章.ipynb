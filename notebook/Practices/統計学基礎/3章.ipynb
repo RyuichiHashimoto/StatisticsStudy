{
 "cells": [
  {
   "cell_type": "code",
   "execution_count": 16,
   "id": "13fe9478",
   "metadata": {},
   "outputs": [],
   "source": [
    "from scipy import stats\n",
    "import numpy as np"
   ]
  },
  {
   "cell_type": "markdown",
   "id": "8766a010",
   "metadata": {},
   "source": [
    "## 3.1"
   ]
  },
  {
   "cell_type": "code",
   "execution_count": 1,
   "id": "432dfe75",
   "metadata": {},
   "outputs": [],
   "source": [
    "n_a = 32\n",
    "av_a = 62.2\n",
    "std_a = 11.0\n",
    "\n",
    "n_b = 35\n",
    "av_b = 71.4\n",
    "std_b = 10.8"
   ]
  },
  {
   "cell_type": "markdown",
   "id": "d97e7c1f",
   "metadata": {},
   "source": [
    "### (1a) "
   ]
  },
  {
   "cell_type": "code",
   "execution_count": 17,
   "id": "8c941abc",
   "metadata": {},
   "outputs": [
    {
     "name": "stdout",
     "output_type": "stream",
     "text": [
      "58.388764483038386 66.01123551696162\n"
     ]
    }
   ],
   "source": [
    "l_al = stats.norm.ppf(0.025)\n",
    "r_al = stats.norm.ppf(0.975)\n",
    "l = l_al*11/np.sqrt(n_a) + av_a\n",
    "r = r_al*11/np.sqrt(n_a) + av_a\n",
    "print(l, r)"
   ]
  },
  {
   "cell_type": "markdown",
   "id": "744d7b80",
   "metadata": {},
   "source": [
    "### (1b) "
   ]
  },
  {
   "cell_type": "code",
   "execution_count": 18,
   "id": "f6fb7814",
   "metadata": {},
   "outputs": [
    {
     "name": "stdout",
     "output_type": "stream",
     "text": [
      "67.82202069459885 74.97797930540116\n"
     ]
    }
   ],
   "source": [
    "l_al = stats.norm.ppf(0.025)\n",
    "r_al = stats.norm.ppf(0.975)\n",
    "l = l_al*10.8/np.sqrt(n_b) + av_b\n",
    "r = r_al*10.8/np.sqrt(n_b) + av_b\n",
    "print(l, r)"
   ]
  },
  {
   "cell_type": "markdown",
   "id": "6685e5d8",
   "metadata": {},
   "source": [
    "### (2a)"
   ]
  },
  {
   "cell_type": "code",
   "execution_count": 19,
   "id": "99a9e98a",
   "metadata": {},
   "outputs": [
    {
     "name": "stdout",
     "output_type": "stream",
     "text": [
      "58.23407708226288 66.16592291773713\n"
     ]
    }
   ],
   "source": [
    "l_al = stats.t.ppf(0.025, n_a-1)\n",
    "r_al = stats.t.ppf(0.975, n_a-1)\n",
    "l = l_al*11/np.sqrt(n_a) + av_a\n",
    "r = r_al*11/np.sqrt(n_a) + av_a\n",
    "print(l, r)"
   ]
  },
  {
   "cell_type": "markdown",
   "id": "2258b68f",
   "metadata": {},
   "source": [
    "## (2b)"
   ]
  },
  {
   "cell_type": "code",
   "execution_count": 20,
   "id": "0c79d29d",
   "metadata": {},
   "outputs": [
    {
     "name": "stdout",
     "output_type": "stream",
     "text": [
      "67.69007019761116 75.10992980238885\n"
     ]
    }
   ],
   "source": [
    "l_al = stats.t.ppf(0.025, n_b-1)\n",
    "r_al = stats.t.ppf(0.975, n_b-1)\n",
    "l = l_al*10.8/np.sqrt(n_b) + av_b\n",
    "r = r_al*10.8/np.sqrt(n_b) + av_b\n",
    "print(l, r)"
   ]
  },
  {
   "cell_type": "markdown",
   "id": "11b6d42c",
   "metadata": {},
   "source": [
    "## 3.2"
   ]
  },
  {
   "cell_type": "code",
   "execution_count": 21,
   "id": "285bc733",
   "metadata": {},
   "outputs": [],
   "source": [
    "n = 2500\n",
    "av_x = 32.8\n",
    "sig = 29.5"
   ]
  },
  {
   "cell_type": "code",
   "execution_count": 24,
   "id": "1427285e",
   "metadata": {},
   "outputs": [
    {
     "name": "stdout",
     "output_type": "stream",
     "text": [
      "31.643060902325196 33.9569390976748\n"
     ]
    }
   ],
   "source": [
    "l_al = stats.t.ppf(0.025, n-1)\n",
    "r_al = stats.t.ppf(0.975, n-1)\n",
    "l = l_al*sig/np.sqrt(n) + av_x\n",
    "r = r_al*sig/np.sqrt(n) + av_x\n",
    "print(l, r)"
   ]
  },
  {
   "cell_type": "code",
   "execution_count": 26,
   "id": "f252028b",
   "metadata": {},
   "outputs": [],
   "source": [
    "n = 25\n",
    "av_x = 32.8\n",
    "sig = 29.5"
   ]
  },
  {
   "cell_type": "code",
   "execution_count": 28,
   "id": "b66bbc67",
   "metadata": {},
   "outputs": [
    {
     "name": "stdout",
     "output_type": "stream",
     "text": [
      "20.622998486394675 44.977001513605316\n"
     ]
    }
   ],
   "source": [
    "l_al = stats.t.ppf(0.025, n-1)\n",
    "r_al = stats.t.ppf(0.975, n-1)\n",
    "l = l_al*sig/np.sqrt(n) + av_x\n",
    "r = r_al*sig/np.sqrt(n) + av_x\n",
    "print(l, r)"
   ]
  },
  {
   "cell_type": "markdown",
   "id": "56a432f0",
   "metadata": {},
   "source": [
    "## 3.3 "
   ]
  },
  {
   "cell_type": "code",
   "execution_count": 32,
   "id": "536d597a",
   "metadata": {},
   "outputs": [],
   "source": [
    "N = 100_000\n",
    "n = 2500\n",
    "x = 1500\n",
    "p_h = x/n"
   ]
  },
  {
   "cell_type": "code",
   "execution_count": null,
   "id": "8c873cff",
   "metadata": {},
   "outputs": [],
   "source": [
    "r = "
   ]
  }
 ],
 "metadata": {
  "kernelspec": {
   "display_name": "Python 3 (ipykernel)",
   "language": "python",
   "name": "python3"
  },
  "language_info": {
   "codemirror_mode": {
    "name": "ipython",
    "version": 3
   },
   "file_extension": ".py",
   "mimetype": "text/x-python",
   "name": "python",
   "nbconvert_exporter": "python",
   "pygments_lexer": "ipython3",
   "version": "3.7.12"
  }
 },
 "nbformat": 4,
 "nbformat_minor": 5
}
