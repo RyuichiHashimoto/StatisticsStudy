{
 "cells": [
  {
   "cell_type": "code",
   "execution_count": 35,
   "id": "e1a4eecb",
   "metadata": {},
   "outputs": [],
   "source": [
    "import math\n",
    "from numpy import random\n",
    "from scipy.special import comb"
   ]
  },
  {
   "cell_type": "code",
   "execution_count": 25,
   "id": "a8b18db6",
   "metadata": {},
   "outputs": [],
   "source": [
    "N = 10\n",
    "P = 0.5;\n",
    "fs = [i for i in range(N+1)]\n"
   ]
  },
  {
   "cell_type": "code",
   "execution_count": 26,
   "id": "17af9126",
   "metadata": {},
   "outputs": [],
   "source": [
    "def prob(p,fr, to, N):\n",
    "    ps = [comb(N,i)*math.pow(P,i)*math.pow(1-P,N-i) for i in range(int(fr*N),int(to*N)+1)]\n",
    "    return sum(ps)    "
   ]
  },
  {
   "cell_type": "markdown",
   "id": "656e4c1f",
   "metadata": {},
   "source": [
    "# 二項分布の平均が[0.4, 0.6]になる確率"
   ]
  },
  {
   "cell_type": "code",
   "execution_count": 27,
   "id": "fc182776",
   "metadata": {},
   "outputs": [
    {
     "name": "stdout",
     "output_type": "stream",
     "text": [
      "10 trial:  0.65625\n",
      "20 trial:  0.7368240356445312\n",
      "30 trial:  0.7995115779340267\n",
      "40 trial:  0.8461400558371679\n",
      "50 trial:  0.8810795474405637\n",
      "1000 trial:  0.9999999998202966\n"
     ]
    }
   ],
   "source": [
    "for i in [10,20,30,40,50,1000]:\n",
    "    print(i,\"trial: \", prob(P,0.4,0.6,i))"
   ]
  },
  {
   "cell_type": "markdown",
   "id": "55597d81",
   "metadata": {},
   "source": [
    "## コンピュータシミュレーション"
   ]
  },
  {
   "cell_type": "code",
   "execution_count": 44,
   "id": "51ef0d5e",
   "metadata": {},
   "outputs": [],
   "source": [
    "import itertools\n",
    "P = 0.4\n",
    "trials = 200_000\n",
    "ret = [ 1 if random.rand() <= P else 0 for _ in range(trials)]\n",
    "CUM_SUM = list(itertools.accumulate(ret))"
   ]
  },
  {
   "cell_type": "code",
   "execution_count": 43,
   "id": "ea99119e",
   "metadata": {},
   "outputs": [
    {
     "ename": "SyntaxError",
     "evalue": "invalid syntax (2931446121.py, line 2)",
     "output_type": "error",
     "traceback": [
      "\u001b[0;36m  File \u001b[0;32m\"/tmp/ipykernel_76/2931446121.py\"\u001b[0;36m, line \u001b[0;32m2\u001b[0m\n\u001b[0;31m    CUM_SUM = ret list(itertools.accumulate(ret))\u001b[0m\n\u001b[0m                     ^\u001b[0m\n\u001b[0;31mSyntaxError\u001b[0m\u001b[0;31m:\u001b[0m invalid syntax\n"
     ]
    }
   ],
   "source": [
    "data = "
   ]
  },
  {
   "cell_type": "code",
   "execution_count": null,
   "id": "e6a117e4",
   "metadata": {},
   "outputs": [],
   "source": []
  }
 ],
 "metadata": {
  "kernelspec": {
   "display_name": "Python 3 (ipykernel)",
   "language": "python",
   "name": "python3"
  },
  "language_info": {
   "codemirror_mode": {
    "name": "ipython",
    "version": 3
   },
   "file_extension": ".py",
   "mimetype": "text/x-python",
   "name": "python",
   "nbconvert_exporter": "python",
   "pygments_lexer": "ipython3",
   "version": "3.7.12"
  }
 },
 "nbformat": 4,
 "nbformat_minor": 5
}
