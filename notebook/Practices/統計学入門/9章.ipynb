{
 "cells": [
  {
   "cell_type": "markdown",
   "id": "db0d205c",
   "metadata": {},
   "source": [
    "## 9.2"
   ]
  },
  {
   "cell_type": "code",
   "execution_count": 11,
   "id": "7a081374",
   "metadata": {},
   "outputs": [],
   "source": [
    "import numpy as np\n",
    "from numpy import random"
   ]
  },
  {
   "cell_type": "code",
   "execution_count": 2,
   "id": "3c5f44e8",
   "metadata": {},
   "outputs": [],
   "source": [
    "x = np.array([1.22,1.24,1.25,1.19, 1.17, 1.18])"
   ]
  },
  {
   "cell_type": "code",
   "execution_count": 9,
   "id": "e85a2efe",
   "metadata": {},
   "outputs": [
    {
     "name": "stdout",
     "output_type": "stream",
     "text": [
      "X_ 1.2083333333333333\n",
      "X_ 0.0010966666666666687\n"
     ]
    }
   ],
   "source": [
    "print('X_',np.mean(x))\n",
    "print('X_', ((x - np.mean(x))@(x - np.mean(x)).T)/(len(x)-1))"
   ]
  },
  {
   "cell_type": "markdown",
   "id": "8f683237",
   "metadata": {},
   "source": [
    "## 9.3"
   ]
  },
  {
   "cell_type": "code",
   "execution_count": 17,
   "id": "4c2f35b4",
   "metadata": {},
   "outputs": [
    {
     "name": "stdout",
     "output_type": "stream",
     "text": [
      "0.08333333333333333\n"
     ]
    }
   ],
   "source": [
    "print(1/12)"
   ]
  },
  {
   "cell_type": "code",
   "execution_count": 26,
   "id": "12c9b122",
   "metadata": {},
   "outputs": [
    {
     "name": "stdout",
     "output_type": "stream",
     "text": [
      "83.34527175170619\n"
     ]
    }
   ],
   "source": [
    "ret = 0\n",
    "for i in range(0,100000):\n",
    "    x = random.rand(10)\n",
    "    ret += ((x - np.mean(x))@(x - np.mean(x)).T/9)/100    \n",
    "print(ret)"
   ]
  },
  {
   "cell_type": "code",
   "execution_count": 28,
   "id": "f3f79b15",
   "metadata": {},
   "outputs": [
    {
     "name": "stdout",
     "output_type": "stream",
     "text": [
      "75.15643869180647\n"
     ]
    }
   ],
   "source": [
    "ret = 0\n",
    "for i in range(0,100000):\n",
    "    x = random.rand(10)\n",
    "    ret += ((x - np.mean(x))@(x - np.mean(x)).T/10)/100    \n",
    "print(ret)"
   ]
  },
  {
   "cell_type": "markdown",
   "id": "e736377b",
   "metadata": {},
   "source": [
    "## 9.5 "
   ]
  },
  {
   "cell_type": "code",
   "execution_count": 30,
   "id": "fe797adf",
   "metadata": {},
   "outputs": [],
   "source": [
    "from scipy.special import comb\n",
    "import math"
   ]
  },
  {
   "cell_type": "code",
   "execution_count": 36,
   "id": "addda52a",
   "metadata": {},
   "outputs": [
    {
     "name": "stdout",
     "output_type": "stream",
     "text": [
      "0.9720000000000001\n",
      "0.9914399999999999\n"
     ]
    }
   ],
   "source": [
    "    def f(n, p = 0.9):\n",
    "        return sum([comb(n,i)*math.pow(p,i)*math.pow(1-p,n-i) for i in range(n//2+1,n+1)])\n",
    "\n",
    "print(f(3))\n",
    "print(f(5))"
   ]
  },
  {
   "cell_type": "markdown",
   "id": "a732630c",
   "metadata": {},
   "source": [
    "## 9.6"
   ]
  },
  {
   "cell_type": "code",
   "execution_count": 45,
   "id": "a8f1c35f",
   "metadata": {},
   "outputs": [
    {
     "name": "stdout",
     "output_type": "stream",
     "text": [
      "0.4678964236252845\n"
     ]
    }
   ],
   "source": [
    "def poason(x,lmbd):\n",
    "    return math.exp(-1*lmbd)*math.pow(lmbd,x)/math.factorial(x)\n",
    "    \n",
    "p = 1.0    \n",
    "for i in range(0,5):\n",
    "    p -= poason(i, 4.5)\n",
    "print(p)"
   ]
  },
  {
   "cell_type": "markdown",
   "id": "c91e89ee",
   "metadata": {},
   "source": [
    "## 9.7"
   ]
  },
  {
   "cell_type": "markdown",
   "id": "87f4b490",
   "metadata": {},
   "source": [
    "(1) 交通事故死亡者数"
   ]
  },
  {
   "cell_type": "code",
   "execution_count": 50,
   "id": "cdd072f8",
   "metadata": {},
   "outputs": [
    {
     "name": "stdout",
     "output_type": "stream",
     "text": [
      "Hokkaido\t 0.49597884175020945\n",
      "Tokyo\t 0.991867757203066\n",
      "Osaka\t 0.9351825280291335\n",
      "Fukuoka\t 0.7411089165697634\n"
     ]
    }
   ],
   "source": [
    "ma= {\"Hokkaido\": 9.7, \"Tokyo\": 4.0, \"Osaka\":5.7, \"Fukuoka\": 7.8}\n",
    "\n",
    "for city in ma.keys():    \n",
    "    p = 0\n",
    "    for i in range(0,10):\n",
    "        p += poason(i,ma[city])\n",
    "    print(city+'\\t',p)\n"
   ]
  },
  {
   "cell_type": "markdown",
   "id": "9c05459a",
   "metadata": {},
   "source": [
    "(1) 交通事故死亡者数"
   ]
  },
  {
   "cell_type": "code",
   "execution_count": 56,
   "id": "fc45388c",
   "metadata": {},
   "outputs": [
    {
     "name": "stdout",
     "output_type": "stream",
     "text": [
      "Hokkaido\t 0.9839920186786263\n",
      "Tokyo\t 0.9859939779933685\n",
      "Osaka\t 0.9535909639906193\n",
      "Fukuoka\t 0.9071305858827781\n"
     ]
    }
   ],
   "source": [
    "def f(n, p ):\n",
    "    return sum([comb(n,i)*math.pow(p,i)*math.pow(1-p,n-i) for i in range(0,5)])\n",
    "ma= {\"Hokkaido\": 526.6, \"Tokyo\": 508.7, \"Osaka\":703.8, \"Fukuoka\": 867.2}\n",
    "\n",
    "for city in ma.keys():    \n",
    "    p = 0\n",
    "    for i in range(0,5):\n",
    "        p += poason(i,ma[city]/365)\n",
    "    print(city+'\\t',p)"
   ]
  },
  {
   "cell_type": "markdown",
   "id": "5007371a",
   "metadata": {},
   "source": [
    "## 9.8"
   ]
  },
  {
   "cell_type": "markdown",
   "id": "89b6b7de",
   "metadata": {},
   "source": [
    "(1)"
   ]
  },
  {
   "cell_type": "code",
   "execution_count": 101,
   "id": "61070974",
   "metadata": {},
   "outputs": [
    {
     "name": "stdout",
     "output_type": "stream",
     "text": [
      "169.97999999999996\n",
      "28.72559999999991\n"
     ]
    }
   ],
   "source": [
    "heights = np.array([171.0,167.3, 170.6, 178.7, 162.3])\n",
    "print(np.sum(heights)/len(heights))\n",
    "print((heights-heights.mean())@(heights-heights.mean()).T/5)\n",
    "bobunsan = (heights-heights.mean())@(heights-heights.mean()).T/5"
   ]
  },
  {
   "cell_type": "code",
   "execution_count": 113,
   "id": "53990f56",
   "metadata": {},
   "outputs": [],
   "source": [
    "import itertools\n",
    "\n",
    "stuff = [0, 1, 2, 3, 4]\n",
    "\n",
    "ave_list = []\n",
    "ave2_list = []\n",
    "std_list = []\n",
    "for subset in itertools.combinations(stuff, 3):\n",
    "    ar = heights[list(subset)]\n",
    "#     print(list(subset),ar.mean(),)\n",
    "    ave_list.append(ar.mean())    "
   ]
  },
  {
   "cell_type": "code",
   "execution_count": 116,
   "id": "21dc3cf4",
   "metadata": {},
   "outputs": [
    {
     "name": "stdout",
     "output_type": "stream",
     "text": [
      "169.98\n",
      "4.7876000000032946\n",
      "4.787599999999985\n"
     ]
    }
   ],
   "source": [
    "ave_list = np.array(ave_list)\n",
    "print(ave_list.mean())\n",
    "print((ave_list@ave_list.T)/10 - ave_list.mean()**2)\n",
    "print( (bobunsan/3)*(2/4))"
   ]
  },
  {
   "cell_type": "code",
   "execution_count": 112,
   "id": "84e14ef5",
   "metadata": {},
   "outputs": [
    {
     "data": {
      "text/plain": [
       "86765.778"
      ]
     },
     "execution_count": 112,
     "metadata": {},
     "output_type": "execute_result"
    }
   ],
   "source": [
    "np.sum(ave2_list)/10"
   ]
  },
  {
   "cell_type": "code",
   "execution_count": null,
   "id": "0ba51243",
   "metadata": {},
   "outputs": [],
   "source": []
  }
 ],
 "metadata": {
  "kernelspec": {
   "display_name": "Python 3 (ipykernel)",
   "language": "python",
   "name": "python3"
  },
  "language_info": {
   "codemirror_mode": {
    "name": "ipython",
    "version": 3
   },
   "file_extension": ".py",
   "mimetype": "text/x-python",
   "name": "python",
   "nbconvert_exporter": "python",
   "pygments_lexer": "ipython3",
   "version": "3.7.12"
  }
 },
 "nbformat": 4,
 "nbformat_minor": 5
}
