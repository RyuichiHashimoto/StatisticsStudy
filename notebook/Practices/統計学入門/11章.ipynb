{
 "cells": [
  {
   "cell_type": "code",
   "execution_count": 9,
   "id": "6dbc6dcc-2393-483f-926b-d7c3920cecfa",
   "metadata": {},
   "outputs": [],
   "source": [
    "from scipy import stats\n",
    "import numpy as np"
   ]
  },
  {
   "cell_type": "markdown",
   "id": "e1e70b5d-abb6-4da3-ac96-a13ec27273f4",
   "metadata": {},
   "source": [
    "## 11.3"
   ]
  },
  {
   "cell_type": "code",
   "execution_count": 1,
   "id": "3546cd51-2fbf-4d1f-ac4a-178d1c880357",
   "metadata": {},
   "outputs": [],
   "source": [
    "data = [9.75, 7.95, 12.80, 8.25, 9.86]"
   ]
  },
  {
   "cell_type": "code",
   "execution_count": 15,
   "id": "611bdf74-7974-41ae-94ab-23fbf78c0e91",
   "metadata": {},
   "outputs": [
    {
     "name": "stdout",
     "output_type": "stream",
     "text": [
      "ans:  7.968922705640164   11.475077294359835\n"
     ]
    }
   ],
   "source": [
    "l = np.average(data) - 1.96*2*np.sqrt(1/len(data))\n",
    "r = np.average(data) + 1.96*2*np.sqrt(1/len(data))\n",
    "print(\"ans: \", l , \" \", r)"
   ]
  },
  {
   "cell_type": "markdown",
   "id": "a6c12590-b714-4bff-9e27-32b3d2dfa50f",
   "metadata": {},
   "source": [
    "## 11.4"
   ]
  },
  {
   "cell_type": "code",
   "execution_count": 35,
   "id": "f421755d-a239-466a-852d-cfc0b11b6d08",
   "metadata": {},
   "outputs": [
    {
     "data": {
      "text/plain": [
       "238.887936"
      ]
     },
     "execution_count": 35,
     "metadata": {},
     "output_type": "execute_result"
    }
   ],
   "source": [
    "(3*2.576*2)**2"
   ]
  },
  {
   "cell_type": "markdown",
   "id": "2862c32a-f6fc-4372-aeeb-d2e7fbbc6647",
   "metadata": {},
   "source": [
    "## 11.5"
   ]
  },
  {
   "cell_type": "code",
   "execution_count": 36,
   "id": "60215061-ccdd-4a62-97e7-676d9e7f9c11",
   "metadata": {},
   "outputs": [],
   "source": [
    "a = 2.101"
   ]
  },
  {
   "cell_type": "code",
   "execution_count": 37,
   "id": "54a08e9b-9445-497d-ad69-92e276cb0f94",
   "metadata": {},
   "outputs": [],
   "source": [
    "x1 = np.array([7.97, 7.66, 7.59, 8.44, 8.05, 8.08, 8.35, 7.77, 7.98, 8.15])\n",
    "x2 = np.array([8.06, 8.27, 8.45, 8.05, 8.51, 8.14, 8.09, 8.15, 8.16, 8.42])"
   ]
  },
  {
   "cell_type": "code",
   "execution_count": 43,
   "id": "8ea56acc-65ce-4e6b-9f71-04a8a93e1666",
   "metadata": {},
   "outputs": [],
   "source": [
    "def div(x):\n",
    "    return (x - np.mean(x))@(x - np.mean(x)).T"
   ]
  },
  {
   "cell_type": "code",
   "execution_count": 47,
   "id": "f5d18b39-582b-41e1-a864-a36ea73ea53e",
   "metadata": {},
   "outputs": [],
   "source": [
    "ab = - np.mean(x1) + np.mean(x2)\n",
    "s = np.sqrt((div(x1) + div(x2)) / (len(x1)+ len(x2) - 2))\n",
    "bunbo = np.sqrt(2/len(x1))*s"
   ]
  },
  {
   "cell_type": "code",
   "execution_count": 48,
   "id": "3cdf268e-e78e-4d7f-8ea1-36ccb9a4aae6",
   "metadata": {},
   "outputs": [
    {
     "name": "stdout",
     "output_type": "stream",
     "text": [
      "0.010138225347792712 0.44186177465220544\n"
     ]
    }
   ],
   "source": [
    "l = ab - a*bunbo\n",
    "r = ab + a*bunbo\n",
    "print(l, r)"
   ]
  },
  {
   "cell_type": "markdown",
   "id": "0baf5677-472d-4de6-a602-eb6db51172fc",
   "metadata": {},
   "source": [
    "## 11.7"
   ]
  },
  {
   "cell_type": "code",
   "execution_count": 73,
   "id": "fbed7b2e-fffa-4d02-a52e-c28cf5501190",
   "metadata": {},
   "outputs": [],
   "source": [
    "X1 = np.array([25, 24, 25, 26])\n",
    "X2 = np.array([23, 18, 22, 28, 17, 25, 19, 16])"
   ]
  },
  {
   "cell_type": "code",
   "execution_count": 81,
   "id": "d0c3cffb-1d99-4b04-a56c-41b141c98730",
   "metadata": {},
   "outputs": [],
   "source": [
    "S1_2 = div(X1)/(len(X1)-1)\n",
    "S2_2 = div(X2)/(len(X2)-1)\n",
    "m1 = np.mean(X1)\n",
    "m2 = np.mean(X2)"
   ]
  },
  {
   "cell_type": "code",
   "execution_count": 84,
   "id": "c548e5cc-1ff1-4cdb-9027-6b3cadf47d1f",
   "metadata": {},
   "outputs": [],
   "source": [
    "def re_bunbo(X):\n",
    "    s = div(X)/(len(X)-1)    \n",
    "    return (pow(s/len(X),2)/(len(X)- 1))"
   ]
  },
  {
   "cell_type": "code",
   "execution_count": 87,
   "id": "fb322723-c76f-4f1f-90dd-b30f1a7bb82f",
   "metadata": {},
   "outputs": [
    {
     "data": {
      "text/plain": [
       "7.987828071510078"
      ]
     },
     "execution_count": 87,
     "metadata": {},
     "output_type": "execute_result"
    }
   ],
   "source": [
    "re = pow(S1_2/len(X1) + S2_2/len(X2),2)/(re_bunbo(X1)+ re_bunbo(X2))"
   ]
  },
  {
   "cell_type": "code",
   "execution_count": 88,
   "id": "915efe28-21fb-40b2-818b-39b577fd08e6",
   "metadata": {},
   "outputs": [],
   "source": [
    "ra = 2.3076"
   ]
  },
  {
   "cell_type": "code",
   "execution_count": 89,
   "id": "02275609-6120-424a-9f78-d408b025ff7c",
   "metadata": {},
   "outputs": [
    {
     "name": "stdout",
     "output_type": "stream",
     "text": [
      "7.560704103725232 0.4392958962747673\n"
     ]
    }
   ],
   "source": [
    "l = m1 - m2 + ra*np.sqrt(S1_2/len(X1) + S2_2/len(X2)) \n",
    "r = m1 - m2 - ra*np.sqrt(S1_2/len(X1) + S2_2/len(X2)) \n",
    "print(l, r)"
   ]
  },
  {
   "cell_type": "markdown",
   "id": "5e3212aa-bde6-411d-a2a3-d441c2a3f49b",
   "metadata": {
    "tags": []
   },
   "source": [
    "## 11.7"
   ]
  },
  {
   "cell_type": "markdown",
   "id": "f2c8c781-e688-4bf6-ae6e-39fb52ccb279",
   "metadata": {},
   "source": [
    "## (i)"
   ]
  },
  {
   "cell_type": "code",
   "execution_count": 134,
   "id": "145db21c-4851-4fa8-bf60-86b63e84c079",
   "metadata": {},
   "outputs": [],
   "source": [
    "data = np.array([21.8,22.4,22.7,24.5, 25.9, 24.9, 24.8, 25.3, 25.2, 24.6])"
   ]
  },
  {
   "cell_type": "code",
   "execution_count": 135,
   "id": "e317023a-abc4-4079-bf89-7d0437ed91e1",
   "metadata": {},
   "outputs": [],
   "source": [
    "l_p = stats.t.ppf(0.005,len(data)-1)\n",
    "r_p = stats.t.ppf(0.995,len(data)-1)\n",
    "S_data = div(data)/9"
   ]
  },
  {
   "cell_type": "code",
   "execution_count": 136,
   "id": "4c70d400-2537-40d2-9cec-45d7cff66386",
   "metadata": {},
   "outputs": [],
   "source": [
    "l = np.mean(data) + np.sqrt(S_data/len(data)) * l_p\n",
    "r = np.mean(data) + np.sqrt(S_data/len(data)) * r_p"
   ]
  },
  {
   "cell_type": "code",
   "execution_count": 137,
   "id": "deda93c6-daf0-4f7d-85fe-f96983955f3e",
   "metadata": {},
   "outputs": [
    {
     "name": "stdout",
     "output_type": "stream",
     "text": [
      "22.779046896409294 25.640953103590707\n"
     ]
    }
   ],
   "source": [
    "print(l,r)"
   ]
  },
  {
   "cell_type": "markdown",
   "id": "54664897-519a-4f79-9e2e-245b6d061b0f",
   "metadata": {},
   "source": [
    "## (ii)"
   ]
  },
  {
   "cell_type": "code",
   "execution_count": 138,
   "id": "198fb1c9-8b3a-485e-bf55-58cc37d2b607",
   "metadata": {},
   "outputs": [],
   "source": [
    "r_p = stats.chi2.ppf(0.975,9)\n",
    "l_p = stats.chi2.ppf(0.025,9)"
   ]
  },
  {
   "cell_type": "code",
   "execution_count": 139,
   "id": "8decaf3d-4bc8-4c26-8fc6-35cd8f88faf2",
   "metadata": {},
   "outputs": [
    {
     "name": "stdout",
     "output_type": "stream",
     "text": [
      "0.9172692525451521 6.461660438291186\n"
     ]
    }
   ],
   "source": [
    "l = 9*S_data/r_p\n",
    "r = 9*S_data/l_p\n",
    "print(l,r)"
   ]
  },
  {
   "cell_type": "markdown",
   "id": "382e2407-41b0-4346-9134-c1e4247f3259",
   "metadata": {},
   "source": [
    "## (iii)"
   ]
  },
  {
   "cell_type": "code",
   "execution_count": 140,
   "id": "163e52f0-6281-4dfd-a4a2-c86c2291c33e",
   "metadata": {},
   "outputs": [],
   "source": [
    "data1 = np.array([21.8, 22.4, 22.7, 24.5, 25.9, 24.9, 24.8, 25.3, 25.2, 24.6])\n",
    "data2 = np.array([22.1, 25.3, 23.3, 25.2, 25.3, 24.9, 24.9, 24.9, 24.9, 24.0])"
   ]
  },
  {
   "cell_type": "code",
   "execution_count": 141,
   "id": "28819625-6d7f-4e85-b498-4852e2c73624",
   "metadata": {},
   "outputs": [],
   "source": [
    "S = (div(data1) + div(data2))/18"
   ]
  },
  {
   "cell_type": "code",
   "execution_count": 142,
   "id": "9c2099b7-631a-4b87-b986-f6957aff5206",
   "metadata": {},
   "outputs": [],
   "source": [
    "r_p = stats.t.ppf(0.975,18)\n",
    "l_p = stats.t.ppf(0.025,18)"
   ]
  },
  {
   "cell_type": "code",
   "execution_count": 145,
   "id": "2af7bd32-d4e1-48e9-aea9-c252280df51e",
   "metadata": {},
   "outputs": [
    {
     "name": "stdout",
     "output_type": "stream",
     "text": [
      "-1.427203591568162 0.8872035915681629\n"
     ]
    }
   ],
   "source": [
    "l = np.sqrt(S/5)*l_p + np.mean(data1) - np.mean(data2)\n",
    "r = np.sqrt(S/5)*r_p + np.mean(data1) - np.mean(data2)\n",
    "print(l,r)"
   ]
  },
  {
   "cell_type": "markdown",
   "id": "430530cc-dcd1-4fe8-8534-596e18ab9c64",
   "metadata": {},
   "source": [
    "## 11.8"
   ]
  },
  {
   "cell_type": "code",
   "execution_count": 149,
   "id": "ae72c9dc-88ba-46c9-a5fb-bbd78b9202bd",
   "metadata": {},
   "outputs": [],
   "source": [
    "l_p = stats.norm.ppf(0.975)\n",
    "r_p = stats.norm.ppf(0.025)"
   ]
  },
  {
   "cell_type": "code",
   "execution_count": 151,
   "id": "2ec5fef7-b19b-4e53-8a6d-7e1f3faee860",
   "metadata": {},
   "outputs": [],
   "source": [
    "p = 27/50\n",
    "n = 50"
   ]
  },
  {
   "cell_type": "code",
   "execution_count": 152,
   "id": "c69ff848-722f-4f6b-8c54-5e9893f55709",
   "metadata": {},
   "outputs": [],
   "source": [
    "l = l_p * np.sqrt(n*p*(1-p))/n + p \n",
    "r = r_p * np.sqrt(n*p*(1-p))/n + p "
   ]
  },
  {
   "cell_type": "code",
   "execution_count": 153,
   "id": "513bcd92-52fa-4f52-9b11-55d1746be971",
   "metadata": {},
   "outputs": [
    {
     "name": "stdout",
     "output_type": "stream",
     "text": [
      "0.6781461813486295 0.4018538186513706\n"
     ]
    }
   ],
   "source": [
    "print(l,r)"
   ]
  },
  {
   "cell_type": "markdown",
   "id": "79e48fa4-91c5-4625-abae-d3c6ac3861c3",
   "metadata": {},
   "source": [
    "## 11.9"
   ]
  },
  {
   "cell_type": "code",
   "execution_count": 156,
   "id": "c3472bf0-0458-4225-8c7a-49a6b923b983",
   "metadata": {},
   "outputs": [],
   "source": [
    "l_p = stats.norm.ppf(0.995)\n",
    "r_p = stats.norm.ppf(0.005)"
   ]
  },
  {
   "cell_type": "code",
   "execution_count": 159,
   "id": "6005a02a-25f2-4e4c-b7c0-6a7cc130a298",
   "metadata": {},
   "outputs": [],
   "source": [
    "x = np.array([4,3,5,4,8,2,5,9,3,5])\n",
    "l_hat = np.mean(x)"
   ]
  },
  {
   "cell_type": "code",
   "execution_count": 162,
   "id": "b6cbfc4c-6254-43e7-88b4-23a206cce145",
   "metadata": {},
   "outputs": [
    {
     "name": "stdout",
     "output_type": "stream",
     "text": [
      "3.015413109851419 6.5845868901485805\n"
     ]
    }
   ],
   "source": [
    "l =l_hat - l_p*np.sqrt(l_hat/len(x))\n",
    "r = l_hat - r_p*np.sqrt(l_hat/len(x))\n",
    "print(l,r)"
   ]
  },
  {
   "cell_type": "code",
   "execution_count": null,
   "id": "31ba289a-efea-4b8c-8b36-aeee60166f93",
   "metadata": {},
   "outputs": [],
   "source": []
  }
 ],
 "metadata": {
  "kernelspec": {
   "display_name": "Python 3 (ipykernel)",
   "language": "python",
   "name": "python3"
  },
  "language_info": {
   "codemirror_mode": {
    "name": "ipython",
    "version": 3
   },
   "file_extension": ".py",
   "mimetype": "text/x-python",
   "name": "python",
   "nbconvert_exporter": "python",
   "pygments_lexer": "ipython3",
   "version": "3.7.12"
  }
 },
 "nbformat": 4,
 "nbformat_minor": 5
}
