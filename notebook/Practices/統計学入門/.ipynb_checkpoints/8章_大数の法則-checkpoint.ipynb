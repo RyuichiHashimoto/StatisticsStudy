{
 "cells": [
  {
   "cell_type": "code",
   "execution_count": 2,
   "id": "15887a5d",
   "metadata": {},
   "outputs": [],
   "source": [
    "import math\n",
    "from scipy.special import comb"
   ]
  },
  {
   "cell_type": "code",
   "execution_count": 3,
   "id": "11af5f3b",
   "metadata": {},
   "outputs": [],
   "source": [
    "n = 10\n",
    "f = [i for i in range(n+1)]\n",
    "f = [conb(n,i) for i in range(n+1)]"
   ]
  },
  {
   "cell_type": "code",
   "execution_count": null,
   "id": "e27f0028",
   "metadata": {},
   "outputs": [],
   "source": []
  }
 ],
 "metadata": {
  "kernelspec": {
   "display_name": "Python 3 (ipykernel)",
   "language": "python",
   "name": "python3"
  },
  "language_info": {
   "codemirror_mode": {
    "name": "ipython",
    "version": 3
   },
   "file_extension": ".py",
   "mimetype": "text/x-python",
   "name": "python",
   "nbconvert_exporter": "python",
   "pygments_lexer": "ipython3",
   "version": "3.7.12"
  }
 },
 "nbformat": 4,
 "nbformat_minor": 5
}
