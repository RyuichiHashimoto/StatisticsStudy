{
 "cells": [
  {
   "cell_type": "markdown",
   "id": "737ba2af",
   "metadata": {},
   "source": [
    "## 9.2"
   ]
  },
  {
   "cell_type": "code",
   "execution_count": 11,
   "id": "8df121a3",
   "metadata": {},
   "outputs": [],
   "source": [
    "import numpy as np\n",
    "from numpy import random"
   ]
  },
  {
   "cell_type": "code",
   "execution_count": 2,
   "id": "48a57433",
   "metadata": {},
   "outputs": [],
   "source": [
    "x = np.array([1.22,1.24,1.25,1.19, 1.17, 1.18])"
   ]
  },
  {
   "cell_type": "code",
   "execution_count": 9,
   "id": "a7f8e594",
   "metadata": {},
   "outputs": [
    {
     "name": "stdout",
     "output_type": "stream",
     "text": [
      "X_ 1.2083333333333333\n",
      "X_ 0.0010966666666666687\n"
     ]
    }
   ],
   "source": [
    "print('X_',np.mean(x))\n",
    "print('X_', ((x - np.mean(x))@(x - np.mean(x)).T)/(len(x)-1))"
   ]
  },
  {
   "cell_type": "markdown",
   "id": "900f6183",
   "metadata": {},
   "source": [
    "## 9.3"
   ]
  },
  {
   "cell_type": "code",
   "execution_count": 17,
   "id": "c14926a6",
   "metadata": {},
   "outputs": [
    {
     "name": "stdout",
     "output_type": "stream",
     "text": [
      "0.08333333333333333\n"
     ]
    }
   ],
   "source": [
    "print(1/12)"
   ]
  },
  {
   "cell_type": "code",
   "execution_count": 26,
   "id": "962abc43",
   "metadata": {},
   "outputs": [
    {
     "name": "stdout",
     "output_type": "stream",
     "text": [
      "83.34527175170619\n"
     ]
    }
   ],
   "source": [
    "ret = 0\n",
    "for i in range(0,100000):\n",
    "    x = random.rand(10)\n",
    "    ret += ((x - np.mean(x))@(x - np.mean(x)).T/9)/100    \n",
    "print(ret)"
   ]
  },
  {
   "cell_type": "code",
   "execution_count": 28,
   "id": "15d56c4c",
   "metadata": {},
   "outputs": [
    {
     "name": "stdout",
     "output_type": "stream",
     "text": [
      "75.15643869180647\n"
     ]
    }
   ],
   "source": [
    "ret = 0\n",
    "for i in range(0,100000):\n",
    "    x = random.rand(10)\n",
    "    ret += ((x - np.mean(x))@(x - np.mean(x)).T/10)/100    \n",
    "print(ret)"
   ]
  },
  {
   "cell_type": "markdown",
   "id": "2e897ece",
   "metadata": {},
   "source": [
    "## 9.5 "
   ]
  },
  {
   "cell_type": "code",
   "execution_count": 30,
   "id": "933c14e0",
   "metadata": {},
   "outputs": [],
   "source": [
    "from scipy.special import comb\n",
    "import math"
   ]
  },
  {
   "cell_type": "code",
   "execution_count": 36,
   "id": "924819da",
   "metadata": {},
   "outputs": [
    {
     "name": "stdout",
     "output_type": "stream",
     "text": [
      "0.9720000000000001\n",
      "0.9914399999999999\n"
     ]
    }
   ],
   "source": [
    "    def f(n, p = 0.9):\n",
    "        return sum([comb(n,i)*math.pow(p,i)*math.pow(1-p,n-i) for i in range(n//2+1,n+1)])\n",
    "\n",
    "print(f(3))\n",
    "print(f(5))"
   ]
  },
  {
   "cell_type": "markdown",
   "id": "d47eb10e",
   "metadata": {},
   "source": [
    "## 9.6"
   ]
  },
  {
   "cell_type": "code",
   "execution_count": 45,
   "id": "ba5e9052",
   "metadata": {},
   "outputs": [
    {
     "name": "stdout",
     "output_type": "stream",
     "text": [
      "0.4678964236252845\n"
     ]
    }
   ],
   "source": [
    "def poason(x,lmbd):\n",
    "    return math.exp(-1*lmbd)*math.pow(lmbd,x)/math.factorial(x)\n",
    "    \n",
    "p = 1.0    \n",
    "for i in range(0,5):\n",
    "    p -= poason(i, 4.5)\n",
    "print(p)"
   ]
  },
  {
   "cell_type": "markdown",
   "id": "53704351",
   "metadata": {},
   "source": [
    "## 9.7"
   ]
  },
  {
   "cell_type": "markdown",
   "id": "c7aca15c",
   "metadata": {},
   "source": [
    "(1) 交通事故死亡者数"
   ]
  },
  {
   "cell_type": "code",
   "execution_count": 50,
   "id": "eac459d5",
   "metadata": {},
   "outputs": [
    {
     "name": "stdout",
     "output_type": "stream",
     "text": [
      "Hokkaido\t 0.49597884175020945\n",
      "Tokyo\t 0.991867757203066\n",
      "Osaka\t 0.9351825280291335\n",
      "Fukuoka\t 0.7411089165697634\n"
     ]
    }
   ],
   "source": [
    "ma= {\"Hokkaido\": 9.7, \"Tokyo\": 4.0, \"Osaka\":5.7, \"Fukuoka\": 7.8}\n",
    "\n",
    "for city in ma.keys():    \n",
    "    p = 0\n",
    "    for i in range(0,10):\n",
    "        p += poason(i,ma[city])\n",
    "    print(city+'\\t',p)\n"
   ]
  },
  {
   "cell_type": "markdown",
   "id": "fe3b2b7c",
   "metadata": {},
   "source": [
    "(1) 交通事故死亡者数"
   ]
  },
  {
   "cell_type": "code",
   "execution_count": 56,
   "id": "937a484e",
   "metadata": {},
   "outputs": [
    {
     "name": "stdout",
     "output_type": "stream",
     "text": [
      "Hokkaido\t 0.9839920186786263\n",
      "Tokyo\t 0.9859939779933685\n",
      "Osaka\t 0.9535909639906193\n",
      "Fukuoka\t 0.9071305858827781\n"
     ]
    }
   ],
   "source": [
    "def f(n, p ):\n",
    "    return sum([comb(n,i)*math.pow(p,i)*math.pow(1-p,n-i) for i in range(0,5)])\n",
    "ma= {\"Hokkaido\": 526.6, \"Tokyo\": 508.7, \"Osaka\":703.8, \"Fukuoka\": 867.2}\n",
    "\n",
    "for city in ma.keys():    \n",
    "    p = 0\n",
    "    for i in range(0,5):\n",
    "        p += poason(i,ma[city]/365)\n",
    "    print(city+'\\t',p)"
   ]
  },
  {
   "cell_type": "markdown",
   "id": "3271cf41",
   "metadata": {},
   "source": [
    "## 9.8"
   ]
  },
  {
   "cell_type": "markdown",
   "id": "bd1ca664",
   "metadata": {},
   "source": [
    "(1)"
   ]
  },
  {
   "cell_type": "code",
   "execution_count": 66,
   "id": "4f708e5c",
   "metadata": {},
   "outputs": [
    {
     "name": "stdout",
     "output_type": "stream",
     "text": [
      "169.97999999999996\n"
     ]
    }
   ],
   "source": [
    "heights = np.array([171.0,167.3, 170.6, 178.7, 162.3])\n",
    "print(np.sum(heights)/len(heights))"
   ]
  },
  {
   "cell_type": "code",
   "execution_count": 72,
   "id": "1bf9f9c9",
   "metadata": {},
   "outputs": [
    {
     "name": "stdout",
     "output_type": "stream",
     "text": [
      "[0, 1, 2] 169.63333333333333\n",
      "[0, 1, 3] 172.33333333333334\n",
      "[0, 1, 4] 166.86666666666667\n",
      "[0, 2, 3] 173.4333333333333\n",
      "[0, 2, 4] 167.96666666666667\n",
      "[0, 3, 4] 170.66666666666666\n",
      "[1, 2, 3] 172.19999999999996\n",
      "[1, 2, 4] 166.73333333333332\n",
      "[1, 3, 4] 169.43333333333334\n",
      "[2, 3, 4] 170.53333333333333\n"
     ]
    }
   ],
   "source": [
    "import itertools\n",
    "\n",
    "stuff = [0, 1, 2, 3, 4]\n",
    "for subset in itertools.combinations(stuff, 3):\n",
    "    ar = heights[list(subset)]\n",
    "    print(list(subset),ar.mean(), )\n",
    "    "
   ]
  },
  {
   "cell_type": "code",
   "execution_count": null,
   "id": "fce5ba73",
   "metadata": {},
   "outputs": [],
   "source": []
  }
 ],
 "metadata": {
  "kernelspec": {
   "display_name": "Python 3 (ipykernel)",
   "language": "python",
   "name": "python3"
  },
  "language_info": {
   "codemirror_mode": {
    "name": "ipython",
    "version": 3
   },
   "file_extension": ".py",
   "mimetype": "text/x-python",
   "name": "python",
   "nbconvert_exporter": "python",
   "pygments_lexer": "ipython3",
   "version": "3.7.12"
  }
 },
 "nbformat": 4,
 "nbformat_minor": 5
}
