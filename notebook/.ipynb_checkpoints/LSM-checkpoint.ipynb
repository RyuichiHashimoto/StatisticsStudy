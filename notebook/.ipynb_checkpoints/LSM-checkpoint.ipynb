{
 "cells": [
  {
   "cell_type": "code",
   "execution_count": 9,
   "id": "23016042",
   "metadata": {},
   "outputs": [
    {
     "name": "stdout",
     "output_type": "stream",
     "text": [
      "310192832116199839\n"
     ]
    }
   ],
   "source": [
    "a = 176123\n",
    "b = 9999991\n",
    "\n",
    "print((a**2) * b)"
   ]
  },
  {
   "cell_type": "code",
   "execution_count": 1,
   "id": "9ba5838b-386a-43ce-ace0-baa059c78916",
   "metadata": {},
   "outputs": [],
   "source": [
    "import pandas as pd\n",
    "import numpy as np\n",
    "import matplotlib.pyplot as plt"
   ]
  },
  {
   "cell_type": "code",
   "execution_count": 2,
   "id": "66746a04-deb9-4aab-8615-e0cdfce9b94b",
   "metadata": {},
   "outputs": [],
   "source": [
    "# 最小２情報の実装"
   ]
  },
  {
   "cell_type": "code",
   "execution_count": 3,
   "id": "e3039631-8072-4316-a0f3-aa001992b553",
   "metadata": {},
   "outputs": [],
   "source": [
    "a = 5\n",
    "b = 1000;"
   ]
  },
  {
   "cell_type": "code",
   "execution_count": 4,
   "id": "1ddb2213-dd18-46b8-836f-350962074a5f",
   "metadata": {},
   "outputs": [
    {
     "data": {
      "text/plain": [
       "<matplotlib.collections.PathCollection at 0x7fa10fdcbd10>"
      ]
     },
     "execution_count": 4,
     "metadata": {},
     "output_type": "execute_result"
    },
    {
     "data": {
      "image/png": "[encoded data removed]",
      "text/plain": [
       "<Figure size 432x288 with 1 Axes>"
      ]
     },
     "metadata": {
      "needs_background": "light"
     },
     "output_type": "display_data"
    }
   ],
   "source": [
    "X_T = np.random.rand(1000)\n",
    "Y_T = a + b*X_T + np.random.normal(0,0.5,1000)\n",
    "plt.scatter(X_T,Y_T)"
   ]
  },
  {
   "cell_type": "code",
   "execution_count": 5,
   "id": "d9b0fddc-0cd0-4fa7-bf3d-a607541b871f",
   "metadata": {},
   "outputs": [
    {
     "name": "stdout",
     "output_type": "stream",
     "text": [
      "0.4872175837803775 492.21522960760234\n"
     ]
    }
   ],
   "source": [
    "X_mean = np.mean(X_T)\n",
    "Y_mean = np.mean(Y_T)\n",
    "print(X_mean,Y_mean)"
   ]
  },
  {
   "cell_type": "code",
   "execution_count": 6,
   "id": "50b91dd7-7843-4645-a7de-3c97b4e4ba29",
   "metadata": {},
   "outputs": [
    {
     "name": "stdout",
     "output_type": "stream",
     "text": [
      "5.0027174826067835 999.9895905740048\n"
     ]
    }
   ],
   "source": [
    "conb = np.cov(X_T, Y_T)\n",
    "b = conb[0][1]/conb[0][0]\n",
    "a = Y_mean - X_mean*b\n",
    "print(a,b)"
   ]
  },
  {
   "cell_type": "code",
   "execution_count": 7,
   "id": "73a147d2-5a5b-46fe-9360-49936b33229e",
   "metadata": {},
   "outputs": [],
   "source": [
    "pred_Y = [a+ b*i for i in X_T]"
   ]
  },
  {
   "cell_type": "code",
   "execution_count": null,
   "id": "38544502-5150-4ea2-b2e8-bb96d78bf4d0",
   "metadata": {},
   "outputs": [],
   "source": []
  },
  {
   "cell_type": "code",
   "execution_count": 8,
   "id": "12a9f1ba-30e6-4dd9-927b-cbfd53bdbb00",
   "metadata": {},
   "outputs": [
    {
     "name": "stdout",
     "output_type": "stream",
     "text": [
      "Sy 81484299.21032527\n",
      "SR 81484056.12013093\n",
      "Se 243.0901943220464\n",
      "81484299.21032527 81484299.21032524\n"
     ]
    }
   ],
   "source": [
    "Sy = (Y_T - Y_mean)@(Y_T - Y_mean).T\n",
    "Sr = (pred_Y - Y_mean)@(pred_Y - Y_mean).T\n",
    "Se = (pred_Y - Y_T)@(pred_Y - Y_T).T\n",
    "\n",
    "print(\"Sy\",Sy)\n",
    "print(\"SR\",Sr)\n",
    "print(\"Se\",Se)\n",
    "print(Sy, Sr + Se)"
   ]
  },
  {
   "cell_type": "code",
   "execution_count": 9,
   "id": "af8cc82a-1fd5-42c9-87ba-9c310b187ca1",
   "metadata": {},
   "outputs": [
    {
     "data": {
      "text/plain": [
       "<matplotlib.collections.PathCollection at 0x7fa1222f9690>"
      ]
     },
     "execution_count": 9,
     "metadata": {},
     "output_type": "execute_result"
    },
    {
     "data": {
      "image/png": "[encoded data removed]",
      "text/plain": [
       "<Figure size 432x288 with 1 Axes>"
      ]
     },
     "metadata": {
      "needs_background": "light"
     },
     "output_type": "display_data"
    }
   ],
   "source": [
    "plt.scatter(X_T,Y_T)\n",
    "plt.scatter(X_T,pred_Y)"
   ]
  },
  {
   "cell_type": "code",
   "execution_count": 10,
   "id": "b4abf7fc-2dc2-4567-8117-4c1a7c94907a",
   "metadata": {},
   "outputs": [],
   "source": [
    "# 誤差の大きさによる影響"
   ]
  },
  {
   "cell_type": "code",
   "execution_count": null,
   "id": "eab058df-2646-458d-ac2e-69ad7fa1f7e8",
   "metadata": {},
   "outputs": [],
   "source": []
  },
  {
   "cell_type": "code",
   "execution_count": 11,
   "id": "93282746-9f77-4233-b2f1-dc1117d07d95",
   "metadata": {},
   "outputs": [],
   "source": [
    "def calc(std, ax):\n",
    "    a = 4\n",
    "    b = 5\n",
    "    \n",
    "    X_T = np.random.rand(1000)\n",
    "    Y_T = a + b*X_T + np.random.normal(0, std, 1000)\n",
    "\n",
    "    X_mean = np.mean(X_T)\n",
    "    Y_mean = np.mean(Y_T)\n",
    "\n",
    "    \n",
    "    conb = np.cov(X_T, Y_T)\n",
    "    pred_b = conb[0][1]/conb[0][0]\n",
    "    pred_a = Y_mean - X_mean*pred_b\n",
    "    pred_Y = [pred_a + pred_b*i for i in X_T]\n",
    "\n",
    "    Sy = (Y_T - Y_mean)@(Y_T - Y_mean).T\n",
    "    Sr = (pred_Y - Y_mean)@(pred_Y - Y_mean).T\n",
    "    Se = (pred_Y - Y_T)@(pred_Y - Y_T).T\n",
    "    \n",
    "    print(np.corrcoef(X_T,Y_T)[0,1])\n",
    "    print(Sy,Sr,Se)\n",
    "    print(Sy, Sr + Se)\n",
    "    print(Sr/(Sr + Se))\n",
    "    ax.scatter(X_T,Y_T)\n",
    "    ax.scatter(X_T,pred_Y)\n",
    "    \n"
   ]
  },
  {
   "cell_type": "code",
   "execution_count": 12,
   "id": "79d25888-67ee-4c42-b15b-489163190b10",
   "metadata": {},
   "outputs": [
    {
     "name": "stdout",
     "output_type": "stream",
     "text": [
      "--------------------\n",
      "0.023425069415587148\n",
      "973510209.6182823 534198.0317446861 972976011.5865376\n",
      "973510209.6182823 973510209.6182823\n",
      "0.0005487338771250766\n",
      "--------------------\n",
      "0.35781439142942356\n",
      "19138.601901929695 2450.3369948981535 16688.264907031546\n",
      "19138.601901929695 19138.6019019297\n",
      "0.12803113871400879\n",
      "--------------------\n",
      "1.0\n",
      "2101.7043028749486 2101.7043028749495 6.1136720154628415e-28\n",
      "2101.7043028749486 2101.7043028749495\n",
      "1.0\n"
     ]
    },
    {
     "data": {
      "image/png": "[encoded data removed]",
      "text/plain": [
       "<Figure size 720x288 with 3 Axes>"
      ]
     },
     "metadata": {
      "needs_background": "light"
     },
     "output_type": "display_data"
    }
   ],
   "source": [
    "fig, axs = plt.subplots(1, 3,figsize= (10,4));\n",
    "print(\"--------------------\")\n",
    "calc(1000,axs[0])\n",
    "print(\"--------------------\")\n",
    "calc(4,axs[1])\n",
    "print(\"--------------------\")\n",
    "calc(0.0,axs[2])"
   ]
  },
  {
   "cell_type": "code",
   "execution_count": 16,
   "id": "00bf2e9b-4254-4355-9bab-1ce68efe902c",
   "metadata": {},
   "outputs": [
    {
     "data": {
      "text/plain": [
       "15324"
      ]
     },
     "execution_count": 16,
     "metadata": {},
     "output_type": "execute_result"
    }
   ],
   "source": [
    "15324\n",
    "15324"
   ]
  },
  {
   "cell_type": "code",
   "execution_count": 182,
   "id": "f17b9a8e",
   "metadata": {
    "scrolled": false
   },
   "outputs": [
    {
     "name": "stdout",
     "output_type": "stream",
     "text": [
      "1000001\n"
     ]
    }
   ],
   "source": [
    "from queue import Queue\n",
    "def solution(maze):\n",
    "    dp_rest = [None, None]\n",
    "    dp_rest0 = [[1000000 for i in range(21)] for j in range(21)]\n",
    "    dp_rest1 = [[1000000 for i in range(21)] for j in range(21)]\n",
    "    reached = [[False for i in range(21)] for j in range(21)]\n",
    "    h = len(maze)\n",
    "    w = len(maze[0])\n",
    "            \n",
    "    que = Queue()\n",
    "    \n",
    "    dp_rest1[0][0] = 1\n",
    "    reached[0][0] = True\n",
    "    que.put([0,0,1])\n",
    "                \n",
    "    while not que.empty():\n",
    "        x, y, br = que.get()\n",
    "                \n",
    "        ds = [[0,1], [0,-1], [1,0], [-1,0]]\n",
    "        \n",
    "        \n",
    "        for dx, dy in ds:\n",
    "            next_x = x + dx\n",
    "            next_y = y + dy             \n",
    "            \n",
    "            if (next_x < 0) or (next_x >= h):\n",
    "                continue\n",
    "            if (next_y < 0) or (next_y >= w):\n",
    "                continue\n",
    "                                                                                                           \n",
    "            if (next_x == h-1) and (next_y == w-1):\n",
    "                if br == 0:\n",
    "                    return dp_rest0[next_x][next_y] + 1            \n",
    "                elif br == 1:\n",
    "                    return dp_rest1[next_x][next_y] + 1            \n",
    "            \n",
    "            if (br == 0) and (maze[next_x][next_y] == 1):\n",
    "                continue\n",
    "                \n",
    "            if (br == 1) and (maze[next_x][next_y] == 1):\n",
    "                if (dp_rest0[next_x][next_y] <= dp_rest1[x][y] + 1):\n",
    "                    continue\n",
    "                                    \n",
    "                dp_rest0[next_x][next_y] = dp_rest1[x][y] + 1\n",
    "                que.put([next_x, next_y, 0])\n",
    "            \n",
    "            \n",
    "            if (br == 0) and (maze[next_x][next_y] == 0):\n",
    "                if (dp_rest0[next_x][next_y] <= dp_rest0[x][y] + 1):\n",
    "                    continue                \n",
    "                if (dp_rest1[next_x][next_y] <= dp_rest0[x][y] + 1):\n",
    "                    continue\n",
    "                \n",
    "                dp_rest0[next_x][next_y] = dp_rest0[x][y] + 1\n",
    "                que.put([next_x, next_y, 0])\n",
    "                \n",
    "            if (br == 1) and (maze[next_x][next_y] == 0):\n",
    "                if (dp_rest1[next_x][next_y] <= dp_rest1[x][y] + 1):\n",
    "                    continue\n",
    "\n",
    "                dp_rest1[next_x][next_y] = dp_rest1[x][y] + 1\n",
    "                que.put([next_x, next_y, 1])\n",
    "                                \n",
    "    \n",
    "\n",
    "maze = [[0 for i in range(20)] for j in range(20)]\n",
    "# print(maze)\n",
    "print(solution(maze))"
   ]
  },
  {
   "cell_type": "code",
   "execution_count": 211,
   "id": "320e4872",
   "metadata": {},
   "outputs": [
    {
     "name": "stdout",
     "output_type": "stream",
     "text": [
      "0 [<__main__.Edge object at 0x7fdc8a1b6f90>, <__main__.Edge object at 0x7fdc8a1b5150>, <__main__.Edge object at 0x7fdc8a1b5490>]\n",
      "1 [<__main__.Edge object at 0x7fdc8a1b5190>, <__main__.Edge object at 0x7fdc8a1b5210>, <__main__.Edge object at 0x7fdc8a1b5510>]\n",
      "2 [<__main__.Edge object at 0x7fdc8a1b5110>, <__main__.Edge object at 0x7fdc8a1b51d0>, <__main__.Edge object at 0x7fdc8a1b5290>, <__main__.Edge object at 0x7fdc8a1b5310>]\n",
      "3 [<__main__.Edge object at 0x7fdc8a1b50d0>, <__main__.Edge object at 0x7fdc8a1b5250>, <__main__.Edge object at 0x7fdc8a1b5390>, <__main__.Edge object at 0x7fdc8a1b5410>]\n",
      "4 [<__main__.Edge object at 0x7fdc8a1b52d0>, <__main__.Edge object at 0x7fdc8a1b53d0>, <__main__.Edge object at 0x7fdc8a1b5550>]\n",
      "5 [<__main__.Edge object at 0x7fdc8a1b5350>, <__main__.Edge object at 0x7fdc8a1b5450>, <__main__.Edge object at 0x7fdc8a1b55d0>]\n",
      "6 [<__main__.Edge object at 0x7fdc8a1b6dd0>, <__main__.Edge object at 0x7fdc8a1b54d0>]\n",
      "7 [<__main__.Edge object at 0x7fdc8a1b5590>, <__main__.Edge object at 0x7fdc8a1b5610>]\n",
      "8 []\n"
     ]
    }
   ],
   "source": [
    "class Edge:\n",
    "    def __init__(self, f, t, cap, rev):\n",
    "        self.f = f\n",
    "        self.t = t\n",
    "        self.cap = cap\n",
    "        self.rev = rev\n",
    "        \n",
    "    def __str__(self):\n",
    "        return f\"{self.f} {self.t}, {self.cap}, {self.rev}\"\n",
    "        \n",
    "class Graph:\n",
    "    def __init__(self, n_of_nodes):\n",
    "        self.G = [[] for i in range(n_of_nodes+1)]\n",
    "        self.n_nodes = n_of_nodes\n",
    "        \n",
    "    def add_edge(self, f, t, cap):\n",
    "        e = Edge(f,t,cap, len(self.G[t]))\n",
    "        inv_e = Edge(t,f,0, len(self.G[f])-1)\n",
    "                \n",
    "        self.G[e.f].append(e)\n",
    "        self.G[inv_e.f].append(inv_e)\n",
    "    \n",
    "def obtain_increased_flow(g, used, v, t, f):\n",
    "    if v == t:\n",
    "        return f\n",
    "    \n",
    "    used[v] = True\n",
    "    \n",
    "    for i in range(0, len(g.G[v])):\n",
    "        et = g.G[v][i].t\n",
    "        ecap = g.G[v][i].cap\n",
    "        erev = g.G[v][i].rev\n",
    "        \n",
    "        if (not used[et]) and (ecap > 0):\n",
    "            d = obtain_increased_flow(g, used, et, t, min(f, ecap))\n",
    "            if d > 0:\n",
    "                g.G[v][i].cap -= d\n",
    "                g.G[et][erev].cap += d\n",
    "                return d\n",
    "        \n",
    "        \n",
    "        \n",
    "        \n",
    "    return 0\n",
    "        \n",
    "    \n",
    "def solve(g, s, t):\n",
    "    flow = 0\n",
    "    MAX_VAL = 0x7FFFFFFF\n",
    "        \n",
    "    while True:\n",
    "        used = [False for i in  range(g.n_nodes+1)]\n",
    "        f = obtain_increased_flow(g, used, s, t, MAX_VAL)\n",
    "        if f == 0:\n",
    "            return flow\n",
    "        flow += f\n",
    "        \n",
    "        \n",
    "            \n",
    "        \n",
    "def solution(entrances, exits, path):\n",
    "    \n",
    "    g = Graph(len(path)+2)\n",
    "    \n",
    "    for from_idx, routes in enumerate(path):\n",
    "        for to_idx, cap in enumerate(routes):\n",
    "            if cap == 0:\n",
    "                continue\n",
    "            g.add_edge(from_idx, to_idx, cap)\n",
    "                \n",
    "    \n",
    "    start_idx = len(path)\n",
    "    goal_idx = len(path) + 1\n",
    "    \n",
    "    for ent in entrances:\n",
    "        g.add_edge(start_idx, ent, 0xFFFFFFFF)\n",
    "    \n",
    "    for goal in exits:\n",
    "        g.add_edge(goal, goal_idx, 0xFFFFFFFF)\n",
    "        \n",
    "        \n",
    "    for idx,i in enumerate(g.G):\n",
    "        print(idx, i)\n",
    "            \n",
    "        \n",
    "    \n",
    "#     return solve(g, start_idx, goal_idx)\n",
    "    \n",
    "            \n",
    "            \n",
    "                \n",
    "            \n",
    "        \n",
    "solution([0, 1], [4, 5], [[0, 0, 4, 6, 0, 0], [0, 0, 5, 2, 0, 0], [0, 0, 0, 0, 4, 4], [0, 0, 0, 0, 6, 6], [0, 0, 0, 0, 0, 0], [0, 0, 0, 0, 0, 0]])            "
   ]
  },
  {
   "cell_type": "code",
   "execution_count": 193,
   "id": "b9f822bc",
   "metadata": {},
   "outputs": [
    {
     "data": {
      "text/plain": [
       "4294967295"
      ]
     },
     "execution_count": 193,
     "metadata": {},
     "output_type": "execute_result"
    }
   ],
   "source": []
  },
  {
   "cell_type": "code",
   "execution_count": 189,
   "id": "4336c16d",
   "metadata": {},
   "outputs": [
    {
     "name": "stdout",
     "output_type": "stream",
     "text": [
      "[True, False]\n"
     ]
    }
   ],
   "source": [
    "used = [False, False]\n",
    "def can(use):\n",
    "    use[0]=True\n",
    "    \n",
    "    \n",
    "    \n",
    "can(used)    \n",
    "print(used)"
   ]
  },
  {
   "cell_type": "code",
   "execution_count": null,
   "id": "7ea95ff9",
   "metadata": {},
   "outputs": [],
   "source": []
  }
 ],
 "metadata": {
  "kernelspec": {
   "display_name": "Python 3 (ipykernel)",
   "language": "python",
   "name": "python3"
  },
  "language_info": {
   "codemirror_mode": {
    "name": "ipython",
    "version": 3
   },
   "file_extension": ".py",
   "mimetype": "text/x-python",
   "name": "python",
   "nbconvert_exporter": "python",
   "pygments_lexer": "ipython3",
   "version": "3.7.12"
  }
 },
 "nbformat": 4,
 "nbformat_minor": 5
}
