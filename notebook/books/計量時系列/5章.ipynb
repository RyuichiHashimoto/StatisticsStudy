{
 "cells": [
  {
   "cell_type": "code",
   "execution_count": 6,
   "id": "1fb5d398-6d32-4028-a7c8-63fb107145d6",
   "metadata": {
    "tags": []
   },
   "outputs": [],
   "source": [
    "import numpy as np\n",
    "from scipy.stats import norm"
   ]
  },
  {
   "cell_type": "markdown",
   "id": "e25d3052-ba14-4363-a857-e5eac5666222",
   "metadata": {},
   "source": [
    "# 5.1"
   ]
  },
  {
   "cell_type": "code",
   "execution_count": 7,
   "id": "a8a72438-9ced-4a1d-b12f-72976d145261",
   "metadata": {
    "tags": []
   },
   "outputs": [],
   "source": [
    "y = [107.5, 104.0, 104.5, 107.6,106.7, 110.8, 110.5, 112.4, 113.0, 111.6]"
   ]
  },
  {
   "cell_type": "markdown",
   "id": "8ce2fa4d-a99d-4856-8115-72db656c61cc",
   "metadata": {},
   "source": [
    "## 5.1 (1)"
   ]
  },
  {
   "cell_type": "code",
   "execution_count": 8,
   "id": "4f902f25-c5a9-4634-9265-48476631f7f9",
   "metadata": {
    "tags": []
   },
   "outputs": [
    {
     "name": "stdout",
     "output_type": "stream",
     "text": [
      "112.1\n"
     ]
    }
   ],
   "source": [
    "ans = y[-1] + 0.5\n",
    "print(ans)"
   ]
  },
  {
   "cell_type": "markdown",
   "id": "80b181b3-b3bd-46b0-bfc5-7ef6caab072a",
   "metadata": {
    "tags": []
   },
   "source": [
    "## 5.1 (2)"
   ]
  },
  {
   "cell_type": "code",
   "execution_count": 40,
   "id": "de6ea280-8f47-4c25-a7ee-3fefc38d7c87",
   "metadata": {
    "tags": []
   },
   "outputs": [],
   "source": [
    "left = norm.ppf(0.025)/2\n",
    "right = norm.ppf(0.975)/2"
   ]
  },
  {
   "cell_type": "code",
   "execution_count": 41,
   "id": "100bac2a-1ad1-45bf-9944-886a3fa2edae",
   "metadata": {
    "tags": []
   },
   "outputs": [],
   "source": [
    "left_deltat = left + 0.5\n",
    "right_deltat = right + 0.5"
   ]
  },
  {
   "cell_type": "code",
   "execution_count": 42,
   "id": "bab1a3c2-e307-46c4-acb9-b851f7d7adcb",
   "metadata": {
    "tags": []
   },
   "outputs": [
    {
     "name": "stdout",
     "output_type": "stream",
     "text": [
      "111.12001800772997 113.07998199227002\n"
     ]
    }
   ],
   "source": [
    "print(y[-1] + left_deltat, y[-1] + right_deltat)"
   ]
  },
  {
   "cell_type": "markdown",
   "id": "06c7081e-f034-4139-af65-1a7c96fdca9c",
   "metadata": {},
   "source": [
    "## 5.1 (3)"
   ]
  },
  {
   "cell_type": "code",
   "execution_count": 43,
   "id": "555b80ef-398b-41ab-a041-7e56e345a408",
   "metadata": {
    "tags": []
   },
   "outputs": [
    {
     "name": "stdout",
     "output_type": "stream",
     "text": [
      "112.6\n"
     ]
    }
   ],
   "source": [
    "ans = y[-1] + 1.0\n",
    "print(ans)"
   ]
  },
  {
   "cell_type": "markdown",
   "id": "e3225e42-a2ec-4d7a-99c7-a6655cf76428",
   "metadata": {},
   "source": [
    "## 5.1 (5)"
   ]
  },
  {
   "cell_type": "code",
   "execution_count": 45,
   "id": "36479590-7686-449c-b487-90695e8e8976",
   "metadata": {
    "tags": []
   },
   "outputs": [
    {
     "name": "stdout",
     "output_type": "stream",
     "text": [
      "161.6\n"
     ]
    }
   ],
   "source": [
    "ans = y[-1] + 0.5*100\n",
    "print(ans)"
   ]
  },
  {
   "cell_type": "code",
   "execution_count": null,
   "id": "00127581-ed36-49d7-9367-2fa2807bf0d4",
   "metadata": {},
   "outputs": [],
   "source": [
    "##"
   ]
  }
 ],
 "metadata": {
  "kernelspec": {
   "display_name": "Python 3 (ipykernel)",
   "language": "python",
   "name": "python3"
  },
  "language_info": {
   "codemirror_mode": {
    "name": "ipython",
    "version": 3
   },
   "file_extension": ".py",
   "mimetype": "text/x-python",
   "name": "python",
   "nbconvert_exporter": "python",
   "pygments_lexer": "ipython3",
   "version": "3.9.17"
  }
 },
 "nbformat": 4,
 "nbformat_minor": 5
}
