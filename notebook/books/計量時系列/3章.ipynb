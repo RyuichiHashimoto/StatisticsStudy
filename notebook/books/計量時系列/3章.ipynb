{
 "cells": [
  {
   "cell_type": "code",
   "execution_count": 1,
   "id": "793fb935-e10f-489c-a4f0-ef07a727b3ec",
   "metadata": {
    "tags": []
   },
   "outputs": [],
   "source": []
  },
  {
   "cell_type": "markdown",
   "id": "5695817b-8034-449a-83ee-f86422cee563",
   "metadata": {},
   "source": [
    "## 問: 3.3"
   ]
  },
  {
   "cell_type": "code",
   "execution_count": 2,
   "id": "cb86c2d1-ab81-4875-952b-43bf7dbe6a82",
   "metadata": {
    "tags": []
   },
   "outputs": [],
   "source": [
    "y = [-1.5, -2.2, -2.6, -1.5, 2.9, 2.5, -0.6, -0.6, 1.5, 4.0]"
   ]
  },
  {
   "cell_type": "markdown",
   "id": "885a3c42-1eba-4c41-8792-9ea05bd35bb3",
   "metadata": {},
   "source": [
    "## 問3.4"
   ]
  },
  {
   "cell_type": "code",
   "execution_count": 9,
   "id": "c50e578a-c60e-40e9-b6ad-742e6b81137a",
   "metadata": {
    "tags": []
   },
   "outputs": [],
   "source": [
    "y = [-0.8, -1.1, 0.2, -0.3, -2.2, 0.9, 1.3, -0.5, -0.2, 2.1]"
   ]
  },
  {
   "cell_type": "code",
   "execution_count": 10,
   "id": "e6e18203-bea5-4467-aa27-25713816dde0",
   "metadata": {
    "tags": []
   },
   "outputs": [],
   "source": [
    "def expt_y(yt_2, yt_1):\n",
    "    return 1.1 + 0.3*yt_2 - 0.4*yt_1"
   ]
  },
  {
   "cell_type": "code",
   "execution_count": 11,
   "id": "b1440946-2df6-481c-8e4d-4b12039e830e",
   "metadata": {
    "tags": []
   },
   "outputs": [
    {
     "data": {
      "text/plain": [
       "0.19999999999999996"
      ]
     },
     "execution_count": 11,
     "metadata": {},
     "output_type": "execute_result"
    }
   ],
   "source": [
    "expt_y(y[-2], y[-1])"
   ]
  },
  {
   "cell_type": "markdown",
   "id": "f10c9b1e-7f5e-45fd-80c8-32ada3afd9e6",
   "metadata": {},
   "source": [
    "## 問3.5"
   ]
  },
  {
   "cell_type": "code",
   "execution_count": 15,
   "id": "512704ba-aed9-43bb-bbd6-ff098cf2b0c6",
   "metadata": {
    "tags": []
   },
   "outputs": [],
   "source": [
    "y_list = [0.5, 1.1, 1.9, 0.7, 1.6, -0.3, 0.1, -0.4, 0.8, -0.1]"
   ]
  },
  {
   "cell_type": "code",
   "execution_count": 24,
   "id": "ce2a3d05-a96b-4052-8a73-d842d0267ead",
   "metadata": {
    "tags": []
   },
   "outputs": [],
   "source": [
    "sigma_list = [] "
   ]
  },
  {
   "cell_type": "code",
   "execution_count": 32,
   "id": "0ff1152b-83ec-4587-83fb-2d05769b2682",
   "metadata": {
    "tags": []
   },
   "outputs": [],
   "source": [
    "def calc_sigma(yt, sig_t1 = 0, sig_t2 = 0):\n",
    "    return yt - 0.1 - 0.3*sig_t1 - 0.4*sig_t2\n",
    "\n",
    "def predict(sig_t1 = 0, sig_t2 = 0):\n",
    "    return 0.1 + sig_t1*0.3 + 0.4 * sig_t2    "
   ]
  },
  {
   "cell_type": "code",
   "execution_count": 28,
   "id": "1f721b03-84cc-43aa-86d1-e9d69bfe3b29",
   "metadata": {
    "tags": []
   },
   "outputs": [],
   "source": [
    "\n",
    "for idx in range(0, len(y_list), 1):\n",
    "    if idx == 0:\n",
    "        sig1 = 0\n",
    "        sig2 = 0\n",
    "    elif idx == 1:\n",
    "        sig1 = sigma_list[0]\n",
    "        sig2 = 0\n",
    "    else:\n",
    "        sig1 = sigma_list[idx-1]\n",
    "        sig2 = sigma_list[idx-2]\n",
    "    \n",
    "    val = calc_sigma(y_list[idx], sig1, sig2)    \n",
    "    sigma_list.append(val)    "
   ]
  },
  {
   "cell_type": "code",
   "execution_count": 31,
   "id": "4a4e8e45-50bb-4384-b3e2-46e58f53334b",
   "metadata": {
    "tags": []
   },
   "outputs": [
    {
     "data": {
      "text/plain": [
       "[0.4,\n",
       " 0.88,\n",
       " 1.376,\n",
       " -0.1648,\n",
       " 0.9990399999999999,\n",
       " -0.633792,\n",
       " -0.20947839999999998,\n",
       " -0.18363967999999997,\n",
       " 0.838883264,\n",
       " -0.3782091072]"
      ]
     },
     "execution_count": 31,
     "metadata": {},
     "output_type": "execute_result"
    }
   ],
   "source": [
    "sigma_list"
   ]
  },
  {
   "cell_type": "code",
   "execution_count": 33,
   "id": "84ae2ac4-5ead-477c-acb6-22b0b5d426ae",
   "metadata": {
    "tags": []
   },
   "outputs": [
    {
     "data": {
      "text/plain": [
       "0.32209057344"
      ]
     },
     "execution_count": 33,
     "metadata": {},
     "output_type": "execute_result"
    }
   ],
   "source": [
    "predict(sigma_list[-1],sigma_list[-2])"
   ]
  },
  {
   "cell_type": "code",
   "execution_count": 36,
   "id": "c90f52ad-4440-4d4d-8b7a-1b00827c3d07",
   "metadata": {
    "tags": []
   },
   "outputs": [
    {
     "data": {
      "text/plain": [
       "-0.05128364288000001"
      ]
     },
     "execution_count": 36,
     "metadata": {},
     "output_type": "execute_result"
    }
   ],
   "source": [
    "predict(0, sigma_list[-1])"
   ]
  },
  {
   "cell_type": "code",
   "execution_count": 37,
   "id": "4b218808-cb7f-4fcc-9b0f-c8ac52de15db",
   "metadata": {
    "tags": []
   },
   "outputs": [
    {
     "data": {
      "text/plain": [
       "0.1"
      ]
     },
     "execution_count": 37,
     "metadata": {},
     "output_type": "execute_result"
    }
   ],
   "source": [
    "predict(0, 0)"
   ]
  },
  {
   "cell_type": "code",
   "execution_count": null,
   "id": "5308343c-4d1e-4bb3-88f0-c67e54af6d21",
   "metadata": {},
   "outputs": [],
   "source": []
  }
 ],
 "metadata": {
  "kernelspec": {
   "display_name": "Python 3 (ipykernel)",
   "language": "python",
   "name": "python3"
  },
  "language_info": {
   "codemirror_mode": {
    "name": "ipython",
    "version": 3
   },
   "file_extension": ".py",
   "mimetype": "text/x-python",
   "name": "python",
   "nbconvert_exporter": "python",
   "pygments_lexer": "ipython3",
   "version": "3.9.17"
  }
 },
 "nbformat": 4,
 "nbformat_minor": 5
}
