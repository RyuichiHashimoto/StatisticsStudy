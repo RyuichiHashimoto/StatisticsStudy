{
 "cells": [
  {
   "cell_type": "code",
   "execution_count": 1,
   "id": "8e709074-f813-4c52-af7f-12fca161617b",
   "metadata": {
    "tags": []
   },
   "outputs": [],
   "source": [
    "import polars as pl\n",
    "import pandas as pd\n",
    "import numpy as np\n",
    "import seaborn as sns"
   ]
  },
  {
   "cell_type": "markdown",
   "id": "54817d7a-a024-470a-9786-5a4db6dcba5a",
   "metadata": {},
   "source": [
    "# 問6.4"
   ]
  },
  {
   "cell_type": "code",
   "execution_count": 2,
   "id": "70c02039-a49b-4815-a757-8e37b1a94894",
   "metadata": {
    "tags": []
   },
   "outputs": [],
   "source": [
    "path =  './Data/msci_day.xls'\n",
    "df = pl.from_pandas(pd.read_excel(path))"
   ]
  },
  {
   "cell_type": "code",
   "execution_count": 3,
   "id": "6972505f-0c66-4d15-86be-2956848db79c",
   "metadata": {
    "tags": []
   },
   "outputs": [
    {
     "data": {
      "text/html": [
       "<div>\n",
       "<style scoped>\n",
       "    .dataframe tbody tr th:only-of-type {\n",
       "        vertical-align: middle;\n",
       "    }\n",
       "\n",
       "    .dataframe tbody tr th {\n",
       "        vertical-align: top;\n",
       "    }\n",
       "\n",
       "    .dataframe thead th {\n",
       "        text-align: right;\n",
       "    }\n",
       "\n",
       "    .dataframe td {\n",
       "        white-space: pre;\n",
       "    }\n",
       "\n",
       "    .dataframe td {\n",
       "        padding-top: 0;\n",
       "    }\n",
       "\n",
       "    .dataframe td {\n",
       "        padding-bottom: 0;\n",
       "    }\n",
       "\n",
       "    .dataframe td {\n",
       "        line-height: 95%;\n",
       "    }\n",
       "</style>\n",
       "<table border=\"1\" class=\"dataframe\">\n",
       "<small>shape: (5, 8)</small>\n",
       "<thead>\n",
       "<tr>\n",
       "<th>\n",
       "Date\n",
       "</th>\n",
       "<th>\n",
       "ca\n",
       "</th>\n",
       "<th>\n",
       "fr\n",
       "</th>\n",
       "<th>\n",
       "ge\n",
       "</th>\n",
       "<th>\n",
       "it\n",
       "</th>\n",
       "<th>\n",
       "jp\n",
       "</th>\n",
       "<th>\n",
       "uk\n",
       "</th>\n",
       "<th>\n",
       "us\n",
       "</th>\n",
       "</tr>\n",
       "<tr>\n",
       "<td>\n",
       "datetime[ns]\n",
       "</td>\n",
       "<td>\n",
       "f64\n",
       "</td>\n",
       "<td>\n",
       "f64\n",
       "</td>\n",
       "<td>\n",
       "f64\n",
       "</td>\n",
       "<td>\n",
       "f64\n",
       "</td>\n",
       "<td>\n",
       "f64\n",
       "</td>\n",
       "<td>\n",
       "f64\n",
       "</td>\n",
       "<td>\n",
       "f64\n",
       "</td>\n",
       "</tr>\n",
       "</thead>\n",
       "<tbody>\n",
       "<tr>\n",
       "<td>\n",
       "2003-01-01 00:00:00\n",
       "</td>\n",
       "<td>\n",
       "560.099\n",
       "</td>\n",
       "<td>\n",
       "902.081\n",
       "</td>\n",
       "<td>\n",
       "724.932\n",
       "</td>\n",
       "<td>\n",
       "290.187\n",
       "</td>\n",
       "<td>\n",
       "1593.175\n",
       "</td>\n",
       "<td>\n",
       "791.076\n",
       "</td>\n",
       "<td>\n",
       "824.583\n",
       "</td>\n",
       "</tr>\n",
       "<tr>\n",
       "<td>\n",
       "2003-01-02 00:00:00\n",
       "</td>\n",
       "<td>\n",
       "574.701\n",
       "</td>\n",
       "<td>\n",
       "927.206\n",
       "</td>\n",
       "<td>\n",
       "768.15\n",
       "</td>\n",
       "<td>\n",
       "296.963\n",
       "</td>\n",
       "<td>\n",
       "1578.214\n",
       "</td>\n",
       "<td>\n",
       "797.813\n",
       "</td>\n",
       "<td>\n",
       "852.219\n",
       "</td>\n",
       "</tr>\n",
       "<tr>\n",
       "<td>\n",
       "2003-01-03 00:00:00\n",
       "</td>\n",
       "<td>\n",
       "580.212\n",
       "</td>\n",
       "<td>\n",
       "929.297\n",
       "</td>\n",
       "<td>\n",
       "768.411\n",
       "</td>\n",
       "<td>\n",
       "298.757\n",
       "</td>\n",
       "<td>\n",
       "1578.411\n",
       "</td>\n",
       "<td>\n",
       "800.175\n",
       "</td>\n",
       "<td>\n",
       "851.935\n",
       "</td>\n",
       "</tr>\n",
       "<tr>\n",
       "<td>\n",
       "2003-01-06 00:00:00\n",
       "</td>\n",
       "<td>\n",
       "589.619\n",
       "</td>\n",
       "<td>\n",
       "943.002\n",
       "</td>\n",
       "<td>\n",
       "788.164\n",
       "</td>\n",
       "<td>\n",
       "303.273\n",
       "</td>\n",
       "<td>\n",
       "1619.7\n",
       "</td>\n",
       "<td>\n",
       "803.966\n",
       "</td>\n",
       "<td>\n",
       "871.515\n",
       "</td>\n",
       "</tr>\n",
       "<tr>\n",
       "<td>\n",
       "2003-01-07 00:00:00\n",
       "</td>\n",
       "<td>\n",
       "585.822\n",
       "</td>\n",
       "<td>\n",
       "923.785\n",
       "</td>\n",
       "<td>\n",
       "774.054\n",
       "</td>\n",
       "<td>\n",
       "297.892\n",
       "</td>\n",
       "<td>\n",
       "1590.951\n",
       "</td>\n",
       "<td>\n",
       "793.625\n",
       "</td>\n",
       "<td>\n",
       "865.992\n",
       "</td>\n",
       "</tr>\n",
       "</tbody>\n",
       "</table>\n",
       "</div>"
      ],
      "text/plain": [
       "shape: (5, 8)\n",
       "┌─────────────────────┬─────────┬─────────┬─────────┬─────────┬──────────┬─────────┬─────────┐\n",
       "│ Date                ┆ ca      ┆ fr      ┆ ge      ┆ it      ┆ jp       ┆ uk      ┆ us      │\n",
       "│ ---                 ┆ ---     ┆ ---     ┆ ---     ┆ ---     ┆ ---      ┆ ---     ┆ ---     │\n",
       "│ datetime[ns]        ┆ f64     ┆ f64     ┆ f64     ┆ f64     ┆ f64      ┆ f64     ┆ f64     │\n",
       "╞═════════════════════╪═════════╪═════════╪═════════╪═════════╪══════════╪═════════╪═════════╡\n",
       "│ 2003-01-01 00:00:00 ┆ 560.099 ┆ 902.081 ┆ 724.932 ┆ 290.187 ┆ 1593.175 ┆ 791.076 ┆ 824.583 │\n",
       "│ 2003-01-02 00:00:00 ┆ 574.701 ┆ 927.206 ┆ 768.15  ┆ 296.963 ┆ 1578.214 ┆ 797.813 ┆ 852.219 │\n",
       "│ 2003-01-03 00:00:00 ┆ 580.212 ┆ 929.297 ┆ 768.411 ┆ 298.757 ┆ 1578.411 ┆ 800.175 ┆ 851.935 │\n",
       "│ 2003-01-06 00:00:00 ┆ 589.619 ┆ 943.002 ┆ 788.164 ┆ 303.273 ┆ 1619.7   ┆ 803.966 ┆ 871.515 │\n",
       "│ 2003-01-07 00:00:00 ┆ 585.822 ┆ 923.785 ┆ 774.054 ┆ 297.892 ┆ 1590.951 ┆ 793.625 ┆ 865.992 │\n",
       "└─────────────────────┴─────────┴─────────┴─────────┴─────────┴──────────┴─────────┴─────────┘"
      ]
     },
     "execution_count": 3,
     "metadata": {},
     "output_type": "execute_result"
    }
   ],
   "source": [
    "df.head()"
   ]
  },
  {
   "cell_type": "markdown",
   "id": "1c3cd1d5-7ab1-41e6-9655-e294e49d5af8",
   "metadata": {},
   "source": [
    "## (1)"
   ]
  },
  {
   "cell_type": "code",
   "execution_count": 11,
   "id": "1aaae3cc-1959-4ec0-8c8a-70273675cb43",
   "metadata": {
    "tags": []
   },
   "outputs": [],
   "source": [
    "random_walk = np.cumsum(np.random.randn(df.shape[0]))\n",
    "whitenoize = np.random.randn(df.shape[0])\n",
    "df = df.with_columns(pl.Series(pl.Series(whitenoize)).alias(\"white_noize\"))\n",
    "df = df.with_columns(pl.Series(pl.Series(random_walk)).alias(\"random_walk\"))"
   ]
  },
  {
   "cell_type": "code",
   "execution_count": 12,
   "id": "fcc5e394-6be0-42b8-97c1-f787a373bddf",
   "metadata": {
    "tags": []
   },
   "outputs": [
    {
     "data": {
      "text/plain": [
       "<Axes: >"
      ]
     },
     "execution_count": 12,
     "metadata": {},
     "output_type": "execute_result"
    },
    {
     "data": {
      "image/png": "[encoded data removed]",
      "text/plain": [
       "<Figure size 640x480 with 1 Axes>"
      ]
     },
     "metadata": {},
     "output_type": "display_data"
    }
   ],
   "source": [
    "sns.lineplot(whitenoize)"
   ]
  },
  {
   "cell_type": "markdown",
   "id": "b2b3d1ae-72e8-4ea8-9562-a303d2553f63",
   "metadata": {},
   "source": [
    "## (2) ホワイトノイズ"
   ]
  },
  {
   "cell_type": "code",
   "execution_count": 24,
   "id": "fc5a13f0-d99b-43d7-8047-3201fdd69811",
   "metadata": {
    "tags": []
   },
   "outputs": [],
   "source": [
    "from sklearn.linear_model import LinearRegression\n",
    "from sklearn.metrics import r2_score\n",
    "\n",
    "def calc_coef_r2(tmpdf, cols, y):\n",
    "    model = LinearRegression()\n",
    "    model.fit(tmpdf.select(cols).to_numpy(), tmpdf.get_column(y).log().to_numpy())\n",
    "    ans = tmpdf.get_column(y).log().to_numpy()\n",
    "    pred = model.predict(tmpdf.select(cols).to_numpy())\n",
    "    \n",
    "    return r2_score(ans, pred), model.coef_"
   ]
  },
  {
   "cell_type": "code",
   "execution_count": 14,
   "id": "4590b9e9-5139-4bfe-b669-be49ddfeb634",
   "metadata": {
    "tags": []
   },
   "outputs": [
    {
     "name": "stdout",
     "output_type": "stream",
     "text": [
      "ca (7.07590293269611e-06, array([0.00095132]))\n",
      "fr (1.1349455786291429e-07, array([-9.77305159e-05]))\n",
      "ge (7.340907632658045e-06, array([-0.00095701]))\n",
      "it (7.855525948619047e-07, array([-0.0002223]))\n",
      "jp (3.564827618418587e-05, array([0.0014126]))\n",
      "uk (8.15600314862941e-06, array([0.0006633]))\n",
      "us (5.779689142704214e-05, array([0.00116207]))\n"
     ]
    }
   ],
   "source": [
    "for a in df.columns:\n",
    "    if a == \"Date\" or a == \"x\" or a == \"white_noize\" or a == \"random_walk\":\n",
    "        continue        \n",
    "    print(a, calc_coef_r2([\"white_noize\"], a))"
   ]
  },
  {
   "cell_type": "markdown",
   "id": "cdab8627-8f6a-4f05-960d-e9a80d23cb85",
   "metadata": {},
   "source": [
    "## (3) ランダムウォーク"
   ]
  },
  {
   "cell_type": "code",
   "execution_count": 15,
   "id": "82051956-c33f-4b04-8588-9a531a67b2eb",
   "metadata": {
    "tags": []
   },
   "outputs": [
    {
     "data": {
      "text/plain": [
       "<Axes: >"
      ]
     },
     "execution_count": 15,
     "metadata": {},
     "output_type": "execute_result"
    },
    {
     "data": {
      "image/png": "[encoded data removed]",
      "text/plain": [
       "<Figure size 640x480 with 1 Axes>"
      ]
     },
     "metadata": {},
     "output_type": "display_data"
    }
   ],
   "source": [
    "sns.lineplot(random_walk)"
   ]
  },
  {
   "cell_type": "code",
   "execution_count": null,
   "id": "7d079269-3ec7-4cdf-9a98-bc0ad7e3bd5d",
   "metadata": {
    "tags": []
   },
   "outputs": [],
   "source": [
    "for a in df.columns:\n",
    "    if a == \"Date\" or a == \"x\" or a == \"white_noize\" or a == \"random\":\n",
    "        continue        \n",
    "    print(a, calc_coef_r2_rand(a))"
   ]
  },
  {
   "cell_type": "markdown",
   "id": "e84bb922-5c31-4c76-87e7-246992479388",
   "metadata": {},
   "source": [
    "## (4) ランダムウォークの回帰"
   ]
  },
  {
   "cell_type": "code",
   "execution_count": 16,
   "id": "ad97de75-de40-4421-a9aa-b071f9980f29",
   "metadata": {
    "tags": []
   },
   "outputs": [
    {
     "name": "stdout",
     "output_type": "stream",
     "text": [
      "ca (0.8276153396085594, array([-0.0102431]))\n",
      "fr (0.7777462929812187, array([-0.0080546]))\n",
      "ge (0.8021280477195365, array([-0.00995965]))\n",
      "it (0.6959247412814529, array([-0.00658745]))\n",
      "jp (0.6082280124501359, array([-0.0058092]))\n",
      "uk (0.7396568993227308, array([-0.00628885]))\n",
      "us (0.6963558046345849, array([-0.00401585]))\n"
     ]
    }
   ],
   "source": [
    "for a in df.columns:\n",
    "    if a == \"Date\" or a == \"x\" or a == \"white_noize\" or a == \"random_walk\":\n",
    "        continue        \n",
    "    print(a, calc_coef_r2([\"random_walk\"], a))"
   ]
  },
  {
   "cell_type": "markdown",
   "id": "54a7dd99-7436-44e2-a9ab-8d4ec7e5a0dd",
   "metadata": {},
   "source": [
    "## (5) 自己再起過程"
   ]
  },
  {
   "cell_type": "code",
   "execution_count": 22,
   "id": "779f7ec6-f158-44b4-a995-508856a226b5",
   "metadata": {
    "tags": []
   },
   "outputs": [],
   "source": [
    "cols = [\"ca\", \"fr\", \"ge\", \"it\", \"jp\", \"uk\", \"us\", \"random_walk\", \"white_noize\"]\n",
    "odf = df.with_columns([pl.col(col).shift(1).alias(f\"{col}_shift\") for col in cols]).drop_nulls()"
   ]
  },
  {
   "cell_type": "code",
   "execution_count": 25,
   "id": "b690ea74-30b7-4ad2-82d1-70b3774494f0",
   "metadata": {
    "tags": []
   },
   "outputs": [
    {
     "name": "stdout",
     "output_type": "stream",
     "text": [
      "ca (0.9800519440492218, array([0.00181333, 0.00114842, 0.00106176]))\n",
      "fr (0.9842047501644682, array([0.00131709, 0.00050425, 0.00077728]))\n",
      "ge (0.9688983098197376, array([0.00065205, 0.00125312, 0.00078959]))\n",
      "it (0.9882533848138053, array([ 1.16158063e-03, -7.08650139e-05,  2.40044072e-03]))\n",
      "jp (0.9853837403115149, array([6.06285036e-04, 8.86065321e-05, 4.47135600e-04]))\n",
      "uk (0.9875359887584065, array([9.85826933e-04, 3.54514594e-05, 9.56062889e-04]))\n",
      "us (0.9904912158136105, array([0.00024605, 0.000203  , 0.00095998]))\n"
     ]
    }
   ],
   "source": [
    "for a in df.columns:\n",
    "    if a == \"Date\" or a == \"x\" or a == \"white_noize\" or a == \"random_walk\":\n",
    "        continue        \n",
    "    print(a, calc_coef_r2(odf,[\"random_walk\", \"random_walk_shift\", f\"{a}_shift\"], a))"
   ]
  },
  {
   "cell_type": "markdown",
   "id": "db8c141d-0830-4afc-88d5-429b7c3db786",
   "metadata": {},
   "source": [
    "# 問6.5"
   ]
  },
  {
   "cell_type": "code",
   "execution_count": null,
   "id": "84aad6af-d680-4d1b-921c-5a788327700e",
   "metadata": {},
   "outputs": [],
   "source": [
    "aa"
   ]
  }
 ],
 "metadata": {
  "kernelspec": {
   "display_name": "Python 3 (ipykernel)",
   "language": "python",
   "name": "python3"
  },
  "language_info": {
   "codemirror_mode": {
    "name": "ipython",
    "version": 3
   },
   "file_extension": ".py",
   "mimetype": "text/x-python",
   "name": "python",
   "nbconvert_exporter": "python",
   "pygments_lexer": "ipython3",
   "version": "3.9.17"
  },
  "toc-autonumbering": true
 },
 "nbformat": 4,
 "nbformat_minor": 5
}
