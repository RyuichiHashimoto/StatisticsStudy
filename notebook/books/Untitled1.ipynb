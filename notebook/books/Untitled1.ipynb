{
 "cells": [
  {
   "cell_type": "code",
   "execution_count": 1,
   "id": "5491c65e-d720-4b7c-a251-d55e385e8223",
   "metadata": {},
   "outputs": [],
   "source": [
    "def Eratosthenes(N: int):    \n",
    "    is_prime = [True for i in range(N+1)]\n",
    "    prime_list = []\n",
    "    \n",
    "    for i in range(2,N+1):\n",
    "        if is_prime[i]:\n",
    "            prime_list.append(i)\n",
    "            \n",
    "            j = 1\n",
    "            while j*i <= N:\n",
    "                is_prime[i*j] = False\n",
    "                j += 1\n",
    "                \n",
    "    \n",
    "    return prime_list\n",
    "\n",
    "\n",
    "def gcd(_x, _y):\n",
    "    x = max(_x, _y)\n",
    "    y = min(_x, _y)\n",
    "                 \n",
    "    while (y > 0):\n",
    "        r = x % y;\n",
    "        x = y;\n",
    "        y = r;\n",
    "    \n",
    "    return x;\n",
    "    "
   ]
  },
  {
   "cell_type": "code",
   "execution_count": 3,
   "id": "1926aa9a-ba2c-48fe-b448-391a82a33b2c",
   "metadata": {},
   "outputs": [],
   "source": [
    "max_d = 10000\n",
    "max_d_2 = max_d*max_d\n",
    "prime_list = Eratosthenes(max_d)\n",
    "blue = set()\n",
    "red = set()"
   ]
  },
  {
   "cell_type": "code",
   "execution_count": 4,
   "id": "46d8b065-5f60-454e-bb3c-684a9110f63d",
   "metadata": {},
   "outputs": [
    {
     "name": "stdout",
     "output_type": "stream",
     "text": [
      "CPU times: user 15.4 s, sys: 644 ms, total: 16 s\n",
      "Wall time: 16 s\n"
     ]
    }
   ],
   "source": [
    "%%time \n",
    "\n",
    "        \n",
    "li = []\n",
    "rev_gcd(1,1)"
   ]
  },
  {
   "cell_type": "code",
   "execution_count": 5,
   "id": "abcf3062-d039-4bf4-a6ed-7b71e2671811",
   "metadata": {},
   "outputs": [
    {
     "data": {
      "text/plain": [
       "0"
      ]
     },
     "execution_count": 5,
     "metadata": {},
     "output_type": "execute_result"
    }
   ],
   "source": [
    "-3%1"
   ]
  },
  {
   "cell_type": "code",
   "execution_count": 28,
   "id": "c9ef8e08-f5b7-400d-a7ab-cc3d9deab32e",
   "metadata": {},
   "outputs": [],
   "source": [
    "def matching_trainner(tgt_pos, your_position, trainer_position, roomDim):\n",
    "            \n",
    "    WORST = 100000000\n",
    "    ret = [WORST, WORST]\n",
    "    for i in range(2):\n",
    "        s = your_position[i]\n",
    "        g = trainer_position[i]\n",
    "        d = roomDim[i]\n",
    "        tgt = tgt_pos[i]\n",
    "\n",
    "        ret1,val1 = check_vs_train_one(tgt, s, g, d)\n",
    "        ret2,val2 = check_vs_train_two(tgt, s, g, d)\n",
    "\n",
    "        if not (ret1 or ret2):\n",
    "            return False, [-1,-1]\n",
    "        if ret1:\n",
    "            ret[i] = min(g - s + 2 *  (d - 1) * val1, ret[i])\n",
    "        if ret2:\n",
    "            ret[i] = min(2*d - (s + g) + 2 *  (d - 1) * val1, ret[i])\n",
    "    print(tgt_pos, ret)\n"
   ]
  },
  {
   "cell_type": "code",
   "execution_count": 29,
   "id": "2bb43645-a3cd-4b39-9aaa-ea162a632209",
   "metadata": {},
   "outputs": [],
   "source": [
    "def check_vs_train_one(dst, you, trainner, roomDim):\n",
    "    if (dst - trainner + you) % (2*(roomDim - 1)) == 0:\n",
    "        return True, (dst - trainner + you) // (2*(roomDim - 1))\n",
    "    else:\n",
    "        return False, -1\n",
    "    \n",
    "def check_vs_train_two(dst, you, trainner, roomDim):\n",
    "    if (dst + trainner + you - 2*roomDim ) % (2*(roomDim - 1)) == 0:\n",
    "        return True, (dst + trainner + you - 2*roomDim )  // (2*(roomDim - 1))\n",
    "    else:\n",
    "        return False, -1\n",
    "        \n",
    "    "
   ]
  },
  {
   "cell_type": "code",
   "execution_count": 38,
   "id": "9a5e3d2e-3cfb-41ed-870f-2b334d5c455f",
   "metadata": {},
   "outputs": [],
   "source": [
    "max_d = 10000\n",
    "max_d_2 = max_d*max_d\n",
    "def rev_gcd(a,b):\n",
    "    if a*a + b * b > max_d_2:\n",
    "        return\n",
    "    k = 0\n",
    "\n",
    "#     for dx,dy in [[1,1], [-1, 1], [1, -1], [-1, -1]]:\n",
    "#         pass\n",
    "        \n",
    "    while True:\n",
    "        k += 1\n",
    "        n_a = b\n",
    "        n_b = a + b * k\n",
    "        if n_a*n_a + n_b*n_b <= max_d_2:\n",
    "            rev_gcd(n_a, n_b)\n",
    "        else:\n",
    "            break"
   ]
  },
  {
   "cell_type": "code",
   "execution_count": 39,
   "id": "1efbf3cf-2f5b-4fe9-b976-2492920b1bdc",
   "metadata": {},
   "outputs": [
    {
     "name": "stdout",
     "output_type": "stream",
     "text": [
      "CPU times: user 7.62 s, sys: 0 ns, total: 7.62 s\n",
      "Wall time: 7.62 s\n"
     ]
    }
   ],
   "source": [
    "%%time\n",
    "rev_gcd(1, 1)"
   ]
  },
  {
   "cell_type": "code",
   "execution_count": null,
   "id": "fce484ea-9a75-4c6e-84de-5af26d03425c",
   "metadata": {},
   "outputs": [],
   "source": []
  }
 ],
 "metadata": {
  "kernelspec": {
   "display_name": "Python 3 (ipykernel)",
   "language": "python",
   "name": "python3"
  },
  "language_info": {
   "codemirror_mode": {
    "name": "ipython",
    "version": 3
   },
   "file_extension": ".py",
   "mimetype": "text/x-python",
   "name": "python",
   "nbconvert_exporter": "python",
   "pygments_lexer": "ipython3",
   "version": "3.7.12"
  }
 },
 "nbformat": 4,
 "nbformat_minor": 5
}
