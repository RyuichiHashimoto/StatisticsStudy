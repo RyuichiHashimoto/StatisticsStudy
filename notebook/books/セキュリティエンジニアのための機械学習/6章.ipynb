{
 "cells": [
  {
   "cell_type": "code",
   "execution_count": 1,
   "id": "d995b0c3-5914-4266-a54c-1d91595ec11a",
   "metadata": {
    "tags": []
   },
   "outputs": [],
   "source": [
    "import polars as pl"
   ]
  },
  {
   "cell_type": "markdown",
   "id": "efaab469-0299-47e4-9a7d-f844fc58b2cd",
   "metadata": {},
   "source": [
    "# データ準備"
   ]
  },
  {
   "cell_type": "markdown",
   "id": "4c2f6c82-f5da-4c0a-99e8-179052ba8cd1",
   "metadata": {},
   "source": [
    "## load data"
   ]
  },
  {
   "cell_type": "code",
   "execution_count": 2,
   "id": "34ccdfa2-882b-4b18-850f-3cc75114364e",
   "metadata": {
    "tags": []
   },
   "outputs": [
    {
     "data": {
      "text/html": [
       "<div>\n",
       "<style scoped>\n",
       "    .dataframe tbody tr th:only-of-type {\n",
       "        vertical-align: middle;\n",
       "    }\n",
       "\n",
       "    .dataframe tbody tr th {\n",
       "        vertical-align: top;\n",
       "    }\n",
       "\n",
       "    .dataframe thead th {\n",
       "        text-align: right;\n",
       "    }\n",
       "\n",
       "    .dataframe td {\n",
       "        white-space: pre;\n",
       "    }\n",
       "\n",
       "    .dataframe td {\n",
       "        padding-top: 0;\n",
       "    }\n",
       "\n",
       "    .dataframe td {\n",
       "        padding-bottom: 0;\n",
       "    }\n",
       "\n",
       "    .dataframe td {\n",
       "        line-height: 95%;\n",
       "    }\n",
       "</style>\n",
       "<table border=\"1\" class=\"dataframe\">\n",
       "<small>shape: (5, 6)</small>\n",
       "<thead>\n",
       "<tr>\n",
       "<th>\n",
       "Date\n",
       "</th>\n",
       "<th>\n",
       "EventId\n",
       "</th>\n",
       "<th>\n",
       "AccountNtdomain\n",
       "</th>\n",
       "<th>\n",
       "ComputerName\n",
       "</th>\n",
       "<th>\n",
       "logontype\n",
       "</th>\n",
       "<th>\n",
       "TotalLogons\n",
       "</th>\n",
       "</tr>\n",
       "<tr>\n",
       "<td>\n",
       "date\n",
       "</td>\n",
       "<td>\n",
       "str\n",
       "</td>\n",
       "<td>\n",
       "str\n",
       "</td>\n",
       "<td>\n",
       "str\n",
       "</td>\n",
       "<td>\n",
       "i64\n",
       "</td>\n",
       "<td>\n",
       "i64\n",
       "</td>\n",
       "</tr>\n",
       "</thead>\n",
       "<tbody>\n",
       "<tr>\n",
       "<td>\n",
       "2018-01-03\n",
       "</td>\n",
       "<td>\n",
       "&quot;Microsoft-Wind...\n",
       "</td>\n",
       "<td>\n",
       "&quot;LABDOMAIN.LOCA...\n",
       "</td>\n",
       "<td>\n",
       "&quot;WIN-DC01&quot;\n",
       "</td>\n",
       "<td>\n",
       "10\n",
       "</td>\n",
       "<td>\n",
       "2\n",
       "</td>\n",
       "</tr>\n",
       "<tr>\n",
       "<td>\n",
       "2018-01-03\n",
       "</td>\n",
       "<td>\n",
       "&quot;Microsoft-Wind...\n",
       "</td>\n",
       "<td>\n",
       "&quot;LABDOMAIN.LOCA...\n",
       "</td>\n",
       "<td>\n",
       "&quot;WIN-DC01&quot;\n",
       "</td>\n",
       "<td>\n",
       "3\n",
       "</td>\n",
       "<td>\n",
       "106\n",
       "</td>\n",
       "</tr>\n",
       "<tr>\n",
       "<td>\n",
       "2018-01-03\n",
       "</td>\n",
       "<td>\n",
       "&quot;Microsoft-Wind...\n",
       "</td>\n",
       "<td>\n",
       "&quot;LABDOMAIN.LOCA...\n",
       "</td>\n",
       "<td>\n",
       "&quot;WIN-DC01&quot;\n",
       "</td>\n",
       "<td>\n",
       "4\n",
       "</td>\n",
       "<td>\n",
       "68\n",
       "</td>\n",
       "</tr>\n",
       "<tr>\n",
       "<td>\n",
       "2018-01-04\n",
       "</td>\n",
       "<td>\n",
       "&quot;Microsoft-Wind...\n",
       "</td>\n",
       "<td>\n",
       "&quot;LABDOMAIN.LOCA...\n",
       "</td>\n",
       "<td>\n",
       "&quot;WIN-DC01&quot;\n",
       "</td>\n",
       "<td>\n",
       "3\n",
       "</td>\n",
       "<td>\n",
       "53\n",
       "</td>\n",
       "</tr>\n",
       "<tr>\n",
       "<td>\n",
       "2018-01-04\n",
       "</td>\n",
       "<td>\n",
       "&quot;Microsoft-Wind...\n",
       "</td>\n",
       "<td>\n",
       "&quot;LABDOMAIN.LOCA...\n",
       "</td>\n",
       "<td>\n",
       "&quot;WIN-DC01&quot;\n",
       "</td>\n",
       "<td>\n",
       "4\n",
       "</td>\n",
       "<td>\n",
       "89\n",
       "</td>\n",
       "</tr>\n",
       "</tbody>\n",
       "</table>\n",
       "</div>"
      ],
      "text/plain": [
       "shape: (5, 6)\n",
       "┌────────────┬──────────────────────────┬─────────────────┬──────────────┬───────────┬─────────────┐\n",
       "│ Date       ┆ EventId                  ┆ AccountNtdomain ┆ ComputerName ┆ logontype ┆ TotalLogons │\n",
       "│ ---        ┆ ---                      ┆ ---             ┆ ---          ┆ ---       ┆ ---         │\n",
       "│ date       ┆ str                      ┆ str             ┆ str          ┆ i64       ┆ i64         │\n",
       "╞════════════╪══════════════════════════╪═════════════════╪══════════════╪═══════════╪═════════════╡\n",
       "│ 2018-01-03 ┆ Microsoft-Windows-Securi ┆ LABDOMAIN.LOCAL ┆ WIN-DC01     ┆ 10        ┆ 2           │\n",
       "│            ┆ ty-Audit...              ┆                 ┆              ┆           ┆             │\n",
       "│ 2018-01-03 ┆ Microsoft-Windows-Securi ┆ LABDOMAIN.LOCAL ┆ WIN-DC01     ┆ 3         ┆ 106         │\n",
       "│            ┆ ty-Audit...              ┆                 ┆              ┆           ┆             │\n",
       "│ 2018-01-03 ┆ Microsoft-Windows-Securi ┆ LABDOMAIN.LOCAL ┆ WIN-DC01     ┆ 4         ┆ 68          │\n",
       "│            ┆ ty-Audit...              ┆                 ┆              ┆           ┆             │\n",
       "│ 2018-01-04 ┆ Microsoft-Windows-Securi ┆ LABDOMAIN.LOCAL ┆ WIN-DC01     ┆ 3         ┆ 53          │\n",
       "│            ┆ ty-Audit...              ┆                 ┆              ┆           ┆             │\n",
       "│ 2018-01-04 ┆ Microsoft-Windows-Securi ┆ LABDOMAIN.LOCAL ┆ WIN-DC01     ┆ 4         ┆ 89          │\n",
       "│            ┆ ty-Audit...              ┆                 ┆              ┆           ┆             │\n",
       "└────────────┴──────────────────────────┴─────────────────┴──────────────┴───────────┴─────────────┘"
      ]
     },
     "execution_count": 2,
     "metadata": {},
     "output_type": "execute_result"
    }
   ],
   "source": [
    "df = pl.read_csv(\"HostLogons-demo.csv\")\n",
    "df = df.with_columns(pl.col(\"Date\").str.strptime(pl.Date, fmt = \"%m/%d/%Y\"))\n",
    "df.head()"
   ]
  },
  {
   "cell_type": "markdown",
   "id": "2babec79-7d32-4712-8c6a-87e83be9e6b9",
   "metadata": {},
   "source": [
    "## data preprocessing"
   ]
  },
  {
   "cell_type": "code",
   "execution_count": 3,
   "id": "f8cc5ee1-03c2-4850-bd7e-5c781820cf61",
   "metadata": {
    "tags": []
   },
   "outputs": [],
   "source": [
    "tmp = df.groupby(\"Date\").agg([pl.col(\"TotalLogons\").sum().alias(\"n_events\")]).sort(\"Date\")"
   ]
  },
  {
   "cell_type": "code",
   "execution_count": 4,
   "id": "61909d70-a9f4-4435-85fd-6f0cfe41d547",
   "metadata": {
    "tags": []
   },
   "outputs": [
    {
     "data": {
      "text/html": [
       "<div>\n",
       "<style scoped>\n",
       "    .dataframe tbody tr th:only-of-type {\n",
       "        vertical-align: middle;\n",
       "    }\n",
       "\n",
       "    .dataframe tbody tr th {\n",
       "        vertical-align: top;\n",
       "    }\n",
       "\n",
       "    .dataframe thead th {\n",
       "        text-align: right;\n",
       "    }\n",
       "\n",
       "    .dataframe td {\n",
       "        white-space: pre;\n",
       "    }\n",
       "\n",
       "    .dataframe td {\n",
       "        padding-top: 0;\n",
       "    }\n",
       "\n",
       "    .dataframe td {\n",
       "        padding-bottom: 0;\n",
       "    }\n",
       "\n",
       "    .dataframe td {\n",
       "        line-height: 95%;\n",
       "    }\n",
       "</style>\n",
       "<table border=\"1\" class=\"dataframe\">\n",
       "<small>shape: (5, 2)</small>\n",
       "<thead>\n",
       "<tr>\n",
       "<th>\n",
       "Date\n",
       "</th>\n",
       "<th>\n",
       "n_events\n",
       "</th>\n",
       "</tr>\n",
       "<tr>\n",
       "<td>\n",
       "date\n",
       "</td>\n",
       "<td>\n",
       "i64\n",
       "</td>\n",
       "</tr>\n",
       "</thead>\n",
       "<tbody>\n",
       "<tr>\n",
       "<td>\n",
       "2018-01-03\n",
       "</td>\n",
       "<td>\n",
       "176\n",
       "</td>\n",
       "</tr>\n",
       "<tr>\n",
       "<td>\n",
       "2018-01-04\n",
       "</td>\n",
       "<td>\n",
       "142\n",
       "</td>\n",
       "</tr>\n",
       "<tr>\n",
       "<td>\n",
       "2018-01-05\n",
       "</td>\n",
       "<td>\n",
       "85\n",
       "</td>\n",
       "</tr>\n",
       "<tr>\n",
       "<td>\n",
       "2018-01-06\n",
       "</td>\n",
       "<td>\n",
       "147\n",
       "</td>\n",
       "</tr>\n",
       "<tr>\n",
       "<td>\n",
       "2018-01-07\n",
       "</td>\n",
       "<td>\n",
       "142\n",
       "</td>\n",
       "</tr>\n",
       "</tbody>\n",
       "</table>\n",
       "</div>"
      ],
      "text/plain": [
       "shape: (5, 2)\n",
       "┌────────────┬──────────┐\n",
       "│ Date       ┆ n_events │\n",
       "│ ---        ┆ ---      │\n",
       "│ date       ┆ i64      │\n",
       "╞════════════╪══════════╡\n",
       "│ 2018-01-03 ┆ 176      │\n",
       "│ 2018-01-04 ┆ 142      │\n",
       "│ 2018-01-05 ┆ 85       │\n",
       "│ 2018-01-06 ┆ 147      │\n",
       "│ 2018-01-07 ┆ 142      │\n",
       "└────────────┴──────────┘"
      ]
     },
     "execution_count": 4,
     "metadata": {},
     "output_type": "execute_result"
    }
   ],
   "source": [
    "tmp.head()"
   ]
  },
  {
   "cell_type": "markdown",
   "id": "e651528f-a833-4301-81cd-e29b265d7b41",
   "metadata": {},
   "source": [
    "## plot date"
   ]
  },
  {
   "cell_type": "code",
   "execution_count": 5,
   "id": "11a58728-1d5a-4c5c-b70d-e836514e2350",
   "metadata": {
    "tags": []
   },
   "outputs": [
    {
     "name": "stderr",
     "output_type": "stream",
     "text": [
      "Matplotlib created a temporary config/cache directory at /tmp/matplotlib-xfq7mqmy because the default path (/home/work/.config/matplotlib) is not a writable directory; it is highly recommended to set the MPLCONFIGDIR environment variable to a writable directory, in particular to speed up the import of Matplotlib and to better support multiprocessing.\n"
     ]
    }
   ],
   "source": [
    "import matplotlib.pyplot as plt\n",
    "import seaborn as sns"
   ]
  },
  {
   "cell_type": "code",
   "execution_count": 6,
   "id": "787c11b2-a045-4560-8a55-b576f165d2e1",
   "metadata": {
    "tags": []
   },
   "outputs": [
    {
     "data": {
      "text/plain": [
       "<Axes: xlabel='Date', ylabel='n_events'>"
      ]
     },
     "execution_count": 6,
     "metadata": {},
     "output_type": "execute_result"
    },
    {
     "data": {
      "image/png": "[encoded data removed]",
      "text/plain": [
       "<Figure size 1000x300 with 1 Axes>"
      ]
     },
     "metadata": {},
     "output_type": "display_data"
    }
   ],
   "source": [
    "plt.rcParams[\"figure.figsize\"] = (10,3)\n",
    "\n",
    "plt.grid()\n",
    "plt.gcf().autofmt_xdate()\n",
    "sns.lineplot(tmp, x = \"Date\", y= \"n_events\", legend=\"full\")"
   ]
  },
  {
   "cell_type": "markdown",
   "id": "7d76c993-4175-40ab-beeb-76802d753373",
   "metadata": {},
   "source": [
    "## データ確認"
   ]
  },
  {
   "cell_type": "code",
   "execution_count": 8,
   "id": "616089d9-5aac-42c3-af87-919e9f80ce73",
   "metadata": {
    "tags": []
   },
   "outputs": [],
   "source": [
    "from statsmodels.graphics.tsaplots import plot_acf"
   ]
  },
  {
   "cell_type": "code",
   "execution_count": 11,
   "id": "d8541111-c336-487a-9fd4-a601c168e69e",
   "metadata": {
    "tags": []
   },
   "outputs": [
    {
     "data": {
      "image/png": "[encoded data removed]",
      "text/plain": [
       "<Figure size 1000x300 with 1 Axes>"
      ]
     },
     "metadata": {},
     "output_type": "display_data"
    }
   ],
   "source": [
    "plot_acf(tmp.get_column(\"n_events\").to_numpy(), missing = \"drop\");"
   ]
  },
  {
   "cell_type": "markdown",
   "id": "f26de90d-f9b7-4b1b-8a4c-cc2a2a2187d8",
   "metadata": {},
   "source": [
    "# model"
   ]
  },
  {
   "cell_type": "code",
   "execution_count": 7,
   "id": "5f2c6de1-169c-4c44-93f0-1b455d913678",
   "metadata": {
    "tags": []
   },
   "outputs": [],
   "source": [
    "from sktime.forecasting.fbprophet import Prophet"
   ]
  },
  {
   "cell_type": "code",
   "execution_count": null,
   "id": "1b15f79c-eb5a-4a2b-9f9c-a64c5a39bf5d",
   "metadata": {},
   "outputs": [],
   "source": [
    "model = Prophet(\n",
    "    \n",
    "\n",
    ")"
   ]
  }
 ],
 "metadata": {
  "kernelspec": {
   "display_name": "Python 3 (ipykernel)",
   "language": "python",
   "name": "python3"
  },
  "language_info": {
   "codemirror_mode": {
    "name": "ipython",
    "version": 3
   },
   "file_extension": ".py",
   "mimetype": "text/x-python",
   "name": "python",
   "nbconvert_exporter": "python",
   "pygments_lexer": "ipython3",
   "version": "3.9.16"
  },
  "toc-autonumbering": true
 },
 "nbformat": 4,
 "nbformat_minor": 5
}
