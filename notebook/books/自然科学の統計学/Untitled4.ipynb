{
 "cells": [
  {
   "cell_type": "code",
   "execution_count": 2,
   "id": "785de91b-4106-4a03-883c-f1291f5143b4",
   "metadata": {},
   "outputs": [],
   "source": [
    "import numpy as np"
   ]
  },
  {
   "cell_type": "code",
   "execution_count": 3,
   "id": "db8780c5-1a0c-4427-8c3b-f694d075f3ca",
   "metadata": {},
   "outputs": [],
   "source": [
    "d = [8.2, 7.5, 8.7, 8.4, 9.6]\n",
    "d = np.array(d)"
   ]
  },
  {
   "cell_type": "code",
   "execution_count": 15,
   "id": "6f3f0d34-a280-47fd-a299-0a488195d6cd",
   "metadata": {},
   "outputs": [],
   "source": [
    "def cosie(x, th):\n",
    "    return 2/(np.pi*pow(1+(x-th)*(x-th), 2))"
   ]
  },
  {
   "cell_type": "code",
   "execution_count": 26,
   "id": "fbaacd72-2d91-4170-8ebd-760daca47f18",
   "metadata": {},
   "outputs": [
    {
     "name": "stdout",
     "output_type": "stream",
     "text": [
      "8.398281984530618\n",
      "8.397033858206187\n",
      "8.397033858206187\n",
      "8.397033858206187\n",
      "8.397033858206187\n"
     ]
    }
   ],
   "source": [
    "theta = np.median(d)\n",
    "for _ in range(50000):\n",
    "    Ws = cosie(d, theta)    \n",
    "    theta = (Ws@d)/Ws.sum()\n",
    "    if (_ % 10000) == 0:\n",
    "        print(theta)"
   ]
  },
  {
   "cell_type": "code",
   "execution_count": 24,
   "id": "0ee385e0-101d-499c-bc55-bc3d1af1a9ff",
   "metadata": {},
   "outputs": [
    {
     "data": {
      "text/plain": [
       "8.397033858206187"
      ]
     },
     "execution_count": 24,
     "metadata": {},
     "output_type": "execute_result"
    }
   ],
   "source": [
    "theta "
   ]
  },
  {
   "cell_type": "code",
   "execution_count": 41,
   "id": "d9682a11-3c3e-4f89-b055-61ddf754ae31",
   "metadata": {},
   "outputs": [],
   "source": [
    "ds = np.array([4.95, 5.02, 5.08, 4.90, 5.12, 5.19, 4.80, 4.87, 4.98, 4.58, 4.81, 5.18, 5.25, 5.05, 4.79, 5.57, 5.01, 5.57, 5.01, 4.81, 5.13, 5.04, 5.13, 5.16, 4.69])\n",
    "n = len(ds)"
   ]
  },
  {
   "cell_type": "code",
   "execution_count": 54,
   "id": "e5e4a4ea-03b6-4beb-bed1-2617cc612b7c",
   "metadata": {},
   "outputs": [
    {
     "data": {
      "text/plain": [
       "0.004999999999999893"
      ]
     },
     "execution_count": 54,
     "metadata": {},
     "output_type": "execute_result"
    }
   ],
   "source": [
    "np.median(ds)\n"
   ]
  },
  {
   "cell_type": "code",
   "execution_count": 50,
   "id": "84b5be15-dedd-4f63-ac44-05c3ad274f2f",
   "metadata": {},
   "outputs": [
    {
     "data": {
      "text/plain": [
       "12"
      ]
     },
     "execution_count": 50,
     "metadata": {},
     "output_type": "execute_result"
    }
   ],
   "source": [
    "(ds>(np.median(ds) + c)).sum()\n",
    "(ds<(np.median(ds) - c)).sum()"
   ]
  },
  {
   "cell_type": "code",
   "execution_count": 57,
   "id": "cc9f1910-6e1f-482d-ab12-25cc54d8b765",
   "metadata": {},
   "outputs": [
    {
     "name": "stdout",
     "output_type": "stream",
     "text": [
      "5.0276\n",
      "5.02\n",
      "5.034736842105263\n",
      "0.009999999999999787\n"
     ]
    },
    {
     "ename": "TypeError",
     "evalue": "can't multiply sequence by non-int of type 'numpy.float64'",
     "output_type": "error",
     "traceback": [
      "\u001b[0;31m---------------------------------------------------------------------------\u001b[0m",
      "\u001b[0;31mTypeError\u001b[0m                                 Traceback (most recent call last)",
      "\u001b[0;32m/tmp/ipykernel_635/1165677256.py\u001b[0m in \u001b[0;36m<module>\u001b[0;34m\u001b[0m\n\u001b[1;32m      6\u001b[0m \u001b[0mprint\u001b[0m\u001b[0;34m(\u001b[0m\u001b[0md\u001b[0m\u001b[0;34m)\u001b[0m\u001b[0;34m\u001b[0m\u001b[0;34m\u001b[0m\u001b[0m\n\u001b[1;32m      7\u001b[0m \u001b[0mc\u001b[0m \u001b[0;34m=\u001b[0m \u001b[0md\u001b[0m\u001b[0;34m/\u001b[0m\u001b[0;36m2\u001b[0m\u001b[0;34m\u001b[0m\u001b[0;34m\u001b[0m\u001b[0m\n\u001b[0;32m----> 8\u001b[0;31m \u001b[0mds\u001b[0m\u001b[0;34m[\u001b[0m\u001b[0;34m(\u001b[0m\u001b[0mds\u001b[0m\u001b[0;34m>\u001b[0m\u001b[0mnp\u001b[0m\u001b[0;34m.\u001b[0m\u001b[0mmedian\u001b[0m\u001b[0;34m(\u001b[0m\u001b[0mds\u001b[0m\u001b[0;34m)\u001b[0m \u001b[0;34m-\u001b[0m \u001b[0mc\u001b[0m\u001b[0;34m)\u001b[0m \u001b[0;34m&\u001b[0m \u001b[0;34m(\u001b[0m\u001b[0mds\u001b[0m \u001b[0;34m<\u001b[0m \u001b[0mnp\u001b[0m\u001b[0;34m.\u001b[0m\u001b[0mmedian\u001b[0m\u001b[0;34m(\u001b[0m\u001b[0mds\u001b[0m\u001b[0;34m)\u001b[0m \u001b[0;34m+\u001b[0m \u001b[0mc\u001b[0m\u001b[0;34m)\u001b[0m \u001b[0;34m]\u001b[0m\u001b[0;34m.\u001b[0m\u001b[0msum\u001b[0m\u001b[0;34m(\u001b[0m\u001b[0;34m)\u001b[0m \u001b[0;34m+\u001b[0m \u001b[0mc\u001b[0m\u001b[0;34m*\u001b[0m\u001b[0;34m(\u001b[0m\u001b[0;34m)\u001b[0m\u001b[0;34m\u001b[0m\u001b[0;34m\u001b[0m\u001b[0m\n\u001b[0m",
      "\u001b[0;31mTypeError\u001b[0m: can't multiply sequence by non-int of type 'numpy.float64'"
     ]
    }
   ],
   "source": [
    "print(ds.mean())\n",
    "print(np.median(ds))\n",
    "print(ds[3:-3].mean())\n",
    "s = (n//2 + 1)//2\n",
    "d = ds[n - s] - ds[s]\n",
    "print()\n",
    "c = d/2\n",
    "ds[(ds>np.median(ds) - c) & (ds < np.median(ds) + c) ].sum() + c*()"
   ]
  },
  {
   "cell_type": "code",
   "execution_count": 31,
   "id": "79a0fbbc-359a-4f48-b9a3-ba9caedf8e9e",
   "metadata": {},
   "outputs": [
    {
     "data": {
      "text/plain": [
       "array([4.9 , 5.12, 5.19, 4.8 , 4.87, 4.98, 4.58, 4.81, 5.18, 5.25, 5.05,\n",
       "       4.79, 5.57, 5.01, 5.57, 5.01, 4.81, 5.13, 5.04])"
      ]
     },
     "execution_count": 31,
     "metadata": {},
     "output_type": "execute_result"
    }
   ],
   "source": [
    "ds[3:-3]"
   ]
  },
  {
   "cell_type": "code",
   "execution_count": 58,
   "id": "ef470de9-9b40-4128-bef8-d6764c0ebb1d",
   "metadata": {},
   "outputs": [],
   "source": [
    "import seaborn as sns"
   ]
  },
  {
   "cell_type": "code",
   "execution_count": 60,
   "id": "e2b43bf8-5a45-4857-b681-f77d277bca43",
   "metadata": {},
   "outputs": [
    {
     "data": {
      "text/plain": [
       "<AxesSubplot:ylabel='Count'>"
      ]
     },
     "execution_count": 60,
     "metadata": {},
     "output_type": "execute_result"
    },
    {
     "data": {
      "image/png": "[encoded data removed]",
      "text/plain": [
       "<Figure size 432x288 with 1 Axes>"
      ]
     },
     "metadata": {
      "needs_background": "light"
     },
     "output_type": "display_data"
    }
   ],
   "source": [
    "sns.histplot(ds)"
   ]
  },
  {
   "cell_type": "code",
   "execution_count": 80,
   "id": "989b4e5d-f329-43db-b57a-36a7c95ae428",
   "metadata": {},
   "outputs": [],
   "source": [
    "ds = np.array([5.8, 0.1, 1.9, -2.5, 5.7, -1.2, 4.2, 8.0, 7.9, -2.3, 0.9, 5.5, 3.3, -7.2, 1.2, -5.4, 3.1])"
   ]
  },
  {
   "cell_type": "code",
   "execution_count": 81,
   "id": "5f1eefcd-8c5a-4c33-a670-2284c7e08a15",
   "metadata": {},
   "outputs": [],
   "source": [
    "from scipy.stats import binom"
   ]
  },
  {
   "cell_type": "code",
   "execution_count": 82,
   "id": "3a926a30-41b1-4d82-bcc2-72de4f61b327",
   "metadata": {},
   "outputs": [
    {
     "name": "stdout",
     "output_type": "stream",
     "text": [
      "0.0245208740234375\n",
      "0.9754791259765625\n"
     ]
    }
   ],
   "source": [
    "print(binom(len(ds), 0.5).cdf(4))\n",
    "print(binom(len(ds), 0.5).cdf(len(ds) - 5))"
   ]
  },
  {
   "cell_type": "code",
   "execution_count": 83,
   "id": "68e507b3-2353-4085-8c78-6c9763fbaa4f",
   "metadata": {},
   "outputs": [
    {
     "data": {
      "text/plain": [
       "12"
      ]
     },
     "execution_count": 83,
     "metadata": {},
     "output_type": "execute_result"
    }
   ],
   "source": [
    "len(ds)-5"
   ]
  },
  {
   "cell_type": "code",
   "execution_count": 88,
   "id": "f757053a-dfd4-42bf-bdbb-962204b4b4e8",
   "metadata": {},
   "outputs": [
    {
     "data": {
      "text/plain": [
       "12"
      ]
     },
     "execution_count": 88,
     "metadata": {},
     "output_type": "execute_result"
    }
   ],
   "source": [
    "np.where(ds>0,1,0).sum()"
   ]
  },
  {
   "cell_type": "code",
   "execution_count": null,
   "id": "0884cc81-bd96-4c8c-93c0-5988719916e9",
   "metadata": {},
   "outputs": [],
   "source": []
  }
 ],
 "metadata": {
  "kernelspec": {
   "display_name": "Python 3 (ipykernel)",
   "language": "python",
   "name": "python3"
  },
  "language_info": {
   "codemirror_mode": {
    "name": "ipython",
    "version": 3
   },
   "file_extension": ".py",
   "mimetype": "text/x-python",
   "name": "python",
   "nbconvert_exporter": "python",
   "pygments_lexer": "ipython3",
   "version": "3.7.12"
  }
 },
 "nbformat": 4,
 "nbformat_minor": 5
}
