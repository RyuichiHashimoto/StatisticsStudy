{
 "cells": [
  {
   "cell_type": "code",
   "execution_count": 1,
   "id": "83ecd689",
   "metadata": {},
   "outputs": [],
   "source": [
    "import numpy as np"
   ]
  },
  {
   "cell_type": "code",
   "execution_count": 13,
   "id": "21e4ec3d",
   "metadata": {},
   "outputs": [],
   "source": [
    "d = [395, 383, 365, 381, 437, 378, 394, 401, 385, 379, 413, 387, 369, 391, 340, 375, 393, 390, 390, 380, 388, 388, 383, 386, 404, 430, 377, 373, 378, 358]\n",
    "d = np.array(d)\n",
    "d.sort()"
   ]
  },
  {
   "cell_type": "code",
   "execution_count": 14,
   "id": "98911824",
   "metadata": {},
   "outputs": [
    {
     "name": "stdout",
     "output_type": "stream",
     "text": [
      "mean 386.3666666666667\n",
      "median 385.5\n",
      "trim: k = 1 386.2142857142857\n",
      "trim: k = 3 385.3333333333333\n"
     ]
    }
   ],
   "source": [
    "print(\"mean\",d.mean())\n",
    "print(\"median\",np.median(d))\n",
    "k = 1\n",
    "print(f\"trim: k = {k}\",d[k:-1*k].mean())\n",
    "k = 3\n",
    "print(f\"trim: k = {k}\",d[k:-1*k].mean())"
   ]
  },
  {
   "cell_type": "code",
   "execution_count": 19,
   "id": "486be2e1",
   "metadata": {},
   "outputs": [],
   "source": [
    "d_len = d[22] - d[7]\n",
    "c = 0.5*d_len"
   ]
  },
  {
   "cell_type": "code",
   "execution_count": 25,
   "id": "a705018c",
   "metadata": {},
   "outputs": [
    {
     "name": "stdout",
     "output_type": "stream",
     "text": [
      "378.0 393.0\n"
     ]
    }
   ],
   "source": [
    "left = np.median(d) - c\n",
    "right = np.median(d) + c\n",
    "print( left, right)"
   ]
  },
  {
   "cell_type": "code",
   "execution_count": 51,
   "id": "d260af79",
   "metadata": {},
   "outputs": [
    {
     "data": {
      "text/plain": [
       "array([378, 378, 379, 380, 381, 383, 383, 385, 386, 387, 388, 388, 390,\n",
       "       390, 391, 393])"
      ]
     },
     "execution_count": 51,
     "metadata": {},
     "output_type": "execute_result"
    }
   ],
   "source": [
    "d[(d <= right) & ( d >= left)]"
   ]
  },
  {
   "cell_type": "code",
   "execution_count": 53,
   "id": "995c3089",
   "metadata": {},
   "outputs": [
    {
     "name": "stdout",
     "output_type": "stream",
     "text": [
      "6160.0\n"
     ]
    }
   ],
   "source": [
    "mu = d[d>right].size\n",
    "ml = d[d<left].size\n",
    "print(d[(d <=right) & (d>=left)].sum() + c * (mu - ml)) "
   ]
  },
  {
   "cell_type": "code",
   "execution_count": null,
   "id": "6b99f255",
   "metadata": {},
   "outputs": [],
   "source": []
  }
 ],
 "metadata": {
  "kernelspec": {
   "display_name": "Python 3 (ipykernel)",
   "language": "python",
   "name": "python3"
  },
  "language_info": {
   "codemirror_mode": {
    "name": "ipython",
    "version": 3
   },
   "file_extension": ".py",
   "mimetype": "text/x-python",
   "name": "python",
   "nbconvert_exporter": "python",
   "pygments_lexer": "ipython3",
   "version": "3.7.12"
  }
 },
 "nbformat": 4,
 "nbformat_minor": 5
}
