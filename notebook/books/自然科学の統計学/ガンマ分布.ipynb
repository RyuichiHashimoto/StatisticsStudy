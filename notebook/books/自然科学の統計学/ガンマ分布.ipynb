{
 "cells": [
  {
   "cell_type": "markdown",
   "id": "60c61b36-8bbe-412b-a908-445e3570df47",
   "metadata": {},
   "source": [
    "## 8章 "
   ]
  },
  {
   "cell_type": "code",
   "execution_count": 17,
   "id": "75c84f60-30bc-4eb8-98d1-55ccb364bfc4",
   "metadata": {},
   "outputs": [],
   "source": [
    "import numpy as np\n",
    "import seaborn as sns\n",
    "import matplotlib.pyplot as plt"
   ]
  },
  {
   "cell_type": "code",
   "execution_count": 20,
   "id": "2becc943-0f43-4607-bc0f-743008b64920",
   "metadata": {},
   "outputs": [],
   "source": [
    "X = np.array([0, 1, 2, 3, 4])\n",
    "Y = np.array([0.067, 0.267, 0.50, 0.767, 0.90])"
   ]
  },
  {
   "cell_type": "code",
   "execution_count": 21,
   "id": "cb712a8c-7449-40a1-87cb-d6b8c623700a",
   "metadata": {},
   "outputs": [],
   "source": [
    "def dev(x, y):\n",
    "    return (x-np.mean(x))@(y - np.mean(y))\n",
    "    "
   ]
  },
  {
   "cell_type": "code",
   "execution_count": 22,
   "id": "ebd58683-ee53-4690-ae7d-3df379dab4ea",
   "metadata": {},
   "outputs": [],
   "source": [
    "Sxx =  dev(X,X)\n",
    "Sxy = dev(X,Y)"
   ]
  },
  {
   "cell_type": "code",
   "execution_count": 23,
   "id": "b52c5d46-2da4-468d-9512-138e93674941",
   "metadata": {},
   "outputs": [],
   "source": [
    "a1 = Sxy/Sxx\n",
    "a2 = Y.mean() - a1*X.mean()"
   ]
  },
  {
   "cell_type": "code",
   "execution_count": 24,
   "id": "b00eb479-c69f-45ba-b605-ad31174d4e1e",
   "metadata": {},
   "outputs": [
    {
     "name": "stdout",
     "output_type": "stream",
     "text": [
      "0.2166 0.067\n"
     ]
    }
   ],
   "source": [
    "print(a1, a2)"
   ]
  },
  {
   "cell_type": "code",
   "execution_count": 25,
   "id": "6ea540ab-8ee4-455f-b975-f982af313b13",
   "metadata": {},
   "outputs": [],
   "source": [
    "def pred(X,a1,a2):\n",
    "    return a1*X + a2"
   ]
  },
  {
   "cell_type": "code",
   "execution_count": 31,
   "id": "aa4ea44b-e0bd-46f6-bdd1-d52989b7c2b2",
   "metadata": {},
   "outputs": [
    {
     "name": "stderr",
     "output_type": "stream",
     "text": [
      "/opt/conda/lib/python3.7/site-packages/seaborn/_decorators.py:43: FutureWarning: Pass the following variables as keyword args: x, y. From version 0.12, the only valid positional argument will be `data`, and passing other arguments without an explicit keyword will result in an error or misinterpretation.\n",
      "  FutureWarning\n"
     ]
    },
    {
     "data": {
      "text/plain": [
       "[<matplotlib.lines.Line2D at 0x7f3ba978f090>]"
      ]
     },
     "execution_count": 31,
     "metadata": {},
     "output_type": "execute_result"
    },
    {
     "data": {
      "image/png": "[encoded data removed]",
      "text/plain": [
       "<Figure size 432x288 with 1 Axes>"
      ]
     },
     "metadata": {
      "needs_background": "light"
     },
     "output_type": "display_data"
    }
   ],
   "source": [
    "sns.scatterplot(X, Y)\n",
    "s = np.arange(-0.50, 5,0.01)\n",
    "plt.plot(s,pred(s,a1,a2))"
   ]
  },
  {
   "cell_type": "code",
   "execution_count": 28,
   "id": "6e213874-38dc-49f2-8199-bdde81862bf3",
   "metadata": {},
   "outputs": [
    {
     "name": "stdout",
     "output_type": "stream",
     "text": [
      "[0.067  0.2836 0.5002 0.7168 0.9334]\n"
     ]
    }
   ],
   "source": [
    "print(pred(np.arange(0,5,1),a1,a2))"
   ]
  },
  {
   "cell_type": "markdown",
   "id": "84f39e32-1efe-4109-8a67-e4517e22dcf7",
   "metadata": {},
   "source": [
    "## 8.2"
   ]
  },
  {
   "cell_type": "code",
   "execution_count": 33,
   "id": "3b25b12e-b2e4-41df-a163-966df7d67e1a",
   "metadata": {},
   "outputs": [
    {
     "data": {
      "text/plain": [
       "2.139963167587477"
      ]
     },
     "execution_count": 33,
     "metadata": {},
     "output_type": "execute_result"
    }
   ],
   "source": [
    "1162/543"
   ]
  },
  {
   "cell_type": "code",
   "execution_count": null,
   "id": "694a4da7-48ae-44ef-8297-c4dedcd3c333",
   "metadata": {},
   "outputs": [],
   "source": [
    "\n"
   ]
  }
 ],
 "metadata": {
  "kernelspec": {
   "display_name": "Python 3 (ipykernel)",
   "language": "python",
   "name": "python3"
  },
  "language_info": {
   "codemirror_mode": {
    "name": "ipython",
    "version": 3
   },
   "file_extension": ".py",
   "mimetype": "text/x-python",
   "name": "python",
   "nbconvert_exporter": "python",
   "pygments_lexer": "ipython3",
   "version": "3.7.12"
  }
 },
 "nbformat": 4,
 "nbformat_minor": 5
}
