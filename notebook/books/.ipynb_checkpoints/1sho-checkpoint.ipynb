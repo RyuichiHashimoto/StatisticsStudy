{
 "cells": [
  {
   "cell_type": "code",
   "execution_count": 1,
   "id": "eb8a13ea",
   "metadata": {},
   "outputs": [],
   "source": [
    "kion = [6.6,7.0,5.9,6.3,7.3,6.5,4.0,5.9,6.1,3.4,3.8,5.1,4.4,3.8,4.0,2.2,5.0,5.5,6.3,5.4,5.0,6.0,5.7,5.1,5.9,5.3,5.5,3.7,4.2,2.9,2.9]"
   ]
  },
  {
   "cell_type": "markdown",
   "id": "1625b741",
   "metadata": {},
   "source": [
    "## 平均"
   ]
  },
  {
   "cell_type": "code",
   "execution_count": 9,
   "id": "7d50fe05",
   "metadata": {},
   "outputs": [
    {
     "name": "stdout",
     "output_type": "stream",
     "text": [
      "ave:  5.054838709677419\n"
     ]
    }
   ],
   "source": [
    "ave = 0;\n",
    "for a in kion:\n",
    "    ave += a;\n",
    "\n",
    "ave /= len(kion)\n",
    "print(\"ave: \", ave)"
   ]
  },
  {
   "cell_type": "markdown",
   "id": "a1d5608a",
   "metadata": {},
   "source": [
    "### 分散"
   ]
  },
  {
   "cell_type": "code",
   "execution_count": 12,
   "id": "e9298351",
   "metadata": {},
   "outputs": [
    {
     "name": "stdout",
     "output_type": "stream",
     "text": [
      "std: 1.6153798126951084\n"
     ]
    }
   ],
   "source": [
    "dis = 0\n",
    "for a in kion:\n",
    "    dis += (a-ave)*(a-ave)\n",
    "dis /= len(kion)\n",
    "print(\"std:\", dis)"
   ]
  },
  {
   "cell_type": "markdown",
   "id": "5734ccb3",
   "metadata": {},
   "source": [
    "### 標準偏差"
   ]
  },
  {
   "cell_type": "code",
   "execution_count": 18,
   "id": "4b42f35d",
   "metadata": {},
   "outputs": [
    {
     "name": "stdout",
     "output_type": "stream",
     "text": [
      "std: 1.2709759292351324\n"
     ]
    }
   ],
   "source": [
    "import math\n",
    "\n",
    "std = math.sqrt(dis)\n",
    "print(\"std:\", std)"
   ]
  },
  {
   "cell_type": "markdown",
   "id": "eb31f0d8",
   "metadata": {},
   "source": [
    "### 累積相対度数分布表"
   ]
  },
  {
   "cell_type": "code",
   "execution_count": 31,
   "id": "4cb5b3cc",
   "metadata": {},
   "outputs": [],
   "source": [
    "rank = [int((a - 2.0) //0.5) for a in kion]\n",
    "ma = {}\n",
    "for r in rank:\n",
    "    if r not in ma:\n",
    "        ma[r] = 1\n",
    "    else:\n",
    "        ma[r] += 1"
   ]
  },
  {
   "cell_type": "code",
   "execution_count": 40,
   "id": "2d425a7d",
   "metadata": {},
   "outputs": [
    {
     "name": "stdout",
     "output_type": "stream",
     "text": [
      "0 0.03225806451612903\n",
      "1 0.0967741935483871\n",
      "2 0.12903225806451613\n",
      "3 0.22580645161290322\n",
      "4 0.3548387096774194\n",
      "6 0.5483870967741935\n",
      "7 0.7419354838709677\n",
      "8 0.8709677419354839\n",
      "9 0.935483870967742\n",
      "10 1.0\n"
     ]
    }
   ],
   "source": [
    "ret = 0\n",
    "se = []\n",
    "for i in set(rank):\n",
    "    ret += ma[i]/31\n",
    "    se.append(ret)\n",
    "    print(i, ret)"
   ]
  },
  {
   "cell_type": "markdown",
   "id": "0f14b301",
   "metadata": {},
   "source": [
    "### 度数分布図"
   ]
  },
  {
   "cell_type": "code",
   "execution_count": 37,
   "id": "539d4201",
   "metadata": {},
   "outputs": [],
   "source": [
    "import matplotlib.pyplot as plt"
   ]
  },
  {
   "cell_type": "code",
   "execution_count": 38,
   "id": "48dd3c92",
   "metadata": {},
   "outputs": [
    {
     "data": {
      "text/plain": [
       "[<matplotlib.lines.Line2D at 0x7f5456a052d0>]"
      ]
     },
     "execution_count": 38,
     "metadata": {},
     "output_type": "execute_result"
    },
    {
     "data": {
      "image/png": "[encoded data removed]",
      "text/plain": [
       "<Figure size 432x288 with 1 Axes>"
      ]
     },
     "metadata": {
      "needs_background": "light"
     },
     "output_type": "display_data"
    }
   ],
   "source": [
    "plt.plot(list(set(rank)),se)"
   ]
  },
  {
   "cell_type": "markdown",
   "id": "7eb8247e",
   "metadata": {},
   "source": [
    "### 風向き"
   ]
  },
  {
   "cell_type": "code",
   "execution_count": 74,
   "id": "f0a630db",
   "metadata": {},
   "outputs": [],
   "source": [
    "南西=\"南西\"\n",
    "北西=\"北西\"\n",
    "北北西=\"北北西\"\n",
    "東北東=\"東北東\"\n",
    "西北西=\"西北西\"\n",
    "南東=\"南東\"\n",
    "\n",
    "kaze = [\n",
    "    北西,\n",
    "    北北西,\n",
    "    北北西,\n",
    "    北西,\n",
    "    南西,\n",
    "    北西,\n",
    "    北西,\n",
    "    北北西,\n",
    "    東北東,\n",
    "    北北西,\n",
    "    北北西,\n",
    "    北北西,\n",
    "    北北西,\n",
    "    西北西,\n",
    "    東北東,\n",
    "    北北西,\n",
    "    北北西,\n",
    "    北西,\n",
    "    北北西,\n",
    "    北北西,\n",
    "    北西,\n",
    "    北北西,\n",
    "    南東,\n",
    "    北西,\n",
    "    北西,\n",
    "    北西,\n",
    "    北北西,\n",
    "    北北西,\n",
    "    北北西,\n",
    "    北西,\n",
    "    西北西\n",
    "]"
   ]
  },
  {
   "cell_type": "code",
   "execution_count": 75,
   "id": "705ad3dc",
   "metadata": {},
   "outputs": [],
   "source": [
    "ma = {}\n",
    "for i in kaze:\n",
    "    if i not in ma:\n",
    "        ma[i] = 1\n",
    "    else:\n",
    "        ma[i]+=1"
   ]
  },
  {
   "cell_type": "code",
   "execution_count": 76,
   "id": "fe2ff0d8",
   "metadata": {},
   "outputs": [
    {
     "name": "stdout",
     "output_type": "stream",
     "text": [
      "北西 \t 10 \t 0.3225806451612903\n",
      "北北西 \t 15 \t 0.4838709677419355\n",
      "南西 \t 1 \t 0.03225806451612903\n",
      "東北東 \t 2 \t 0.06451612903225806\n",
      "西北西 \t 2 \t 0.06451612903225806\n",
      "南東 \t 1 \t 0.03225806451612903\n"
     ]
    }
   ],
   "source": [
    "for key in ma:\n",
    "    print(key,'\\t',ma[key],'\\t',ma[key]/31)"
   ]
  },
  {
   "cell_type": "markdown",
   "id": "9ccabe12",
   "metadata": {},
   "source": [
    "## ５数要約"
   ]
  },
  {
   "cell_type": "code",
   "execution_count": 57,
   "id": "46c86e00",
   "metadata": {},
   "outputs": [
    {
     "name": "stdout",
     "output_type": "stream",
     "text": [
      "1/4 \t 4.0\n",
      "2/4 \t 5.3\n",
      "3/4 \t 6.0\n",
      "min \t 2.2\n",
      "max \t 7.3\n"
     ]
    }
   ],
   "source": [
    "s_kion = sorted(kion)\n",
    "print(\"1/4\",'\\t',s_kion[31//4])\n",
    "print(\"2/4\",'\\t',s_kion[31//2])\n",
    "print(\"3/4\",'\\t',s_kion[31*3//4])\n",
    "print(\"min\",'\\t',s_kion[0])\n",
    "print(\"max\",'\\t',s_kion[-1])"
   ]
  },
  {
   "cell_type": "markdown",
   "id": "9197f4a5",
   "metadata": {},
   "source": [
    "## 散布図"
   ]
  },
  {
   "cell_type": "code",
   "execution_count": 62,
   "id": "f625afbc",
   "metadata": {},
   "outputs": [],
   "source": [
    "idx = [i for i in range(1,32)]\n",
    "kion = kion"
   ]
  },
  {
   "cell_type": "code",
   "execution_count": 64,
   "id": "39363e8f",
   "metadata": {},
   "outputs": [],
   "source": [
    "import numpy as np\n",
    "idx_m = np.mean(idx)\n",
    "kion_m = np.mean(kion)"
   ]
  },
  {
   "cell_type": "code",
   "execution_count": 72,
   "id": "5b1591f8",
   "metadata": {},
   "outputs": [],
   "source": [
    "conv = sum([ (a - idx_m) * (b - kion_m) for a,b in zip(idx, kion)])/len(kion)\n",
    "idx_s = sum([ (a - idx_m) * (a - idx_m) for a,b in zip(idx, kion)])/len(kion)\n",
    "kion_s = sum([ (b - kion_m) * (b - kion_m) for a,b in zip(idx, kion)])/len(kion)"
   ]
  },
  {
   "cell_type": "code",
   "execution_count": 73,
   "id": "425c4b66",
   "metadata": {},
   "outputs": [
    {
     "name": "stdout",
     "output_type": "stream",
     "text": [
      "-0.03923974799984539\n"
     ]
    }
   ],
   "source": [
    "print(conv/(idx_s*kion_s))"
   ]
  },
  {
   "cell_type": "markdown",
   "id": "4e97ee5a",
   "metadata": {},
   "source": [
    "# 1.2"
   ]
  },
  {
   "cell_type": "code",
   "execution_count": 78,
   "id": "66545902",
   "metadata": {},
   "outputs": [],
   "source": [
    "data = [[30,45], [30,60],[40,50],[40,65],[50,70],[50,50],[60,55],[60,60],[70,70],[70,75]]"
   ]
  },
  {
   "cell_type": "code",
   "execution_count": 131,
   "id": "a80f15ee",
   "metadata": {},
   "outputs": [
    {
     "name": "stdout",
     "output_type": "stream",
     "text": [
      "50.0 60.0\n",
      "14.142135623730951 9.486832980505138\n",
      "-0.7071067811865475 -1.0540925533894598\n"
     ]
    }
   ],
   "source": [
    "ave_1 = 0\n",
    "ave_2 = 0\n",
    "for a in data:\n",
    "    ave_1 += a[0]/10\n",
    "    ave_2 += a[1]/10\n",
    "print(ave_1, ave_2)\n",
    "\n",
    "std_1 = 0\n",
    "std_2 = 0\n",
    "for a in data:\n",
    "    std_1 += (a[0] - ave_1)*(a[0] - ave_1)/10\n",
    "    std_2 += (a[1] - ave_2)*(a[1] - ave_2)/10\n",
    "\n",
    "std_1 = math.sqrt(std_1)\n",
    "std_2 = math.sqrt(std_2)    \n",
    "print(std_1,std_2)\n",
    "\n",
    "c_1 = (data[2][0] - ave_1)/std_1\n",
    "c_2 = (data[2][1] - ave_2)/std_2\n",
    "print(c_1,c_2)"
   ]
  },
  {
   "cell_type": "code",
   "execution_count": 140,
   "id": "9eb4b8dc",
   "metadata": {},
   "outputs": [
    {
     "name": "stdout",
     "output_type": "stream",
     "text": [
      "0.282842712474619 0.15811388300841897\n"
     ]
    }
   ],
   "source": [
    "print(std_1/ave_1,std_2/ave_2)"
   ]
  },
  {
   "cell_type": "code",
   "execution_count": 133,
   "id": "7a5b5e7e",
   "metadata": {},
   "outputs": [
    {
     "name": "stdout",
     "output_type": "stream",
     "text": [
      "0.5962847939999438\n"
     ]
    }
   ],
   "source": [
    "conv_a = sum([(a-ave_1)*(b-ave_2)for a,b in data])/10\n",
    "print(conv_a/(std_1*std_2))"
   ]
  },
  {
   "cell_type": "code",
   "execution_count": 134,
   "id": "c503ca82",
   "metadata": {},
   "outputs": [
    {
     "data": {
      "text/plain": [
       "<matplotlib.collections.PathCollection at 0x7f546af69a50>"
      ]
     },
     "execution_count": 134,
     "metadata": {},
     "output_type": "execute_result"
    },
    {
     "data": {
      "image/png": "[encoded data removed]",
      "text/plain": [
       "<Figure size 432x288 with 1 Axes>"
      ]
     },
     "metadata": {
      "needs_background": "light"
     },
     "output_type": "display_data"
    }
   ],
   "source": [
    "plt.scatter(x = [a[0] for a in data], y = [a[1] for a in data])"
   ]
  },
  {
   "cell_type": "code",
   "execution_count": 135,
   "id": "bfae3af7",
   "metadata": {},
   "outputs": [],
   "source": [
    "def mean(a):\n",
    "    return sum(a)/len(a)"
   ]
  },
  {
   "cell_type": "code",
   "execution_count": 136,
   "id": "b99294e1",
   "metadata": {},
   "outputs": [],
   "source": [
    "XY_ = sum([a[0]*a[1] for a in data])\n",
    "X__ = sum([a[0]*a[0] for a in data])"
   ]
  },
  {
   "cell_type": "code",
   "execution_count": 137,
   "id": "611686f0",
   "metadata": {},
   "outputs": [
    {
     "name": "stdout",
     "output_type": "stream",
     "text": [
      "0.4 40.0\n"
     ]
    }
   ],
   "source": [
    "a = (XY_ - 10*ave_1*ave_2)/(+ X__ - 10*ave_1*ave_1)\n",
    "b = ave_2 - a * ave_1\n",
    "print(a,b)"
   ]
  },
  {
   "cell_type": "code",
   "execution_count": 138,
   "id": "e6b3fccb",
   "metadata": {},
   "outputs": [],
   "source": [
    "S_T = sum([(x[1]-ave_2)*(x[1]-ave_2) for x in data])\n",
    "S_E = sum([ (a*X[0] + b - ave_2)*(a*X[0] + b - ave_2) for X in data ])"
   ]
  },
  {
   "cell_type": "code",
   "execution_count": 142,
   "id": "717abfea",
   "metadata": {},
   "outputs": [
    {
     "name": "stdout",
     "output_type": "stream",
     "text": [
      "0.35555555555555557\n"
     ]
    }
   ],
   "source": [
    "print(S_E/S_T)"
   ]
  },
  {
   "cell_type": "markdown",
   "id": "4381f248",
   "metadata": {},
   "source": [
    "## 1.3"
   ]
  },
  {
   "cell_type": "code",
   "execution_count": 181,
   "id": "b37f94c5",
   "metadata": {},
   "outputs": [
    {
     "name": "stdout",
     "output_type": "stream",
     "text": [
      "0.39 \t 0.24\n",
      "0.72 \t 0.62\n",
      "1.0 \t 1.0\n",
      "1.52 \t 1.88\n",
      "5.2 \t 11.86\n",
      "9.54 \t 29.46\n",
      "19.19 \t 84.01\n",
      "30.07 \t 164.79\n"
     ]
    }
   ],
   "source": [
    "X = [0.39,0.72,1.00,1.52,5.20,9.54,19.19,30.07]\n",
    "X2 = [a*a for a in X]\n",
    "Y = [0.24,0.62,1.00,1.88,11.86,29.46,84.01,164.79]\n",
    "for a,b in zip(X,Y):\n",
    "    print(a,'\\t',b)"
   ]
  },
  {
   "cell_type": "code",
   "execution_count": 184,
   "id": "65385c29",
   "metadata": {},
   "outputs": [],
   "source": [
    "def calc(X, Y):\n",
    "    assert len(X) == len(Y)\n",
    "    n = len(X)\n",
    "    \n",
    "    XY_ = sum([a*b for a,b in zip(X,Y)])\n",
    "    X__ = sum([a*a for a,b in zip(X,Y)])\n",
    "    \n",
    "    \n",
    "    mean_X = sum(X)/n\n",
    "    mean_Y = sum(Y)/n\n",
    "    \n",
    "    \n",
    "    \n",
    "    a = (XY_ - n*mean_X*mean_Y)/(X__ - n*mean_X*mean_Y)\n",
    "    b = mean_Y - a*mean_X\n",
    "    return a,b\n",
    "\n",
    "def calc2(X,Y):\n",
    "\n",
    "    a,b = calc(X,Y)\n",
    "    \n",
    "    S_T = sum([(y-ave_2)*(y-ave_2) for y in Y])\n",
    "    S_E = sum([ (a*x + b - ave_2)*(a*x + b - ave_2) for x in X ])\n",
    "    return S_E/S_T"
   ]
  },
  {
   "cell_type": "code",
   "execution_count": 185,
   "id": "0916034d",
   "metadata": {},
   "outputs": [
    {
     "name": "stdout",
     "output_type": "stream",
     "text": [
      "553.785778125\n",
      "(-1.7858325740251237, 51.82948212266489)\n"
     ]
    }
   ],
   "source": [
    "print(calc(X,Y))\n",
    "#print(calc(X2,Y))\n",
    "#print(calc2(X,Y))\n",
    "#print(calc2(X2,Y))"
   ]
  },
  {
   "cell_type": "code",
   "execution_count": null,
   "id": "90cf9fb1",
   "metadata": {},
   "outputs": [],
   "source": []
  },
  {
   "cell_type": "code",
   "execution_count": null,
   "id": "62f2f3a1",
   "metadata": {},
   "outputs": [],
   "source": []
  }
 ],
 "metadata": {
  "kernelspec": {
   "display_name": "Python 3 (ipykernel)",
   "language": "python",
   "name": "python3"
  },
  "language_info": {
   "codemirror_mode": {
    "name": "ipython",
    "version": 3
   },
   "file_extension": ".py",
   "mimetype": "text/x-python",
   "name": "python",
   "nbconvert_exporter": "python",
   "pygments_lexer": "ipython3",
   "version": "3.7.12"
  }
 },
 "nbformat": 4,
 "nbformat_minor": 5
}
