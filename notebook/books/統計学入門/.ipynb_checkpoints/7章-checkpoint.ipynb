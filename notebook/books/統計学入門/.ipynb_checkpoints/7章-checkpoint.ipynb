{
 "cells": [
  {
   "cell_type": "code",
   "execution_count": 1,
   "id": "1fde33a0",
   "metadata": {},
   "outputs": [],
   "source": [
    "e1 = 0.198\n",
    "sig1 = 0.357\n",
    "e2 = 0.055\n",
    "sig2 = 0.203\n",
    "ro=0.18"
   ]
  },
  {
   "cell_type": "code",
   "execution_count": null,
   "id": "7ade5856",
   "metadata": {},
   "outputs": [],
   "source": [
    "def Exp_RP(x):\n",
    "    return e1*x + e2*(1-x)\n",
    "    \n",
    "    "
   ]
  }
 ],
 "metadata": {
  "kernelspec": {
   "display_name": "Python 3 (ipykernel)",
   "language": "python",
   "name": "python3"
  },
  "language_info": {
   "codemirror_mode": {
    "name": "ipython",
    "version": 3
   },
   "file_extension": ".py",
   "mimetype": "text/x-python",
   "name": "python",
   "nbconvert_exporter": "python",
   "pygments_lexer": "ipython3",
   "version": "3.7.12"
  }
 },
 "nbformat": 4,
 "nbformat_minor": 5
}
