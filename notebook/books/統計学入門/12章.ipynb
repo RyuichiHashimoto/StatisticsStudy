{
 "cells": [
  {
   "cell_type": "code",
   "execution_count": 6,
   "id": "ee46b5ec",
   "metadata": {},
   "outputs": [],
   "source": [
    "import numpy as np\n",
    "from scipy import stats"
   ]
  },
  {
   "cell_type": "code",
   "execution_count": 8,
   "id": "b019940e",
   "metadata": {},
   "outputs": [],
   "source": [
    "def div(X):\n",
    "    return (X - np.mean(X))@(X-np.mean(X)).T"
   ]
  },
  {
   "cell_type": "markdown",
   "id": "99b0f280",
   "metadata": {},
   "source": [
    "# 12.1"
   ]
  },
  {
   "cell_type": "code",
   "execution_count": 7,
   "id": "c9dd2226",
   "metadata": {},
   "outputs": [],
   "source": [
    "data = np.array([101.1, 103.2, 102.1, 99.2, 100.5, 101.3, 99.7, 100.5, 98.9, 101.4])"
   ]
  },
  {
   "cell_type": "code",
   "execution_count": 30,
   "id": "ff7854af",
   "metadata": {},
   "outputs": [],
   "source": [
    "s = div(data)/(len(data)-1)"
   ]
  },
  {
   "cell_type": "code",
   "execution_count": 35,
   "id": "d4c3ec8f",
   "metadata": {},
   "outputs": [
    {
     "data": {
      "text/plain": [
       "1.8909240092503048"
      ]
     },
     "execution_count": 35,
     "metadata": {},
     "output_type": "execute_result"
    }
   ],
   "source": [
    "t_val = (np.mean(data) - 100)/np.sqrt(s/len(data))"
   ]
  },
  {
   "cell_type": "code",
   "execution_count": 38,
   "id": "dbf3eedc",
   "metadata": {},
   "outputs": [
    {
     "data": {
      "text/plain": [
       "0.954399246699202"
      ]
     },
     "execution_count": 38,
     "metadata": {},
     "output_type": "execute_result"
    }
   ],
   "source": [
    "stats.t.cdf(t_val,9)"
   ]
  },
  {
   "cell_type": "markdown",
   "id": "ca15a591",
   "metadata": {},
   "source": [
    "## 12.2"
   ]
  },
  {
   "cell_type": "markdown",
   "id": "7505e031",
   "metadata": {},
   "source": [
    "### (1)"
   ]
  },
  {
   "cell_type": "code",
   "execution_count": 75,
   "id": "6892ecc1",
   "metadata": {},
   "outputs": [],
   "source": [
    "one = np.array([15.4, 18.3, 16.5, 17.4, 18.9, 17.2, 15.0, 15.7, 17.9, 16.5])\n",
    "two = np.array([14.2, 15.9, 16.0, 14.0, 17.0, 13.8, 15.2, 14.5, 15.0, 14.4])"
   ]
  },
  {
   "cell_type": "code",
   "execution_count": 51,
   "id": "e969988c",
   "metadata": {},
   "outputs": [],
   "source": [
    "s = (div(one) + div(two))/18"
   ]
  },
  {
   "cell_type": "code",
   "execution_count": 58,
   "id": "f5bfb773",
   "metadata": {},
   "outputs": [
    {
     "data": {
      "text/plain": [
       "3.606503775109937"
      ]
     },
     "execution_count": 58,
     "metadata": {},
     "output_type": "execute_result"
    }
   ],
   "source": [
    "t_val = (np.mean(one) - np.mean(two))/np.sqrt(s/5)"
   ]
  },
  {
   "cell_type": "code",
   "execution_count": 71,
   "id": "1ae883e9",
   "metadata": {},
   "outputs": [
    {
     "name": "stdout",
     "output_type": "stream",
     "text": [
      "t_val:  3.606503775109937\n",
      "[l, r] =  -2.10092204024096 2.10092204024096\n"
     ]
    }
   ],
   "source": [
    "print(\"t_val: \", t_val)\n",
    "print('[l, r] = ',stats.t.ppf(0.025,18), stats.t.ppf(0.975,18))"
   ]
  },
  {
   "cell_type": "markdown",
   "id": "04ed69e7",
   "metadata": {},
   "source": [
    "### (2)"
   ]
  },
  {
   "cell_type": "code",
   "execution_count": 62,
   "id": "bf186c8b",
   "metadata": {},
   "outputs": [],
   "source": [
    "def welch_val(X, Y):\n",
    "    S_A = (X - np.mean(X))@(X-np.mean(X)).T\n",
    "    S_B = (Y - np.mean(Y))@(Y-np.mean(Y)).T\n",
    "    \n",
    "    bunbo_left = pow(S_A/len(X),2)/(len(X)-1)\n",
    "    bunbo_right = pow(S_B/len(Y),2)/(len(Y)-1)\n",
    "    \n",
    "    bunshi = pow(S_A/len(X) + S_B/len(Y), 2)\n",
    "    return bunshi/(bunbo_left + bunbo_right)    "
   ]
  },
  {
   "cell_type": "code",
   "execution_count": 64,
   "id": "07170b31",
   "metadata": {},
   "outputs": [
    {
     "data": {
      "text/plain": [
       "17.170291868811073"
      ]
     },
     "execution_count": 64,
     "metadata": {},
     "output_type": "execute_result"
    }
   ],
   "source": [
    "a = welch_val(one,two)"
   ]
  },
  {
   "cell_type": "code",
   "execution_count": 68,
   "id": "3c665100",
   "metadata": {},
   "outputs": [],
   "source": [
    "t_val = (np.mean(one) - np.mean(two))/np.sqrt(s/5)"
   ]
  },
  {
   "cell_type": "code",
   "execution_count": 70,
   "id": "a3997a5b",
   "metadata": {},
   "outputs": [
    {
     "name": "stdout",
     "output_type": "stream",
     "text": [
      "t_val:  3.606503775109937\n",
      "[l, r] =  -2.109815577833181 2.1098155778331806\n"
     ]
    }
   ],
   "source": [
    "print(\"t_val: \", t_val)\n",
    "print('[l, r] = ',stats.t.ppf(0.025,17), stats.t.ppf(0.975,17))"
   ]
  },
  {
   "cell_type": "markdown",
   "id": "718b5713",
   "metadata": {},
   "source": [
    "## F_Value"
   ]
  },
  {
   "cell_type": "code",
   "execution_count": 80,
   "id": "196aa1a7",
   "metadata": {},
   "outputs": [],
   "source": [
    "S_one = div(one)\n",
    "S_two = div(two)\n",
    "F = S_one/S_two"
   ]
  },
  {
   "cell_type": "code",
   "execution_count": 86,
   "id": "34d5a93f",
   "metadata": {},
   "outputs": [
    {
     "name": "stdout",
     "output_type": "stream",
     "text": [
      "0.15287972754488974 6.541089626853058\n",
      "1.5635220125786156\n"
     ]
    }
   ],
   "source": [
    "l = stats.f.ppf(0.005,9,9)\n",
    "r = stats.f.ppf(0.995,9,9)\n",
    "print(l,r)\n",
    "print(F)"
   ]
  },
  {
   "cell_type": "markdown",
   "id": "87d5b365",
   "metadata": {},
   "source": [
    "## 12.3"
   ]
  },
  {
   "cell_type": "code",
   "execution_count": 87,
   "id": "b86be324",
   "metadata": {},
   "outputs": [],
   "source": [
    "z = np.array([2, -5, -4, -8, 3, 0, 3, -6, -2, 1, 0, -4])"
   ]
  },
  {
   "cell_type": "code",
   "execution_count": 105,
   "id": "13e46408",
   "metadata": {},
   "outputs": [
    {
     "data": {
      "text/plain": [
       "-1.560009076442849"
      ]
     },
     "execution_count": 105,
     "metadata": {},
     "output_type": "execute_result"
    }
   ],
   "source": [
    "s = div(z)/(len(z)-1)\n",
    "np.mean(z)/np.sqrt(s/len(z))"
   ]
  },
  {
   "cell_type": "code",
   "execution_count": 103,
   "id": "56dcf029",
   "metadata": {},
   "outputs": [
    {
     "name": "stdout",
     "output_type": "stream",
     "text": [
      "-2.718079183535557\n"
     ]
    }
   ],
   "source": [
    "print(stats.t.ppf(0.01,11))"
   ]
  },
  {
   "cell_type": "markdown",
   "id": "ab20ea91",
   "metadata": {},
   "source": [
    "## 12.4"
   ]
  },
  {
   "cell_type": "code",
   "execution_count": 111,
   "id": "8ab34a90",
   "metadata": {},
   "outputs": [],
   "source": [
    "s = np.array([10, 7, 8, 11, 6, 8])"
   ]
  },
  {
   "cell_type": "code",
   "execution_count": 113,
   "id": "1640e6f1",
   "metadata": {},
   "outputs": [],
   "source": [
    "np = 50/6"
   ]
  },
  {
   "cell_type": "code",
   "execution_count": 122,
   "id": "7df2f917",
   "metadata": {},
   "outputs": [
    {
     "data": {
      "text/plain": [
       "2.08"
      ]
     },
     "execution_count": 122,
     "metadata": {},
     "output_type": "execute_result"
    }
   ],
   "source": [
    "((s - np)*(s - np)/np).sum()"
   ]
  },
  {
   "cell_type": "code",
   "execution_count": 124,
   "id": "db2e8c48",
   "metadata": {},
   "outputs": [
    {
     "data": {
      "text/plain": [
       "11.070497693516351"
      ]
     },
     "execution_count": 124,
     "metadata": {},
     "output_type": "execute_result"
    }
   ],
   "source": [
    "stats.chi2.ppf(0.95,5)"
   ]
  },
  {
   "cell_type": "markdown",
   "id": "bf3ff29b",
   "metadata": {},
   "source": [
    "## 12.6"
   ]
  },
  {
   "cell_type": "code",
   "execution_count": 129,
   "id": "7a4d87d2",
   "metadata": {},
   "outputs": [],
   "source": [
    "import numpy as np"
   ]
  },
  {
   "cell_type": "code",
   "execution_count": 154,
   "id": "072641b5",
   "metadata": {},
   "outputs": [],
   "source": [
    "a = np.array([[117, 54], [950, 348]])\n",
    "n = a.sum()"
   ]
  },
  {
   "cell_type": "code",
   "execution_count": 153,
   "id": "b5110a85",
   "metadata": {},
   "outputs": [],
   "source": [
    "fifj = a.sum(axis=1,keepdims=True)@a.sum(axis=0,keepdims=True)"
   ]
  },
  {
   "cell_type": "code",
   "execution_count": 160,
   "id": "91e044f5",
   "metadata": {},
   "outputs": [],
   "source": [
    "chi2_val = (pow(n*a - fifj,2)/(n*fifj)).sum()"
   ]
  },
  {
   "cell_type": "code",
   "execution_count": 167,
   "id": "35a81660",
   "metadata": {},
   "outputs": [
    {
     "name": "stdout",
     "output_type": "stream",
     "text": [
      "1.5431365561546417 3.841458820694124\n"
     ]
    }
   ],
   "source": [
    "print(chi2_val,stats.chi2.ppf(0.95,1))"
   ]
  },
  {
   "cell_type": "markdown",
   "id": "5799ef0c",
   "metadata": {},
   "source": [
    "## 12.7"
   ]
  },
  {
   "cell_type": "code",
   "execution_count": 163,
   "id": "0c03c9cc",
   "metadata": {},
   "outputs": [],
   "source": [
    "a = np.array([[36, 67, 49], [31, 60, 49], [58, 87, 80]])\n",
    "n = a.sum()"
   ]
  },
  {
   "cell_type": "code",
   "execution_count": 164,
   "id": "be8beb60",
   "metadata": {},
   "outputs": [],
   "source": [
    "fifj = a.sum(axis=1,keepdims=True)@a.sum(axis=0,keepdims=True)\n",
    "chi2_val = (pow(n*a - fifj,2)/(n*fifj)).sum()"
   ]
  },
  {
   "cell_type": "code",
   "execution_count": 168,
   "id": "f3cb1827",
   "metadata": {},
   "outputs": [
    {
     "name": "stdout",
     "output_type": "stream",
     "text": [
      "1.5431365561546417 9.487729036781154\n"
     ]
    }
   ],
   "source": [
    "print(chi2_val,stats.chi2.ppf(0.95,4))"
   ]
  },
  {
   "cell_type": "markdown",
   "id": "7c58aa96",
   "metadata": {},
   "source": [
    "## 11.8"
   ]
  },
  {
   "cell_type": "code",
   "execution_count": 169,
   "id": "777ffe75",
   "metadata": {},
   "outputs": [],
   "source": [
    "a = np.array([[18, 84], [8, 93]])\n",
    "n = a.sum()"
   ]
  },
  {
   "cell_type": "code",
   "execution_count": 176,
   "id": "e3e699a3",
   "metadata": {},
   "outputs": [],
   "source": [
    "p12_h = a[:,0] /a.sum(axis=1)\n",
    "p_h = a[:,0].sum()/n\n"
   ]
  },
  {
   "cell_type": "code",
   "execution_count": 182,
   "id": "3a847da2",
   "metadata": {},
   "outputs": [],
   "source": [
    "z = (p12_h[0] - p12_h[1])/np.sqrt(p_h*(1-p_h)*(1/102 + 1/101))"
   ]
  },
  {
   "cell_type": "code",
   "execution_count": 183,
   "id": "6f85d960",
   "metadata": {},
   "outputs": [
    {
     "name": "stdout",
     "output_type": "stream",
     "text": [
      "norm_val: 2.073393155507257\n",
      "1.959963984540054\n",
      "-1.9599639845400545\n"
     ]
    }
   ],
   "source": [
    "print(\"norm_val:\" , z)\n",
    "print(stats.norm.ppf(0.975))\n",
    "print(stats.norm.ppf(0.025))"
   ]
  },
  {
   "cell_type": "code",
   "execution_count": null,
   "id": "58b02ddc",
   "metadata": {},
   "outputs": [],
   "source": [
    "\n"
   ]
  }
 ],
 "metadata": {
  "kernelspec": {
   "display_name": "Python 3 (ipykernel)",
   "language": "python",
   "name": "python3"
  },
  "language_info": {
   "codemirror_mode": {
    "name": "ipython",
    "version": 3
   },
   "file_extension": ".py",
   "mimetype": "text/x-python",
   "name": "python",
   "nbconvert_exporter": "python",
   "pygments_lexer": "ipython3",
   "version": "3.7.12"
  }
 },
 "nbformat": 4,
 "nbformat_minor": 5
}
