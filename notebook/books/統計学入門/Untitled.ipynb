{
 "cells": [
  {
   "cell_type": "code",
   "execution_count": 1,
   "id": "be0a0583",
   "metadata": {},
   "outputs": [],
   "source": [
    "import numpy as np\n",
    "import numpy as np\n",
    "import matplotlib.pyplot as plt\n",
    "from numpy.linalg import inv"
   ]
  },
  {
   "cell_type": "markdown",
   "id": "a398edc0",
   "metadata": {},
   "source": [
    "## 13.1 "
   ]
  },
  {
   "cell_type": "code",
   "execution_count": 5,
   "id": "749d5f22",
   "metadata": {},
   "outputs": [],
   "source": [
    "x = np.array([2., 2., 2., 2., 2.5, 2.5, 2.5, 2.5, 2.5, 2.5, 3., 3., 3., 3., 3., 3., 3., 3.5, 3.5, 3.5, 3.5, 3.5, 3.5, 4., 4., 4., 4., 4., 4., 4., 4.5, 4.5, 4.5, 4.5, 4.5, 4.5, 5., 5., 5., 5., 5., 5., 5.5, 5.5, 5.5, 5.5, 5.5, 5.5, 6., 6., 6., 6., 6., 6.5, 6.5, 6.5, 6.5, 7.])\n",
    "y = np.array([2., 2.5, 2.5, 3., 2., 2.5, 3., 3., 3., 3.5, 2.5, 3., 3., 3.5, 3.5, 4., 4.5, 3., 3.5, 4., 4.5, 5., 5.5, 3.5, 4., 4.5, 4.5, 5., 5.5, 5.5, 4., 4.5, 5., 5., 5.5, 5.5, 6., 4.5, 5., 5.5, 6., 6.5, 5., 5.5, 5.5, 6., 6.5, 7., 5.5, 5.5, 6., 6.5, 7., 5.5, 6.5, 7., 7., 7.5])"
   ]
  },
  {
   "cell_type": "markdown",
   "id": "61a84482",
   "metadata": {},
   "source": [
    "## 13.1 (ii)"
   ]
  },
  {
   "cell_type": "markdown",
   "id": "1111f912",
   "metadata": {},
   "source": [
    "zz"
   ]
  },
  {
   "cell_type": "code",
   "execution_count": 6,
   "id": "e7c80076",
   "metadata": {},
   "outputs": [],
   "source": [
    "mat = np.array([[len(x), x.sum()], [x.sum(), x@x.T]])\n",
    "ys = np.array([y.sum(),x@y])"
   ]
  },
  {
   "cell_type": "code",
   "execution_count": 9,
   "id": "8c615b36",
   "metadata": {},
   "outputs": [
    {
     "name": "stdout",
     "output_type": "stream",
     "text": [
      "0.7261717521232924 0.9324473104749931\n"
     ]
    }
   ],
   "source": [
    "b1, b2 = inv(mat)@ys\n",
    "print(b1, b2)"
   ]
  },
  {
   "cell_type": "code",
   "execution_count": 22,
   "id": "209d3c39",
   "metadata": {},
   "outputs": [
    {
     "data": {
      "image/png": "[encoded data removed]",
      "text/plain": [
       "<Figure size 432x288 with 1 Axes>"
      ]
     },
     "metadata": {
      "needs_background": "light"
     },
     "output_type": "display_data"
    }
   ],
   "source": [
    "x = np.array([2., 2., 2., 2., 2.5, 2.5, 2.5, 2.5, 2.5, 2.5, 3., 3., 3., 3., 3., 3., 3., 3.5, 3.5, 3.5, 3.5, 3.5, 3.5, 4., 4., 4., 4., 4., 4., 4., 4.5, 4.5, 4.5, 4.5, 4.5, 4.5, 5., 5., 5., 5., 5., 5., 5.5, 5.5, 5.5, 5.5, 5.5, 5.5, 6., 6., 6., 6., 6., 6.5, 6.5, 6.5, 6.5, 7.])\n",
    "y = np.array([2., 2.5, 2.5, 3., 2., 2.5, 3., 3., 3., 3.5, 2.5, 3., 3., 3.5, 3.5, 4., 4.5, 3., 3.5, 4., 4.5, 5., 5.5, 3.5, 4., 4.5, 4.5, 5., 5.5, 5.5, 4., 4.5, 5., 5., 5.5, 5.5, 6., 4.5, 5., 5.5, 6., 6.5, 5., 5.5, 5.5, 6., 6.5, 7., 5.5, 5.5, 6., 6.5, 7., 5.5, 6.5, 7., 7., 7.5])\n",
    "\n",
    "x_h = [i/10 for i in range(20,72)]\n",
    "y_h = [b1 + b2*x for x in x_h]\n",
    "\n",
    "plt.scatter(x,y)\n",
    "plt.scatter(x_h,y_h)\n",
    "plt.show()"
   ]
  },
  {
   "cell_type": "markdown",
   "id": "5243b117",
   "metadata": {},
   "source": [
    "## 13.1 (iii)"
   ]
  },
  {
   "cell_type": "code",
   "execution_count": 23,
   "id": "07886522",
   "metadata": {},
   "outputs": [],
   "source": [
    "x = np.array([2., 2., 2., 2., 2.5, 2.5, 2.5, 2.5, 2.5, 2.5, 3., 3., 3., 3., 3., 3., 3., 3.5, 3.5, 3.5, 3.5, 3.5, 3.5, 4., 4., 4., 4., 4., 4., 4., 4.5, 4.5, 4.5, 4.5, 4.5, 4.5, 5., 5., 5., 5., 5., 5., 5.5, 5.5, 5.5, 5.5, 5.5, 5.5, 6., 6., 6., 6., 6., 6.5, 6.5, 6.5, 6.5, 7.])\n",
    "y = np.array([2., 2.5, 2.5, 3., 2., 2.5, 3., 3., 3., 3.5, 2.5, 3., 3., 3.5, 3.5, 4., 4.5, 3., 3.5, 4., 4.5, 5., 5.5, 3.5, 4., 4.5, 4.5, 5., 5.5, 5.5, 4., 4.5, 5., 5., 5.5, 5.5, 6., 4.5, 5., 5.5, 6., 6.5, 5., 5.5, 5.5, 6., 6.5, 7., 5.5, 5.5, 6., 6.5, 7., 5.5, 6.5, 7., 7., 7.5])\n",
    "\n",
    "y_h = [b1 + b2*x for x in x]"
   ]
  },
  {
   "cell_type": "code",
   "execution_count": 11,
   "id": "e8f8355c",
   "metadata": {},
   "outputs": [],
   "source": [
    "def div(X):\n",
    "    return (X-np.mean(X))@(X-np.mean(X)).T"
   ]
  },
  {
   "cell_type": "code",
   "execution_count": 29,
   "id": "6cc797c9",
   "metadata": {},
   "outputs": [],
   "source": [
    "se_2 = div(y_h - y)/(len(y)-2)"
   ]
  },
  {
   "cell_type": "code",
   "execution_count": 15,
   "id": "03c8cfc5",
   "metadata": {},
   "outputs": [],
   "source": [
    "b2h = b2\n",
    "myu = 0.9"
   ]
  },
  {
   "cell_type": "code",
   "execution_count": 19,
   "id": "97af9e01",
   "metadata": {},
   "outputs": [
    {
     "data": {
      "text/plain": [
       "0.13972598464195532"
      ]
     },
     "execution_count": 19,
     "metadata": {},
     "output_type": "execute_result"
    }
   ],
   "source": [
    "np.sqrt(s_2/div(x))"
   ]
  },
  {
   "cell_type": "code",
   "execution_count": 30,
   "id": "240a5c54",
   "metadata": {},
   "outputs": [
    {
     "data": {
      "text/plain": [
       "0.5132092804206537"
      ]
     },
     "execution_count": 30,
     "metadata": {},
     "output_type": "execute_result"
    }
   ],
   "source": [
    "(b2h - myu)/np.sqrt(se_2/div(x))"
   ]
  },
  {
   "cell_type": "code",
   "execution_count": 31,
   "id": "136a2881",
   "metadata": {},
   "outputs": [],
   "source": [
    "from scipy import stats"
   ]
  },
  {
   "cell_type": "code",
   "execution_count": 35,
   "id": "29c67d73",
   "metadata": {},
   "outputs": [
    {
     "name": "stdout",
     "output_type": "stream",
     "text": [
      "-2.003240717496698 2.0032407174966975\n"
     ]
    }
   ],
   "source": [
    "l = stats.t.ppf(0.025,len(y)-2)\n",
    "r = stats.t.ppf(0.975,len(y)-2)\n",
    "print(l, r)"
   ]
  },
  {
   "cell_type": "markdown",
   "id": "fbbedcb3",
   "metadata": {},
   "source": [
    "## 13.1 (iv)"
   ]
  },
  {
   "cell_type": "code",
   "execution_count": 43,
   "id": "a5ed0ecd",
   "metadata": {},
   "outputs": [
    {
     "name": "stdout",
     "output_type": "stream",
     "text": [
      "3.5\n"
     ]
    }
   ],
   "source": [
    "x = np.array([2., 2., 2., 2., 2.5, 2.5, 2.5, 2.5, 2.5, 2.5, 3., 3., 3., 3., 3., 3., 3., 3.5, 3.5, 3.5, 3.5, 3.5, 3.5, 4., 4., 4., 4., 4., 4., 4., 4.5, 4.5, 4.5, 4.5, 4.5, 4.5, 5., 5., 5., 5., 5., 5., 5.5, 5.5, 5.5, 5.5, 5.5, 5.5, 6., 6., 6., 6., 6., 6.5, 6.5, 6.5, 6.5, 7.])\n",
    "y = np.array([2., 2.5, 2.5, 3., 2., 2.5, 3., 3., 3., 3.5, 2.5, 3., 3., 3.5, 3.5, 4., 4.5, 3., 3.5, 4., 4.5, 5., 5.5, 3.5, 4., 4.5, 4.5, 5., 5.5, 5.5, 4., 4.5, 5., 5., 5.5, 5.5, 6., 4.5, 5., 5.5, 6., 6.5, 5., 5.5, 5.5, 6., 6.5, 7., 5.5, 5.5, 6., 6.5, 7., 5.5, 6.5, 7., 7., 7.5])\n",
    "y_h = [b1 + b2*x for x in x]\n",
    "\n",
    "for _,a,b in zip(x,y, y_h):\n",
    "    dif = abs(a- b)\n",
    "    if dif >= 2*np.sqrt(se_2):\n",
    "        print(_)"
   ]
  },
  {
   "cell_type": "markdown",
   "id": "a6175b72",
   "metadata": {},
   "source": [
    "## 13.1 (v)"
   ]
  },
  {
   "cell_type": "code",
   "execution_count": 37,
   "id": "1607815e",
   "metadata": {},
   "outputs": [
    {
     "name": "stdout",
     "output_type": "stream",
     "text": [
      "8.185750235923237\n"
     ]
    }
   ],
   "source": [
    "print(b1 + b2*8)"
   ]
  },
  {
   "cell_type": "code",
   "execution_count": null,
   "id": "4fe931fa",
   "metadata": {},
   "outputs": [],
   "source": []
  }
 ],
 "metadata": {
  "kernelspec": {
   "display_name": "Python 3 (ipykernel)",
   "language": "python",
   "name": "python3"
  },
  "language_info": {
   "codemirror_mode": {
    "name": "ipython",
    "version": 3
   },
   "file_extension": ".py",
   "mimetype": "text/x-python",
   "name": "python",
   "nbconvert_exporter": "python",
   "pygments_lexer": "ipython3",
   "version": "3.7.12"
  }
 },
 "nbformat": 4,
 "nbformat_minor": 5
}
