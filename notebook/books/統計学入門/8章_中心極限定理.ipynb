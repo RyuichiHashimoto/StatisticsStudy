{
 "cells": [
  {
   "cell_type": "code",
   "execution_count": 44,
   "id": "a291c3bb",
   "metadata": {},
   "outputs": [],
   "source": [
    "from scipy.special import comb\n",
    "import math"
   ]
  },
  {
   "cell_type": "code",
   "execution_count": 45,
   "id": "255cc20d",
   "metadata": {},
   "outputs": [],
   "source": [
    "def f(x,n,p):\n",
    "    return comb(n,x) * math.pow(p,x)* math.pow(1 - p,n-x)\n",
    "#     return comb(n,x)*(p**x)* ((1-p)**x)"
   ]
  },
  {
   "cell_type": "code",
   "execution_count": 52,
   "id": "e8c904aa",
   "metadata": {},
   "outputs": [],
   "source": [
    "p = 0.5\n",
    "# n = 1_000_000\n",
    "n = 1_000\n",
    "ps = [f(x,n,p) for x in range(0,n+1)]"
   ]
  },
  {
   "cell_type": "code",
   "execution_count": 53,
   "id": "0368e8bc",
   "metadata": {},
   "outputs": [],
   "source": [
    "E = n*p\n",
    "v = n*p*(1-p)"
   ]
  },
  {
   "cell_type": "code",
   "execution_count": 54,
   "id": "359331a4",
   "metadata": {},
   "outputs": [],
   "source": [
    "z = [(_p - E)/math.sqrt(v) for _p in ps]"
   ]
  },
  {
   "cell_type": "code",
   "execution_count": 55,
   "id": "6098cfaa",
   "metadata": {},
   "outputs": [],
   "source": [
    "import matplotlib.pyplot as plt"
   ]
  },
  {
   "cell_type": "code",
   "execution_count": 56,
   "id": "33a7c8af",
   "metadata": {},
   "outputs": [
    {
     "name": "stdout",
     "output_type": "stream",
     "text": [
      "[-31.622776601683793, -31.622776601683793, -31.622776601683793, -31.622776601683793, -31.622776601683793]\n"
     ]
    }
   ],
   "source": [
    "print(z[:5])"
   ]
  },
  {
   "cell_type": "code",
   "execution_count": 57,
   "id": "95be4803",
   "metadata": {},
   "outputs": [
    {
     "data": {
      "text/plain": [
       "[<matplotlib.lines.Line2D at 0x7ff9098f8d50>]"
      ]
     },
     "execution_count": 57,
     "metadata": {},
     "output_type": "execute_result"
    },
    {
     "data": {
      "image/png": "[encoded data removed]",
      "text/plain": [
       "<Figure size 432x288 with 1 Axes>"
      ]
     },
     "metadata": {
      "needs_background": "light"
     },
     "output_type": "display_data"
    }
   ],
   "source": [
    "plt.plot([x for x in range(0,n+1)],z)"
   ]
  },
  {
   "cell_type": "code",
   "execution_count": null,
   "id": "571f8ef8",
   "metadata": {},
   "outputs": [],
   "source": []
  }
 ],
 "metadata": {
  "kernelspec": {
   "display_name": "Python 3 (ipykernel)",
   "language": "python",
   "name": "python3"
  },
  "language_info": {
   "codemirror_mode": {
    "name": "ipython",
    "version": 3
   },
   "file_extension": ".py",
   "mimetype": "text/x-python",
   "name": "python",
   "nbconvert_exporter": "python",
   "pygments_lexer": "ipython3",
   "version": "3.7.12"
  }
 },
 "nbformat": 4,
 "nbformat_minor": 5
}
