{
 "cells": [
  {
   "cell_type": "code",
   "execution_count": 2,
   "id": "dc2b633f-e9fb-4f9b-a61d-cccf3b0527bf",
   "metadata": {},
   "outputs": [],
   "source": [
    "import torch"
   ]
  },
  {
   "cell_type": "code",
   "execution_count": 4,
   "id": "8ea6ef50-758b-49ce-af7f-878d680fedfa",
   "metadata": {},
   "outputs": [
    {
     "data": {
      "text/plain": [
       "'1.11.0'"
      ]
     },
     "execution_count": 4,
     "metadata": {},
     "output_type": "execute_result"
    }
   ],
   "source": [
    "torch.__version__"
   ]
  },
  {
   "cell_type": "code",
   "execution_count": 154,
   "id": "fc3660be-897a-441a-a736-1f9f3d211f0d",
   "metadata": {},
   "outputs": [
    {
     "name": "stdout",
     "output_type": "stream",
     "text": [
      "CPU times: user 1min 6s, sys: 0 ns, total: 1min 6s\n",
      "Wall time: 1min 6s\n"
     ]
    }
   ],
   "source": [
    "%%time\n",
    "vec = [1 for i in range(12)]\n",
    "c = 0\n",
    "a = set()\n",
    "while next_permutation(vec, 20):\n",
    "    c += 1    \n",
    "    if vec[0] not in a:\n",
    "        a.add(vec[0])\n",
    "        # print(c)\n",
    "        \n",
    "    \n",
    "    pass\n",
    "    # print_vec(vec)            "
   ]
  },
  {
   "cell_type": "code",
   "execution_count": null,
   "id": "d92d092b-7d5a-41e3-8002-24f9b09d5084",
   "metadata": {},
   "outputs": [],
   "source": []
  },
  {
   "cell_type": "code",
   "execution_count": null,
   "id": "1385bcd4",
   "metadata": {},
   "outputs": [],
   "source": [
    "\n",
    "    \n",
    "    \n",
    "    \n",
    "    \n",
    "    \n",
    "\n",
    "\n",
    "def lower_bound(tgt,vec):\n",
    "    l = 0\n",
    "    r = len(vec)\n",
    "    \n",
    "    while r-l>1:\n",
    "        mid = (l+r)//2\n",
    "        if vec[mid] == tgt:\n",
    "            return True\n",
    "            \n",
    "        \n",
    "    \n",
    "    \n",
    "    \n",
    "def dfs(w,h,s,last_add_idx, vec):\n",
    "    \n",
    "    \n",
    "    \n",
    "    \n",
    "\n",
    "def solution(w, h, s):\n",
    "    \n",
    "    vec = [1 for i in range(w)]\n",
    "    \n",
    "    print(vec)\n",
    "    dfs(w,h,s, vec)\n",
    "    print(vec)\n",
    "    \n",
    "    \n",
    "    \n",
    "    return 0\n",
    "\n",
    "\n",
    "print(solution(2,2,2))\n"
   ]
  },
  {
   "cell_type": "code",
   "execution_count": null,
   "id": "0933fb8b-8a3e-4eec-8a2a-1c988f015138",
   "metadata": {},
   "outputs": [],
   "source": []
  },
  {
   "cell_type": "code",
   "execution_count": null,
   "id": "b1c7732f-473d-4eb7-9482-ec5a110a18e9",
   "metadata": {},
   "outputs": [],
   "source": []
  }
 ],
 "metadata": {
  "kernelspec": {
   "display_name": "Python 3 (ipykernel)",
   "language": "python",
   "name": "python3"
  },
  "language_info": {
   "codemirror_mode": {
    "name": "ipython",
    "version": 3
   },
   "file_extension": ".py",
   "mimetype": "text/x-python",
   "name": "python",
   "nbconvert_exporter": "python",
   "pygments_lexer": "ipython3",
   "version": "3.7.12"
  }
 },
 "nbformat": 4,
 "nbformat_minor": 5
}
